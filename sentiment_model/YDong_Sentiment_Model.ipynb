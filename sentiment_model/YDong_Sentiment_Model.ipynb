{
  "cells": [
    {
      "cell_type": "code",
      "execution_count": 20,
      "metadata": {
        "id": "cQiztDIKphxH"
      },
      "outputs": [],
      "source": [
        "import pandas as pd\n",
        "import numpy as np\n",
        "import warnings\n",
        "\n",
        "warnings.simplefilter(\n",
        "    action=\"ignore\", category=FutureWarning\n",
        ")  # Deprecation warnings for later version of sklearn"
      ]
    },
    {
      "cell_type": "code",
      "execution_count": 21,
      "metadata": {
        "id": "qLT2zwzLtIjx"
      },
      "outputs": [],
      "source": [
        "r_df = pd.read_csv(\"data/Reddit_Data.csv\")\n",
        "t_df = pd.read_csv(\"data/Twitter_Data.csv\")\n",
        "test_df = pd.read_csv(\"data/sentimentdataset.csv\")"
      ]
    },
    {
      "cell_type": "code",
      "execution_count": 22,
      "metadata": {
        "id": "S5xJ8r2eweoR"
      },
      "outputs": [],
      "source": [
        "r_df.columns = [\"Text\", \"Label\"]\n",
        "t_df.columns = [\"Text\", \"Label\"]\n",
        "\n",
        "r_df = r_df.dropna()\n",
        "t_df = t_df.dropna()"
      ]
    },
    {
      "cell_type": "code",
      "execution_count": 23,
      "metadata": {
        "colab": {
          "base_uri": "https://localhost:8080/"
        },
        "id": "8k_dye0Hxp7L",
        "outputId": "84177b2c-09dd-4235-f1b6-67f5ff20fe5c"
      },
      "outputs": [
        {
          "name": "stderr",
          "output_type": "stream",
          "text": [
            "[nltk_data] Downloading package vader_lexicon to\n",
            "[nltk_data]     /Users/michaelnguy/nltk_data...\n",
            "[nltk_data]   Package vader_lexicon is already up-to-date!\n"
          ]
        }
      ],
      "source": [
        "from nltk.sentiment.vader import SentimentIntensityAnalyzer\n",
        "import nltk\n",
        "\n",
        "nltk.download(\"vader_lexicon\")\n",
        "\n",
        "\n",
        "def get_sentiment_label(word):\n",
        "    sia = SentimentIntensityAnalyzer()\n",
        "    sentiment_scores = sia.polarity_scores(word)\n",
        "    compound_score = sentiment_scores[\"compound\"]\n",
        "    if compound_score >= 0.05:\n",
        "        return 1  # Positive\n",
        "    elif compound_score <= -0.05:\n",
        "        return -1  # Negative\n",
        "    else:\n",
        "        return 0  # Neutral\n",
        "\n",
        "\n",
        "test_df[\"Label\"] = test_df[\"Sentiment\"].apply(get_sentiment_label)"
      ]
    },
    {
      "cell_type": "code",
      "execution_count": 24,
      "metadata": {
        "id": "-S0Q4fTvt-9m"
      },
      "outputs": [],
      "source": [
        "df = pd.concat([r_df, t_df])\n",
        "df[\"Text\"] = df[\"Text\"].astype(str)\n",
        "\n",
        "test_df[\"Text\"] = test_df[\"Text\"].astype(str)"
      ]
    },
    {
      "cell_type": "markdown",
      "metadata": {
        "id": "blbTA4u-hCG0"
      },
      "source": [
        "Text Preprocessing\n"
      ]
    },
    {
      "cell_type": "code",
      "execution_count": 25,
      "metadata": {
        "colab": {
          "base_uri": "https://localhost:8080/"
        },
        "id": "knpueR4k-Rgj",
        "outputId": "07ee5c21-08cd-4aae-b18c-d4f7a432a375"
      },
      "outputs": [
        {
          "name": "stderr",
          "output_type": "stream",
          "text": [
            "[nltk_data] Downloading package wordnet to\n",
            "[nltk_data]     /Users/michaelnguy/nltk_data...\n",
            "[nltk_data]   Package wordnet is already up-to-date!\n",
            "[nltk_data] Downloading package omw-1.4 to\n",
            "[nltk_data]     /Users/michaelnguy/nltk_data...\n",
            "[nltk_data]   Package omw-1.4 is already up-to-date!\n",
            "[nltk_data] Downloading package punkt to\n",
            "[nltk_data]     /Users/michaelnguy/nltk_data...\n",
            "[nltk_data]   Package punkt is already up-to-date!\n",
            "[nltk_data] Downloading package stopwords to\n",
            "[nltk_data]     /Users/michaelnguy/nltk_data...\n",
            "[nltk_data]   Package stopwords is already up-to-date!\n"
          ]
        }
      ],
      "source": [
        "import nltk\n",
        "from nltk.corpus import stopwords\n",
        "from nltk.stem import WordNetLemmatizer\n",
        "from nltk.stem.porter import PorterStemmer\n",
        "import emoji\n",
        "import re\n",
        "import contractions\n",
        "from collections import OrderedDict\n",
        "\n",
        "# Download NLTK data\n",
        "nltk.download(\"wordnet\")\n",
        "nltk.download(\"omw-1.4\")\n",
        "nltk.download(\"punkt\")\n",
        "nltk.download(\"stopwords\")\n",
        "\n",
        "# Initialize the necessary tools\n",
        "lemmatizer = WordNetLemmatizer()\n",
        "stemmer = PorterStemmer()\n",
        "stop_words = set(stopwords.words(\"english\"))\n",
        "\n",
        "\n",
        "def expand_contractions(text):\n",
        "    return contractions.fix(text)\n",
        "\n",
        "\n",
        "def preprocess_text(text):\n",
        "    # Convert to lowercase\n",
        "    text = text.lower()\n",
        "\n",
        "    # Expand contractions\n",
        "    text = expand_contractions(text)\n",
        "\n",
        "    # Convert emojis to text\n",
        "    text = emoji.demojize(text)\n",
        "\n",
        "    # Remove URLs\n",
        "    text = re.sub(r\"http\\S+|www\\S+|https\\S+\", \" \", text, flags=re.MULTILINE)\n",
        "\n",
        "    # Remove mentions and hashtags\n",
        "    text = re.sub(r\"@\\w+|#\\w+\", \" \", text)\n",
        "\n",
        "    # Remove special characters and numbers\n",
        "    text = re.sub(r\"[^a-zA-Z\\s]\", \" \", text)\n",
        "\n",
        "    # Tokenize text\n",
        "    tokens = nltk.word_tokenize(text)\n",
        "\n",
        "    # Lemmatize and stem each token\n",
        "    tokens = [lemmatizer.lemmatize(token) for token in tokens if token is not None]\n",
        "    tokens = [stemmer.stem(token) for token in tokens]\n",
        "\n",
        "    # Remove stop words\n",
        "    tokens = [token for token in tokens if token not in stop_words]\n",
        "\n",
        "    # Remove duplicate tokens while preserving order\n",
        "    tokens = list(OrderedDict.fromkeys(tokens))\n",
        "\n",
        "    # Remove extra whitespace\n",
        "    text = \" \".join(tokens)\n",
        "    text = re.sub(r\"\\s+\", \" \", text).strip()\n",
        "\n",
        "    return text\n",
        "\n",
        "\n",
        "# Preprocess the comments\n",
        "df[\"Preproc\"] = df[\"Text\"].apply(preprocess_text)\n",
        "test_df[\"Preproc\"] = test_df[\"Text\"].apply(preprocess_text)"
      ]
    },
    {
      "cell_type": "markdown",
      "metadata": {
        "id": "hEwxEHxghKuS"
      },
      "source": [
        "Logistic Regression\n"
      ]
    },
    {
      "cell_type": "code",
      "execution_count": 26,
      "metadata": {
        "id": "Q5ohBmCv-p1z"
      },
      "outputs": [],
      "source": [
        "import numpy as np\n",
        "from sklearn.model_selection import train_test_split\n",
        "\n",
        "X_train, X_val, y_train, y_val = train_test_split(\n",
        "    df[\"Preproc\"], df[\"Label\"], test_size=0.2, random_state=42\n",
        ")\n",
        "X_test = test_df[\"Preproc\"]\n",
        "y_test = test_df[\"Label\"]"
      ]
    },
    {
      "cell_type": "code",
      "execution_count": 27,
      "metadata": {
        "colab": {
          "base_uri": "https://localhost:8080/"
        },
        "id": "lWTmTcfP6HSq",
        "outputId": "a5cd078d-8ee5-433f-f4b7-57fb2277e907"
      },
      "outputs": [
        {
          "name": "stdout",
          "output_type": "stream",
          "text": [
            "done with 0.75 1 (1, 1) 5000 0.1 lbfgs ovr\n",
            "done with 0.75 1 (1, 1) 5000 0.1 lbfgs multinomial\n",
            "done with 0.75 1 (1, 1) 5000 0.1 liblinear ovr\n",
            "done with 0.75 1 (1, 1) 5000 1 lbfgs ovr\n",
            "done with 0.75 1 (1, 1) 5000 1 lbfgs multinomial\n",
            "done with 0.75 1 (1, 1) 5000 1 liblinear ovr\n",
            "done with 0.75 1 (1, 1) 5000 10 lbfgs ovr\n",
            "done with 0.75 1 (1, 1) 5000 10 lbfgs multinomial\n",
            "done with 0.75 1 (1, 1) 5000 10 liblinear ovr\n",
            "done with 0.75 1 (1, 1) 5000 20 lbfgs ovr\n",
            "done with 0.75 1 (1, 1) 5000 20 lbfgs multinomial\n",
            "done with 0.75 1 (1, 1) 5000 20 liblinear ovr\n",
            "done with 0.75 1 (1, 1) 5000 50 lbfgs ovr\n",
            "done with 0.75 1 (1, 1) 5000 50 lbfgs multinomial\n",
            "done with 0.75 1 (1, 1) 5000 50 liblinear ovr\n",
            "done with 0.75 1 (1, 1) 5000 100 lbfgs ovr\n",
            "done with 0.75 1 (1, 1) 5000 100 lbfgs multinomial\n",
            "done with 0.75 1 (1, 1) 5000 100 liblinear ovr\n",
            "done with 0.75 1 (1, 2) 5000 0.1 lbfgs ovr\n",
            "done with 0.75 1 (1, 2) 5000 0.1 lbfgs multinomial\n",
            "done with 0.75 1 (1, 2) 5000 0.1 liblinear ovr\n",
            "done with 0.75 1 (1, 2) 5000 1 lbfgs ovr\n",
            "done with 0.75 1 (1, 2) 5000 1 lbfgs multinomial\n",
            "done with 0.75 1 (1, 2) 5000 1 liblinear ovr\n",
            "done with 0.75 1 (1, 2) 5000 10 lbfgs ovr\n",
            "done with 0.75 1 (1, 2) 5000 10 lbfgs multinomial\n",
            "done with 0.75 1 (1, 2) 5000 10 liblinear ovr\n",
            "done with 0.75 1 (1, 2) 5000 20 lbfgs ovr\n",
            "done with 0.75 1 (1, 2) 5000 20 lbfgs multinomial\n",
            "done with 0.75 1 (1, 2) 5000 20 liblinear ovr\n",
            "done with 0.75 1 (1, 2) 5000 50 lbfgs ovr\n",
            "done with 0.75 1 (1, 2) 5000 50 lbfgs multinomial\n",
            "done with 0.75 1 (1, 2) 5000 50 liblinear ovr\n",
            "done with 0.75 1 (1, 2) 5000 100 lbfgs ovr\n",
            "done with 0.75 1 (1, 2) 5000 100 lbfgs multinomial\n",
            "done with 0.75 1 (1, 2) 5000 100 liblinear ovr\n",
            "done with 0.75 2 (1, 1) 5000 0.1 lbfgs ovr\n",
            "done with 0.75 2 (1, 1) 5000 0.1 lbfgs multinomial\n",
            "done with 0.75 2 (1, 1) 5000 0.1 liblinear ovr\n",
            "done with 0.75 2 (1, 1) 5000 1 lbfgs ovr\n",
            "done with 0.75 2 (1, 1) 5000 1 lbfgs multinomial\n",
            "done with 0.75 2 (1, 1) 5000 1 liblinear ovr\n",
            "done with 0.75 2 (1, 1) 5000 10 lbfgs ovr\n",
            "done with 0.75 2 (1, 1) 5000 10 lbfgs multinomial\n",
            "done with 0.75 2 (1, 1) 5000 10 liblinear ovr\n",
            "done with 0.75 2 (1, 1) 5000 20 lbfgs ovr\n",
            "done with 0.75 2 (1, 1) 5000 20 lbfgs multinomial\n",
            "done with 0.75 2 (1, 1) 5000 20 liblinear ovr\n",
            "done with 0.75 2 (1, 1) 5000 50 lbfgs ovr\n",
            "done with 0.75 2 (1, 1) 5000 50 lbfgs multinomial\n",
            "done with 0.75 2 (1, 1) 5000 50 liblinear ovr\n",
            "done with 0.75 2 (1, 1) 5000 100 lbfgs ovr\n",
            "done with 0.75 2 (1, 1) 5000 100 lbfgs multinomial\n",
            "done with 0.75 2 (1, 1) 5000 100 liblinear ovr\n",
            "done with 0.75 2 (1, 2) 5000 0.1 lbfgs ovr\n",
            "done with 0.75 2 (1, 2) 5000 0.1 lbfgs multinomial\n",
            "done with 0.75 2 (1, 2) 5000 0.1 liblinear ovr\n",
            "done with 0.75 2 (1, 2) 5000 1 lbfgs ovr\n",
            "done with 0.75 2 (1, 2) 5000 1 lbfgs multinomial\n",
            "done with 0.75 2 (1, 2) 5000 1 liblinear ovr\n",
            "done with 0.75 2 (1, 2) 5000 10 lbfgs ovr\n",
            "done with 0.75 2 (1, 2) 5000 10 lbfgs multinomial\n",
            "done with 0.75 2 (1, 2) 5000 10 liblinear ovr\n",
            "done with 0.75 2 (1, 2) 5000 20 lbfgs ovr\n",
            "done with 0.75 2 (1, 2) 5000 20 lbfgs multinomial\n",
            "done with 0.75 2 (1, 2) 5000 20 liblinear ovr\n",
            "done with 0.75 2 (1, 2) 5000 50 lbfgs ovr\n",
            "done with 0.75 2 (1, 2) 5000 50 lbfgs multinomial\n",
            "done with 0.75 2 (1, 2) 5000 50 liblinear ovr\n",
            "done with 0.75 2 (1, 2) 5000 100 lbfgs ovr\n",
            "done with 0.75 2 (1, 2) 5000 100 lbfgs multinomial\n",
            "done with 0.75 2 (1, 2) 5000 100 liblinear ovr\n",
            "done with 1.0 1 (1, 1) 5000 0.1 lbfgs ovr\n",
            "done with 1.0 1 (1, 1) 5000 0.1 lbfgs multinomial\n",
            "done with 1.0 1 (1, 1) 5000 0.1 liblinear ovr\n",
            "done with 1.0 1 (1, 1) 5000 1 lbfgs ovr\n",
            "done with 1.0 1 (1, 1) 5000 1 lbfgs multinomial\n",
            "done with 1.0 1 (1, 1) 5000 1 liblinear ovr\n",
            "done with 1.0 1 (1, 1) 5000 10 lbfgs ovr\n",
            "done with 1.0 1 (1, 1) 5000 10 lbfgs multinomial\n",
            "done with 1.0 1 (1, 1) 5000 10 liblinear ovr\n",
            "done with 1.0 1 (1, 1) 5000 20 lbfgs ovr\n",
            "done with 1.0 1 (1, 1) 5000 20 lbfgs multinomial\n",
            "done with 1.0 1 (1, 1) 5000 20 liblinear ovr\n",
            "done with 1.0 1 (1, 1) 5000 50 lbfgs ovr\n",
            "done with 1.0 1 (1, 1) 5000 50 lbfgs multinomial\n",
            "done with 1.0 1 (1, 1) 5000 50 liblinear ovr\n",
            "done with 1.0 1 (1, 1) 5000 100 lbfgs ovr\n",
            "done with 1.0 1 (1, 1) 5000 100 lbfgs multinomial\n",
            "done with 1.0 1 (1, 1) 5000 100 liblinear ovr\n",
            "done with 1.0 1 (1, 2) 5000 0.1 lbfgs ovr\n",
            "done with 1.0 1 (1, 2) 5000 0.1 lbfgs multinomial\n",
            "done with 1.0 1 (1, 2) 5000 0.1 liblinear ovr\n",
            "done with 1.0 1 (1, 2) 5000 1 lbfgs ovr\n",
            "done with 1.0 1 (1, 2) 5000 1 lbfgs multinomial\n",
            "done with 1.0 1 (1, 2) 5000 1 liblinear ovr\n",
            "done with 1.0 1 (1, 2) 5000 10 lbfgs ovr\n",
            "done with 1.0 1 (1, 2) 5000 10 lbfgs multinomial\n",
            "done with 1.0 1 (1, 2) 5000 10 liblinear ovr\n",
            "done with 1.0 1 (1, 2) 5000 20 lbfgs ovr\n",
            "done with 1.0 1 (1, 2) 5000 20 lbfgs multinomial\n",
            "done with 1.0 1 (1, 2) 5000 20 liblinear ovr\n",
            "done with 1.0 1 (1, 2) 5000 50 lbfgs ovr\n",
            "done with 1.0 1 (1, 2) 5000 50 lbfgs multinomial\n",
            "done with 1.0 1 (1, 2) 5000 50 liblinear ovr\n",
            "done with 1.0 1 (1, 2) 5000 100 lbfgs ovr\n",
            "done with 1.0 1 (1, 2) 5000 100 lbfgs multinomial\n",
            "done with 1.0 1 (1, 2) 5000 100 liblinear ovr\n",
            "done with 1.0 2 (1, 1) 5000 0.1 lbfgs ovr\n",
            "done with 1.0 2 (1, 1) 5000 0.1 lbfgs multinomial\n",
            "done with 1.0 2 (1, 1) 5000 0.1 liblinear ovr\n",
            "done with 1.0 2 (1, 1) 5000 1 lbfgs ovr\n",
            "done with 1.0 2 (1, 1) 5000 1 lbfgs multinomial\n",
            "done with 1.0 2 (1, 1) 5000 1 liblinear ovr\n",
            "done with 1.0 2 (1, 1) 5000 10 lbfgs ovr\n",
            "done with 1.0 2 (1, 1) 5000 10 lbfgs multinomial\n",
            "done with 1.0 2 (1, 1) 5000 10 liblinear ovr\n",
            "done with 1.0 2 (1, 1) 5000 20 lbfgs ovr\n",
            "done with 1.0 2 (1, 1) 5000 20 lbfgs multinomial\n",
            "done with 1.0 2 (1, 1) 5000 20 liblinear ovr\n",
            "done with 1.0 2 (1, 1) 5000 50 lbfgs ovr\n",
            "done with 1.0 2 (1, 1) 5000 50 lbfgs multinomial\n",
            "done with 1.0 2 (1, 1) 5000 50 liblinear ovr\n",
            "done with 1.0 2 (1, 1) 5000 100 lbfgs ovr\n",
            "done with 1.0 2 (1, 1) 5000 100 lbfgs multinomial\n",
            "done with 1.0 2 (1, 1) 5000 100 liblinear ovr\n",
            "done with 1.0 2 (1, 2) 5000 0.1 lbfgs ovr\n",
            "done with 1.0 2 (1, 2) 5000 0.1 lbfgs multinomial\n",
            "done with 1.0 2 (1, 2) 5000 0.1 liblinear ovr\n",
            "done with 1.0 2 (1, 2) 5000 1 lbfgs ovr\n",
            "done with 1.0 2 (1, 2) 5000 1 lbfgs multinomial\n",
            "done with 1.0 2 (1, 2) 5000 1 liblinear ovr\n",
            "done with 1.0 2 (1, 2) 5000 10 lbfgs ovr\n",
            "done with 1.0 2 (1, 2) 5000 10 lbfgs multinomial\n",
            "done with 1.0 2 (1, 2) 5000 10 liblinear ovr\n",
            "done with 1.0 2 (1, 2) 5000 20 lbfgs ovr\n",
            "done with 1.0 2 (1, 2) 5000 20 lbfgs multinomial\n",
            "done with 1.0 2 (1, 2) 5000 20 liblinear ovr\n",
            "done with 1.0 2 (1, 2) 5000 50 lbfgs ovr\n",
            "done with 1.0 2 (1, 2) 5000 50 lbfgs multinomial\n",
            "done with 1.0 2 (1, 2) 5000 50 liblinear ovr\n",
            "done with 1.0 2 (1, 2) 5000 100 lbfgs ovr\n",
            "done with 1.0 2 (1, 2) 5000 100 lbfgs multinomial\n",
            "done with 1.0 2 (1, 2) 5000 100 liblinear ovr\n",
            "Best Vectorizer Parameters: {'max_df': 0.75, 'min_df': 2, 'ngram_range': (1, 1), 'max_features': 5000}\n",
            "Best Classifier Parameters: {'C': 20, 'solver': 'lbfgs', 'multi_class': 'ovr'}\n",
            "Test Set Performance:\n",
            "              precision    recall  f1-score   support\n",
            "\n",
            "          -1       0.67      0.36      0.47       183\n",
            "           0       0.27      0.49      0.35       171\n",
            "           1       0.70      0.60      0.65       378\n",
            "\n",
            "    accuracy                           0.52       732\n",
            "   macro avg       0.55      0.49      0.49       732\n",
            "weighted avg       0.59      0.52      0.53       732\n",
            "\n"
          ]
        }
      ],
      "source": [
        "from sklearn.feature_extraction.text import TfidfVectorizer\n",
        "from sklearn.linear_model import LogisticRegression\n",
        "from sklearn.metrics import classification_report, accuracy_score\n",
        "\n",
        "\n",
        "# Define parameter grids for the vectorizer\n",
        "vectorizer_param_grid = {\n",
        "    \"max_df\": [0.75, 1.0],\n",
        "    \"min_df\": [1, 2],\n",
        "    \"ngram_range\": [(1, 1), (1, 2)],\n",
        "    \"max_features\": [5000],\n",
        "}\n",
        "\n",
        "# Define parameter grid for the classifier\n",
        "classifier_param_grid = {\n",
        "    \"C\": [0.1, 1, 10, 20, 50, 100],\n",
        "    \"solver\": [\"lbfgs\", \"liblinear\"],\n",
        "    \"multi_class\": [\"ovr\", \"multinomial\"],\n",
        "}\n",
        "\n",
        "best_score = 0\n",
        "best_params = {}\n",
        "\n",
        "# Iterate over vectorizer parameter sets\n",
        "for max_df in vectorizer_param_grid[\"max_df\"]:\n",
        "    for min_df in vectorizer_param_grid[\"min_df\"]:\n",
        "        for ngram_range in vectorizer_param_grid[\"ngram_range\"]:\n",
        "            for max_features in vectorizer_param_grid[\"max_features\"]:\n",
        "                # Fit the vectorizer on the training set\n",
        "                vectorizer = TfidfVectorizer(\n",
        "                    max_df=max_df,\n",
        "                    min_df=min_df,\n",
        "                    ngram_range=ngram_range,\n",
        "                    max_features=max_features,\n",
        "                )\n",
        "                X_train_transformed = vectorizer.fit_transform(X_train)\n",
        "                X_val_transformed = vectorizer.transform(X_val)\n",
        "\n",
        "                # Iterate over classifier parameter\n",
        "                for C in classifier_param_grid[\"C\"]:\n",
        "                    for solver in classifier_param_grid[\"solver\"]:\n",
        "                        for multi_class in classifier_param_grid[\"multi_class\"]:\n",
        "                            # Skip incompatible combinations\n",
        "                            if solver == \"liblinear\" and multi_class == \"multinomial\":\n",
        "                                continue\n",
        "                            # Train the classifier on the training set\n",
        "                            classifier = LogisticRegression(\n",
        "                                C=C,\n",
        "                                solver=solver,\n",
        "                                multi_class=multi_class,\n",
        "                                max_iter=10000,\n",
        "                            )\n",
        "                            try:\n",
        "                                classifier.fit(X_train_transformed, y_train)\n",
        "\n",
        "                                # Evaluate the classifier on the validation set\n",
        "                                y_val_pred = classifier.predict(X_val_transformed)\n",
        "                                score = accuracy_score(y_val, y_val_pred)\n",
        "\n",
        "                                # Check if this is the best model so far\n",
        "                                if score > best_score:\n",
        "                                    best_score = score\n",
        "                                    best_params = {\n",
        "                                        \"vectorizer\": {\n",
        "                                            \"max_df\": max_df,\n",
        "                                            \"min_df\": min_df,\n",
        "                                            \"ngram_range\": ngram_range,\n",
        "                                            \"max_features\": max_features,\n",
        "                                        },\n",
        "                                        \"classifier\": {\n",
        "                                            \"C\": C,\n",
        "                                            \"solver\": solver,\n",
        "                                            \"multi_class\": multi_class,\n",
        "                                        },\n",
        "                                    }\n",
        "                                print(\n",
        "                                    \"done with\",\n",
        "                                    max_df,\n",
        "                                    min_df,\n",
        "                                    ngram_range,\n",
        "                                    max_features,\n",
        "                                    C,\n",
        "                                    solver,\n",
        "                                    multi_class,\n",
        "                                )\n",
        "                            except Exception as e:\n",
        "                                print(f\"Skipping combination due to error: {e}\")\n",
        "\n",
        "# Fit the vectorizer and classifier on the combined training+validation set using the best parameters\n",
        "best_vectorizer_params = best_params[\"vectorizer\"]\n",
        "vectorizer = TfidfVectorizer(**best_vectorizer_params)\n",
        "X_train_transformed = vectorizer.fit_transform(X_train)\n",
        "X_test_transformed = vectorizer.transform(X_test)\n",
        "\n",
        "best_classifier_params = best_params[\"classifier\"]\n",
        "classifier = LogisticRegression(**best_classifier_params, max_iter=10000)\n",
        "classifier.fit(X_train_transformed, y_train)\n",
        "\n",
        "# Evaluate the final model on the test set\n",
        "y_test_pred = classifier.predict(X_test_transformed)\n",
        "print(\"Best Vectorizer Parameters:\", best_vectorizer_params)\n",
        "print(\"Best Classifier Parameters:\", best_classifier_params)\n",
        "print(\"Test Set Performance:\")\n",
        "print(classification_report(y_test, y_test_pred))"
      ]
    },
    {
      "cell_type": "markdown",
      "metadata": {
        "id": "Jd7RY46Gj7Zq"
      },
      "source": [
        "Initial testing on real-world data found out that this model performs poorly on emojis - because the train sets didn't have any emojis.\n"
      ]
    },
    {
      "cell_type": "code",
      "execution_count": 28,
      "metadata": {
        "colab": {
          "base_uri": "https://localhost:8080/"
        },
        "id": "2bxpUOVrkVYc",
        "outputId": "75c63aa9-9984-4b52-e3f4-db680d2d2ba5"
      },
      "outputs": [
        {
          "data": {
            "text/plain": [
              "[['Hello this is great',\n",
              "  'This stinks bad',\n",
              "  'before and before',\n",
              "  'I got the same water bottle',\n",
              "  'Yo more of these! Run through all the styles pls',\n",
              "  '🔥🔥🔥😍😍',\n",
              "  '😍😍😍',\n",
              "  '🔥',\n",
              "  \"Here's how to look exactly the same\",\n",
              "  'And that will be $150 sir',\n",
              "  '😍',\n",
              "  'Best model 👏🔥🔥',\n",
              "  'Where do you get a water bottle like that?',\n",
              "  'His eyes are the opposite of Moesha.',\n",
              "  'dumbbbbb handsome 😍',\n",
              "  'Wtf 👎🏼 trash 🗑️'],\n",
              " array([ 1., -1.,  0.,  0.,  0.,  0.,  0.,  0.,  1.,  0.,  0.,  1.,  0.,\n",
              "         0.,  1., -1.])]"
            ]
          },
          "execution_count": 28,
          "metadata": {},
          "output_type": "execute_result"
        }
      ],
      "source": [
        "# Test on real-world data results:\n",
        "\n",
        "text = [\n",
        "    \"Hello this is great\",\n",
        "    \"This stinks bad\",\n",
        "    \"before and before\",\n",
        "    \"I got the same water bottle\",\n",
        "    \"Yo more of these! Run through all the styles pls\",\n",
        "    \"🔥🔥🔥😍😍\",\n",
        "    \"😍😍😍\",\n",
        "    \"🔥\",\n",
        "    \"Here's how to look exactly the same\",\n",
        "    \"And that will be $150 sir\",\n",
        "    \"😍\",\n",
        "    \"Best model 👏🔥🔥\",\n",
        "    \"Where do you get a water bottle like that?\",\n",
        "    \"His eyes are the opposite of Moesha.\",\n",
        "    \"dumbbbbb handsome 😍\",\n",
        "    \"Wtf 👎🏼 trash 🗑️\",\n",
        "]\n",
        "\n",
        "X_l = [preprocess_text(t) for t in text]\n",
        "X = pd.DataFrame(X_l)\n",
        "text_transformed = vectorizer.transform(X[0])\n",
        "senti_pred = classifier.predict(text_transformed)\n",
        "\n",
        "[text, senti_pred]"
      ]
    },
    {
      "cell_type": "markdown",
      "metadata": {
        "id": "9cbCMZtGUCVN"
      },
      "source": [
        "I decided to add following entries into the training sets and run model again.\n",
        "\n",
        "https://www.kaggle.com/code/infamouscoder/emoji-sentiment-features\n"
      ]
    },
    {
      "cell_type": "code",
      "execution_count": 29,
      "metadata": {
        "id": "FcuQghk-QsQK"
      },
      "outputs": [],
      "source": [
        "positive_emoji = [\n",
        "    \"👏\",\n",
        "    \"🔥\",\n",
        "    \"😍\",\n",
        "    \"😊\",\n",
        "    \"💕\",\n",
        "    \"👍\",\n",
        "    \"💖\",\n",
        "    \"😊\",\n",
        "    \"🎉\",\n",
        "    \"💞\",\n",
        "    \"😃\",\n",
        "    \"😁\",\n",
        "    \"😎\",\n",
        "    \"😘\",\n",
        "    \"💓\",\n",
        "    \"😉\",\n",
        "    \"😄\",\n",
        "    \"😀\",\n",
        "    \"💗\",\n",
        "    \"😌\",\n",
        "    \"😆\",\n",
        "    \"😻\",\n",
        "    \"🙋\",\n",
        "    \"😇\",\n",
        "    \"💝\",\n",
        "    \"😋\",\n",
        "    \"🤗\",\n",
        "    \"😚\",\n",
        "    \"😙\",\n",
        "    \"😸\",\n",
        "    \"😺\",\n",
        "    \"😽\",\n",
        "]\n",
        "\n",
        "negative_emoji = [\n",
        "    \"🗑️\",\n",
        "    \"👎\",\n",
        "    \"😫\",\n",
        "    \"😨\",\n",
        "    \"😢\",\n",
        "    \"💀\",\n",
        "    \"🤔\",\n",
        "    \"😓\",\n",
        "    \"😤\",\n",
        "    \"😩\",\n",
        "    \"😴\",\n",
        "    \"💔\",\n",
        "    \"😒\",\n",
        "    \"😪\",\n",
        "    \"😣\",\n",
        "    \"😡\",\n",
        "    \"😕\",\n",
        "    \"😔\",\n",
        "    \"😠\",\n",
        "    \"😷\",\n",
        "    \"😥\",\n",
        "    \"😞\",\n",
        "    \"😲\",\n",
        "    \"😰\",\n",
        "    \"😖\",\n",
        "    \"😧\",\n",
        "    \"😟\",\n",
        "    \"😶\",\n",
        "    \"😯\",\n",
        "    \"🤒\",\n",
        "    \"🤕\",\n",
        "    \"😾\",\n",
        "    \"💤\",\n",
        "]"
      ]
    },
    {
      "cell_type": "code",
      "execution_count": 30,
      "metadata": {
        "id": "HNoT_ZhigXGZ"
      },
      "outputs": [],
      "source": [
        "preproc_pe = [preprocess_text(e) for e in positive_emoji]\n",
        "\n",
        "X_train = pd.concat([X_train, pd.DataFrame(preproc_pe)], ignore_index=True, axis=0)\n",
        "y_train = pd.concat([y_train, pd.DataFrame([1] * 32)], ignore_index=True, axis=0)\n",
        "\n",
        "preproc_ne = [preprocess_text(e) for e in negative_emoji]\n",
        "\n",
        "X_train = pd.concat([X_train, pd.DataFrame(preproc_ne)], ignore_index=True, axis=0)\n",
        "y_train = pd.concat([y_train, pd.DataFrame([-1] * 33)], ignore_index=True, axis=0)"
      ]
    },
    {
      "cell_type": "code",
      "execution_count": 31,
      "metadata": {
        "colab": {
          "base_uri": "https://localhost:8080/"
        },
        "id": "7jFez9SsrNwc",
        "outputId": "10a9d980-406f-4d3b-b571-6ecfc688f436"
      },
      "outputs": [
        {
          "name": "stderr",
          "output_type": "stream",
          "text": [
            "/Users/michaelnguy/miniforge3/envs/playgroundenv/lib/python3.10/site-packages/sklearn/utils/validation.py:1339: DataConversionWarning: A column-vector y was passed when a 1d array was expected. Please change the shape of y to (n_samples, ), for example using ravel().\n",
            "  # only csr, csc, and coo have `data` attribute\n"
          ]
        },
        {
          "data": {
            "text/plain": [
              "[['Hello this is great',\n",
              "  'This stinks bad',\n",
              "  'before and before',\n",
              "  'I got the same water bottle',\n",
              "  'Yo more of these! Run through all the styles pls',\n",
              "  '🔥🔥🔥😍😍',\n",
              "  '😍😍😍',\n",
              "  '🔥',\n",
              "  \"Here's how to look exactly the same\",\n",
              "  'And that will be $150 sir',\n",
              "  '😍',\n",
              "  'Best model 👏🔥🔥',\n",
              "  'Where do you get a water bottle like that?',\n",
              "  'His eyes are the opposite of Moesha.',\n",
              "  'dumbbbbb handsome 😍',\n",
              "  'Wtf 👎🏼 trash 🗑️'],\n",
              " array([ 1., -1.,  0.,  0.,  0.,  1.,  1.,  0.,  1.,  0.,  1.,  1.,  0.,\n",
              "         0.,  1., -1.])]"
            ]
          },
          "execution_count": 31,
          "metadata": {},
          "output_type": "execute_result"
        }
      ],
      "source": [
        "# X_train = X_train.astype(str)\n",
        "X_train_transformed = vectorizer.fit_transform(X_train[0])\n",
        "\n",
        "classifier.fit(X_train_transformed, y_train)\n",
        "\n",
        "# Re-test on real-world data\n",
        "X_l = [preprocess_text(t) for t in text]\n",
        "X = pd.DataFrame(X_l)\n",
        "text_transformed = vectorizer.transform(X[0])\n",
        "senti_pred = classifier.predict(text_transformed)\n",
        "\n",
        "[text, senti_pred]"
      ]
    },
    {
      "cell_type": "markdown",
      "metadata": {
        "id": "5_NZBkMDfJMp"
      },
      "source": [
        "Hyperparameter Sensitivity\n"
      ]
    },
    {
      "cell_type": "code",
      "execution_count": 33,
      "metadata": {
        "colab": {
          "base_uri": "https://localhost:8080/",
          "height": 478
        },
        "id": "NRIx3GOKfH1x",
        "outputId": "7170aa04-82c6-4004-eb8b-a3aecc261c15"
      },
      "outputs": [
        {
          "name": "stdout",
          "output_type": "stream",
          "text": [
            "Param: C, Value: 0.1, Mean Accuracy Score: 0.5164, Std: 0.0026\n",
            "Param: C, Value: 1, Mean Accuracy Score: 0.6051, Std: 0.0617\n",
            "Param: C, Value: 10, Mean Accuracy Score: 0.6624, Std: 0.0697\n",
            "Param: C, Value: 20, Mean Accuracy Score: 0.6487, Std: 0.0721\n",
            "Param: C, Value: 50, Mean Accuracy Score: 0.6460, Std: 0.0707\n",
            "Param: C, Value: 100, Mean Accuracy Score: 0.6460, Std: 0.0677\n"
          ]
        },
        {
          "name": "stderr",
          "output_type": "stream",
          "text": [
            "/var/folders/lp/k6q1n4l164l7s056_kj52d3c0000gn/T/ipykernel_63635/3545529432.py:49: UserWarning: No artists with labels found to put in legend.  Note that artists whose label start with an underscore are ignored when legend() is called with no argument.\n",
            "  plt.legend()\n"
          ]
        },
        {
          "data": {
            "image/png": "[encoded data removed]",
            "text/plain": [
              "<Figure size 500x300 with 1 Axes>"
            ]
          },
          "metadata": {},
          "output_type": "display_data"
        }
      ],
      "source": [
        "from sklearn.model_selection import cross_val_score\n",
        "import matplotlib.pyplot as plt\n",
        "\n",
        "X_test_trans = vectorizer.transform(X_test)\n",
        "\n",
        "\n",
        "def sensitivity_analysis(model, param_grid, X, y, scorer, cv=5):\n",
        "    results = []\n",
        "    for param, values in param_grid.items():\n",
        "        for value in values:\n",
        "            model.set_params(**{param: value})\n",
        "            scores = cross_val_score(model, X, y, cv=cv, scoring=scorer, n_jobs=None)\n",
        "            mean_score = np.mean(scores)\n",
        "            std_score = np.std(scores)\n",
        "            results.append((param, value, mean_score, std_score))\n",
        "            print(\n",
        "                f\"Param: {param}, Value: {value}, Mean Accuracy Score: {mean_score:.4f}, Std: {std_score:.4f}\"\n",
        "            )\n",
        "    return results\n",
        "\n",
        "\n",
        "param_grid = {\"C\": [0.1, 1, 10, 20, 50, 100]}\n",
        "\n",
        "\n",
        "def accuracy(estimator, X, y):\n",
        "    y_pred = estimator.predict(X)\n",
        "    return accuracy_score(y, y_pred)\n",
        "\n",
        "\n",
        "sensitivity_results = sensitivity_analysis(\n",
        "    classifier, param_grid, X_test_trans, y_test, accuracy, cv=5\n",
        ")\n",
        "\n",
        "sensitivity_df = pd.DataFrame(\n",
        "    sensitivity_results, columns=[\"Parameter\", \"Value\", \"Mean Accuracy Score\", \"Std\"]\n",
        ")\n",
        "\n",
        "\n",
        "for param in param_grid.keys():\n",
        "    plt.figure(figsize=(5, 3))\n",
        "    subset = sensitivity_df[sensitivity_df[\"Parameter\"] == param]\n",
        "    plt.errorbar(\n",
        "        subset[\"Value\"], subset[\"Mean Accuracy Score\"], yerr=subset[\"Std\"], fmt=\"-o\"\n",
        "    )  # label=param\n",
        "\n",
        "    plt.xlabel(param)\n",
        "    plt.ylabel(\"Mean Accuracy Score\")\n",
        "    plt.title(\"Hyperparameter Sensitivity Analysis\")\n",
        "    plt.legend()\n",
        "    plt.show()"
      ]
    }
  ],
  "metadata": {
    "colab": {
      "provenance": []
    },
    "kernelspec": {
      "display_name": "Python 3",
      "name": "python3"
    },
    "language_info": {
      "codemirror_mode": {
        "name": "ipython",
        "version": 3
      },
      "file_extension": ".py",
      "mimetype": "text/x-python",
      "name": "python",
      "nbconvert_exporter": "python",
      "pygments_lexer": "ipython3",
      "version": "3.10.14"
    }
  },
  "nbformat": 4,
  "nbformat_minor": 0
}
