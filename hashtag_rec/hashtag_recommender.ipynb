{
 "cells": [
  {
   "cell_type": "markdown",
   "metadata": {
    "id": "fWmhwiGCBcpt"
   },
   "source": [
    "## Setup & Imports"
   ]
  },
  {
   "cell_type": "code",
   "execution_count": 1,
   "metadata": {
    "colab": {
     "base_uri": "https://localhost:8080/"
    },
    "id": "Q6XczizZwbmx",
    "outputId": "61f6fcf6-6854-40d4-8ab2-a7c042c0de1f"
   },
   "outputs": [
    {
     "name": "stdout",
     "output_type": "stream",
     "text": [
      "/content\n"
     ]
    }
   ],
   "source": [
    "!pwd"
   ]
  },
  {
   "cell_type": "code",
   "execution_count": 2,
   "metadata": {
    "id": "dlRGx0SYBba4"
   },
   "outputs": [],
   "source": [
    "# copy custom scripts from MyDrive to use in Colab\n",
    "# ref: https://stackoverflow.com/a/74791011\n",
    "!cp -r /content/drive/MyDrive/hashtag_rec/scripts/. /content/"
   ]
  },
  {
   "cell_type": "code",
   "execution_count": 2,
   "metadata": {
    "id": "opdF7KwG2d68",
    "tags": []
   },
   "outputs": [],
   "source": [
    "# !pip install -r requirements.txt"
   ]
  },
  {
   "cell_type": "code",
   "execution_count": 2,
   "metadata": {
    "id": "g5xSRTJmIF4L",
    "tags": []
   },
   "outputs": [],
   "source": [
    "# if running notebook in Google Colab, %load will not work - https://github.com/googlecolab/colabtools/issues/42\n",
    "# copy paste the contents of constants.py file\n",
    "\n",
    "# %load constants.py # uncomment this line to load in constants\n",
    "# data constants\n",
    "DATA_DIR = \"./data\" # REPLACE THIS with the directory path that you stored the HARRISON dataset in\n",
    "DATA_LEN = 57383\n",
    "\n",
    "# file path constants\n",
    "INDICES_SPLIT_FILE_NAME = \"data_indices_split.json\"\n",
    "IMG_PATHS_FILE_NAME = \"data_list.txt\"\n",
    "GT_TAGS_FILE_NAME = \"tag_list.txt\"\n",
    "EMBEDDINGS_FILE_NAME = \"data_embeddings.txt\"\n",
    "\n",
    "# model constants\n",
    "CLIP_MODEL_NAME = \"openai/clip-vit-base-patch32\"\n",
    "VIT_MODEL_NAME = \"google/vit-base-patch16-224-in21k\"\n",
    "LLAVA_MODEL_NAME = \"llava-hf/llava-1.5-7b-hf\"\n",
    "ST_MODEL_NAME = \"sentence-transformers/all-MiniLM-L6-v2\"\n",
    "\n",
    "# df column constants\n",
    "ID_COL = \"img_id\"\n",
    "EMB_COL = \"emb\"\n",
    "GT_COL = \"gt_tags\"\n",
    "PRED_COL = \"pred_tags\"\n",
    "\n",
    "# metric constants\n",
    "ACCURACY = \"acc\"\n",
    "PRECISION = \"prec\"\n",
    "RECALL = \"rec\"\n",
    "SEMANTIC_SIMILARITY = \"sim\""
   ]
  },
  {
   "cell_type": "code",
   "execution_count": 3,
   "metadata": {
    "id": "pIkRmidYD0No",
    "tags": []
   },
   "outputs": [],
   "source": [
    "import os\n",
    "import json\n",
    "import numpy as np\n",
    "import pandas as pd"
   ]
  },
  {
   "cell_type": "code",
   "execution_count": 5,
   "metadata": {
    "colab": {
     "base_uri": "https://localhost:8080/",
     "height": 262,
     "referenced_widgets": [
      "10ecdaefd570425cbd35fee62d5398fb",
      "1b249aea12fa4ee3bda827000ed4e6db",
      "d042927b3f124d90baba6d2e105496a1",
      "e1da49b729174408abcfc5515093fc4d",
      "30f8a509a6454f75ad5d7bf74a457c31",
      "940ed9d8a261488692dae6ccc5e312d8",
      "f542601db95c41f8bab4493ed79f4f3f",
      "136c4ad833744750adec60ee8ea4b632",
      "df1604db477447598b8289e3caf93e6e",
      "e8fee5fef8d4418ead653900e3b7f272",
      "10f586ea666a42e99398e16dcbbacaa5",
      "9de33e67dfd748fcb4eb12f1916998dd",
      "b35a017235c4426ea5e7b148a3aad311",
      "4681a11fb2c74fa28f7a7a7043d99f80",
      "5575e74dab7843d591675fad64b8e2d4",
      "8899b2b697b44df0a458f2a3cc7af2db",
      "bafc114ed3134a6e90baa029d9c12e47",
      "27baae0d11d544c19a6985c5d52a3002",
      "b12545f75afa4ce2aec39b808ca1b79e",
      "de9739914bf048e19ed04f43cb1cb3a4",
      "3f3fb10df10a4aa58c11e0a31ef5ef61",
      "d0cc596050554fe9bc55fb361d269713",
      "6df059616d3f408a84ccb7884c9d7b3d",
      "64a02d7e08614238b4bd923ae492516f",
      "69de1f2b3d72496fb209d9e6994f3b17",
      "7540b57839884fb69fc49d4aaa2258e7",
      "095e7d97e6344b13843bc4a29ceda5e5",
      "c51b8ec0438d464f9265c7fe80c82146",
      "b56d62235bf74153bda9fbff0ef9265e",
      "fbb42046c3ae4da1b392b0beb0fb799e",
      "e3db548ef79d404e80c55025b0e21f04",
      "a54ddb5fe779418bb54c675e53da5da6",
      "4654514e25d54f2f858e190473e62d85"
     ]
    },
    "id": "NOkMBx79Bt3R",
    "outputId": "7650cc3e-6d3b-4898-bf6e-c05ef13fd9a0",
    "tags": []
   },
   "outputs": [],
   "source": [
    "from data_utils import load_image_paths, load_image_tags\n",
    "from eval_utils import evaluate_recommendations\n",
    "from image_utils import get_image_from_fp, get_image_vectorizer_for_recommender\n",
    "from index import create_index_from_df\n",
    "from recommenders import ImageIndexTagRecommender, TagIndexTagRecommender, LlavaTagRecommender"
   ]
  },
  {
   "cell_type": "markdown",
   "metadata": {
    "id": "e-lFpCbIFUxk"
   },
   "source": [
    "## Load data split, image paths, image tags"
   ]
  },
  {
   "cell_type": "code",
   "execution_count": 6,
   "metadata": {
    "id": "AXd_YooHFEGg",
    "tags": []
   },
   "outputs": [],
   "source": [
    "with open(os.path.join(DATA_DIR, INDICES_SPLIT_FILE_NAME)) as f:\n",
    "    indices_split = json.load(f)"
   ]
  },
  {
   "cell_type": "code",
   "execution_count": 7,
   "metadata": {
    "colab": {
     "base_uri": "https://localhost:8080/"
    },
    "id": "qBvF_tICFjv5",
    "outputId": "d2c6a38f-82ca-4e6f-8de8-5befc5184a11",
    "tags": []
   },
   "outputs": [
    {
     "name": "stdout",
     "output_type": "stream",
     "text": [
      "Loading image paths from file: ./data/data_list.txt\n",
      "Finished loading 57383 image paths\n"
     ]
    }
   ],
   "source": [
    "img_fps = load_image_paths()"
   ]
  },
  {
   "cell_type": "code",
   "execution_count": 8,
   "metadata": {
    "colab": {
     "base_uri": "https://localhost:8080/"
    },
    "id": "1s82pbFcFbcX",
    "outputId": "3d5c31fe-740a-49cb-8c55-8fb406dd0d68",
    "tags": []
   },
   "outputs": [
    {
     "name": "stdout",
     "output_type": "stream",
     "text": [
      "Loading image tags from file: ./data/tag_list.txt\n",
      "Finished loading tags for 57383 images\n"
     ]
    }
   ],
   "source": [
    "tags_list = load_image_tags()"
   ]
  },
  {
   "cell_type": "markdown",
   "metadata": {
    "id": "WUpZUudrPa40"
   },
   "source": [
    "## ImageIndex recommender"
   ]
  },
  {
   "cell_type": "code",
   "execution_count": 10,
   "metadata": {
    "id": "mBpitGHRIadR",
    "tags": []
   },
   "outputs": [],
   "source": [
    "experiment_name = \"clip_unweighted\""
   ]
  },
  {
   "cell_type": "markdown",
   "metadata": {
    "id": "bqJwzULSF45J"
   },
   "source": [
    "### Load embeddings"
   ]
  },
  {
   "cell_type": "code",
   "execution_count": 25,
   "metadata": {
    "colab": {
     "base_uri": "https://localhost:8080/"
    },
    "id": "96PpqjNoF6dT",
    "outputId": "2ceaeef3-ddc5-4f88-f207-8987922b0a2f",
    "tags": []
   },
   "outputs": [
    {
     "data": {
      "text/plain": [
       "(57333, 2)"
      ]
     },
     "execution_count": 25,
     "metadata": {},
     "output_type": "execute_result"
    }
   ],
   "source": [
    "emb_fp = os.path.join(DATA_DIR, EMBEDDINGS_FILE_NAME)\n",
    "emb_df = pd.read_json(emb_fp, lines=True)\n",
    "emb_df.shape"
   ]
  },
  {
   "cell_type": "code",
   "execution_count": 12,
   "metadata": {
    "id": "9ub6ZIOHGNwE",
    "tags": []
   },
   "outputs": [],
   "source": [
    "train_df = emb_df[emb_df[ID_COL].isin(indices_split[\"train\"])]\n",
    "test_df = emb_df[emb_df[ID_COL].isin(indices_split[\"test\"])]"
   ]
  },
  {
   "cell_type": "code",
   "execution_count": 13,
   "metadata": {
    "id": "HoW-aWkBGVe2",
    "tags": []
   },
   "outputs": [],
   "source": [
    "test_idx_mapping = {i:img_id for i,img_id in enumerate(test_df[ID_COL])}"
   ]
  },
  {
   "cell_type": "code",
   "execution_count": 14,
   "metadata": {
    "colab": {
     "base_uri": "https://localhost:8080/"
    },
    "id": "6lIYfjeJHVQ_",
    "outputId": "3e78d86f-3c36-476c-8057-bd72b4633273",
    "tags": []
   },
   "outputs": [
    {
     "data": {
      "text/plain": [
       "(500, 500)"
      ]
     },
     "execution_count": 14,
     "metadata": {},
     "output_type": "execute_result"
    }
   ],
   "source": [
    "len(test_df), len(test_idx_mapping)"
   ]
  },
  {
   "cell_type": "markdown",
   "metadata": {
    "id": "ZtAoq1pIFXdR"
   },
   "source": [
    "### Create index"
   ]
  },
  {
   "cell_type": "code",
   "execution_count": 15,
   "metadata": {
    "colab": {
     "base_uri": "https://localhost:8080/"
    },
    "id": "niqfPf89EC4V",
    "outputId": "707b3f86-57ea-4d01-819b-5313bc4faf24",
    "tags": []
   },
   "outputs": [
    {
     "name": "stdout",
     "output_type": "stream",
     "text": [
      "Creating index with vectors of shape: (56333, 512)\n"
     ]
    }
   ],
   "source": [
    "img_index, train_idx_mapping = create_index_from_df(train_df)"
   ]
  },
  {
   "cell_type": "markdown",
   "metadata": {
    "id": "VuFzE7V4FbJ2"
   },
   "source": [
    "### Create recommender"
   ]
  },
  {
   "cell_type": "code",
   "execution_count": 16,
   "metadata": {
    "id": "2B09x6HqFhiW",
    "tags": []
   },
   "outputs": [],
   "source": [
    "recommender = ImageIndexTagRecommender(img_index, train_idx_mapping, tags_list, weight_method=\"frequency\")"
   ]
  },
  {
   "cell_type": "markdown",
   "metadata": {
    "id": "wIIoHT04HK0b"
   },
   "source": [
    "### Get recommendations"
   ]
  },
  {
   "cell_type": "code",
   "execution_count": 17,
   "metadata": {
    "colab": {
     "base_uri": "https://localhost:8080/"
    },
    "id": "FVjm5GfcFm71",
    "outputId": "77d0028d-1a74-4a19-f828-6d074ee1402d",
    "tags": []
   },
   "outputs": [
    {
     "data": {
      "text/plain": [
       "500"
      ]
     },
     "execution_count": 17,
     "metadata": {},
     "output_type": "execute_result"
    }
   ],
   "source": [
    "rec_tags = recommender.get_tags_for_image_vector(np.array(test_df[EMB_COL].to_list()))\n",
    "len(rec_tags)"
   ]
  },
  {
   "cell_type": "code",
   "execution_count": 30,
   "metadata": {
    "tags": []
   },
   "outputs": [
    {
     "data": {
      "text/plain": [
       "[['flower', 'yellow', 'purple', 'spring', 'tree'],\n",
       " ['vscocam', 'vsco', 'nature', 'sky', 'tree'],\n",
       " ['baby', 'instagood', 'cute', 'love', 'family']]"
      ]
     },
     "execution_count": 30,
     "metadata": {},
     "output_type": "execute_result"
    }
   ],
   "source": [
    "rec_tags[:3]"
   ]
  },
  {
   "cell_type": "code",
   "execution_count": 20,
   "metadata": {
    "id": "dNrjQgGxHp5E",
    "tags": []
   },
   "outputs": [],
   "source": [
    "# save recommendations to file\n",
    "with open(os.path.join(\"recommendations\", \"test\", f\"recommendations_{experiment_name}.txt\"), \"w\") as f:\n",
    "    for i,(idx,row) in enumerate(test_df.iterrows()):\n",
    "        img_id = row['img_id']\n",
    "        gt_tags = tags_list[img_id]\n",
    "        pred_tags = rec_tags[i]\n",
    "\n",
    "        json.dump({\"img_id\": img_id, \"gt_tags\": gt_tags, \"pred_tags\": pred_tags}, f)\n",
    "        f.write(os.linesep)"
   ]
  },
  {
   "cell_type": "markdown",
   "metadata": {
    "id": "SBT7-o-tPfKB"
   },
   "source": [
    "## TagIndex recommender"
   ]
  },
  {
   "cell_type": "code",
   "execution_count": 33,
   "metadata": {
    "id": "mBpitGHRIadR",
    "tags": []
   },
   "outputs": [],
   "source": [
    "experiment_name = \"clip_tag_index_unweighted\""
   ]
  },
  {
   "cell_type": "markdown",
   "metadata": {
    "id": "bqJwzULSF45J"
   },
   "source": [
    "### Load embeddings"
   ]
  },
  {
   "cell_type": "code",
   "execution_count": 23,
   "metadata": {
    "colab": {
     "base_uri": "https://localhost:8080/"
    },
    "id": "96PpqjNoF6dT",
    "outputId": "2ceaeef3-ddc5-4f88-f207-8987922b0a2f",
    "tags": []
   },
   "outputs": [
    {
     "data": {
      "text/plain": [
       "(997, 3)"
      ]
     },
     "execution_count": 23,
     "metadata": {},
     "output_type": "execute_result"
    }
   ],
   "source": [
    "tag_emb_fp = os.path.join(DATA_DIR, \"clip_tag_embs.txt\")\n",
    "tag_emb_df = pd.read_json(emb_fp, lines=True)\n",
    "tag_emb_df.shape"
   ]
  },
  {
   "cell_type": "markdown",
   "metadata": {
    "id": "ZtAoq1pIFXdR"
   },
   "source": [
    "### Create index"
   ]
  },
  {
   "cell_type": "code",
   "execution_count": 24,
   "metadata": {
    "colab": {
     "base_uri": "https://localhost:8080/"
    },
    "id": "K2gezU8LPoSS",
    "outputId": "64653ed0-9230-407f-b2e3-c8c00e312de2",
    "tags": []
   },
   "outputs": [
    {
     "name": "stdout",
     "output_type": "stream",
     "text": [
      "Creating index with vectors of shape: (997, 512)\n"
     ]
    }
   ],
   "source": [
    "tag_index, tag_idx_mapping = create_index_from_df(tag_emb_df, id_col=\"tag_id\")"
   ]
  },
  {
   "cell_type": "markdown",
   "metadata": {
    "id": "VuFzE7V4FbJ2"
   },
   "source": [
    "### Create recommender"
   ]
  },
  {
   "cell_type": "code",
   "execution_count": 29,
   "metadata": {
    "tags": []
   },
   "outputs": [
    {
     "data": {
      "text/plain": [
       "997"
      ]
     },
     "execution_count": 29,
     "metadata": {},
     "output_type": "execute_result"
    }
   ],
   "source": [
    "idx_tag_mapping = tag_emb_df['tag'].to_dict()\n",
    "len(idx_tag_mapping)"
   ]
  },
  {
   "cell_type": "code",
   "execution_count": 32,
   "metadata": {
    "id": "2B09x6HqFhiW",
    "tags": []
   },
   "outputs": [],
   "source": [
    "recommender = TagIndexTagRecommender(tag_index, tag_idx_mapping, list(idx_tag_mapping.values()))"
   ]
  },
  {
   "cell_type": "markdown",
   "metadata": {
    "id": "wIIoHT04HK0b"
   },
   "source": [
    "### Get recommendations"
   ]
  },
  {
   "cell_type": "code",
   "execution_count": 34,
   "metadata": {
    "colab": {
     "base_uri": "https://localhost:8080/"
    },
    "id": "FVjm5GfcFm71",
    "outputId": "77d0028d-1a74-4a19-f828-6d074ee1402d",
    "tags": []
   },
   "outputs": [
    {
     "data": {
      "text/plain": [
       "500"
      ]
     },
     "execution_count": 34,
     "metadata": {},
     "output_type": "execute_result"
    }
   ],
   "source": [
    "rec_tags = recommender.get_tags_for_image_vector(np.array(test_df[EMB_COL].to_list()))\n",
    "len(rec_tags)"
   ]
  },
  {
   "cell_type": "code",
   "execution_count": 35,
   "metadata": {
    "tags": []
   },
   "outputs": [
    {
     "data": {
      "text/plain": [
       "[['purple', 'flowerstagram', 'plant', 'garden', 'grass'],\n",
       " ['bluesky', 'beautifulday', 'beach', 'beachlife', 'sunnyday'],\n",
       " ['holiday', 'vacation', 'sunnyday', 'webstagram', 'instaphoto']]"
      ]
     },
     "execution_count": 35,
     "metadata": {},
     "output_type": "execute_result"
    }
   ],
   "source": [
    "rec_tags[:3]"
   ]
  },
  {
   "cell_type": "code",
   "execution_count": 36,
   "metadata": {
    "id": "dNrjQgGxHp5E",
    "tags": []
   },
   "outputs": [],
   "source": [
    "# save recommendations to file\n",
    "with open(os.path.join(\"recommendations\", \"test\", f\"recommendations_{experiment_name}.txt\"), \"w\") as f:\n",
    "    for i,(idx,row) in enumerate(test_df.iterrows()):\n",
    "        img_id = row['img_id']\n",
    "        gt_tags = tags_list[img_id]\n",
    "        pred_tags = rec_tags[i]\n",
    "\n",
    "        json.dump({\"img_id\": img_id, \"gt_tags\": gt_tags, \"pred_tags\": pred_tags}, f)\n",
    "        f.write(os.linesep)"
   ]
  },
  {
   "cell_type": "markdown",
   "metadata": {
    "id": "oleUsNeJIHLM"
   },
   "source": [
    "## Evaluate recommendations"
   ]
  },
  {
   "cell_type": "code",
   "execution_count": null,
   "metadata": {},
   "outputs": [],
   "source": [
    "from sentence_transformers import SentenceTransformer"
   ]
  },
  {
   "cell_type": "code",
   "execution_count": null,
   "metadata": {},
   "outputs": [],
   "source": [
    "st_model = SentenceTransformer(ST_MODEL_NAME)"
   ]
  },
  {
   "cell_type": "code",
   "execution_count": 38,
   "metadata": {
    "tags": []
   },
   "outputs": [],
   "source": [
    "experiment_name = \"clip_unweighted\""
   ]
  },
  {
   "cell_type": "code",
   "execution_count": 40,
   "metadata": {
    "colab": {
     "base_uri": "https://localhost:8080/"
    },
    "id": "ySUgRBLnIFqX",
    "outputId": "8c19bd06-da82-458c-8cbc-274685f05665",
    "tags": []
   },
   "outputs": [
    {
     "data": {
      "text/plain": [
       "(500, 3)"
      ]
     },
     "execution_count": 40,
     "metadata": {},
     "output_type": "execute_result"
    }
   ],
   "source": [
    "pred_df = pd.read_json(os.path.join(\"recommendations\", \"test\", f\"recommendations_{experiment_name}.txt\"), lines=True)\n",
    "pred_df.shape"
   ]
  },
  {
   "cell_type": "code",
   "execution_count": 24,
   "metadata": {
    "id": "S2hpj-fGIl7B"
   },
   "outputs": [],
   "source": [
    "eval_results = evaluate_recommendations(pred_df, st_model=st_model)"
   ]
  },
  {
   "cell_type": "code",
   "execution_count": 25,
   "metadata": {
    "id": "GVQqwRmGIoPS"
   },
   "outputs": [],
   "source": [
    "with open(os.path.join(\"eval_results\", \"test\", f\"eval_results_{experiment_name}.json\"), \"w\") as f:\n",
    "    json.dump(eval_results, f, indent=2)"
   ]
  },
  {
   "cell_type": "code",
   "execution_count": null,
   "metadata": {
    "id": "JaDieRthIuCZ"
   },
   "outputs": [],
   "source": []
  },
  {
   "cell_type": "markdown",
   "metadata": {
    "id": "Ir4jB15kIzgr"
   },
   "source": [
    "## Visualizations"
   ]
  },
  {
   "cell_type": "code",
   "execution_count": 10,
   "metadata": {
    "id": "6UL6o363J2p0"
   },
   "outputs": [],
   "source": [
    "def graph_metric(metric_name, df):\n",
    "    df_to_graph = df[df[\"metric\"] == metric_name].copy()\n",
    "    return alt.Chart(df_to_graph).mark_line().encode(\n",
    "        x=\"k:O\",\n",
    "        y=\"value\",\n",
    "        color=\"method\"\n",
    "    ).properties(\n",
    "        title=metric_name,\n",
    "        width=300,\n",
    "        height=200\n",
    "    )"
   ]
  },
  {
   "cell_type": "markdown",
   "metadata": {},
   "source": [
    "### Load and reformat data"
   ]
  },
  {
   "cell_type": "code",
   "execution_count": 11,
   "metadata": {
    "id": "8qlXhyaeJpzN"
   },
   "outputs": [],
   "source": [
    "eval_results_dir = os.path.join(\"eval_results\", \"test\")"
   ]
  },
  {
   "cell_type": "code",
   "execution_count": null,
   "metadata": {
    "colab": {
     "base_uri": "https://localhost:8080/"
    },
    "id": "jUoXOaC8Jstw",
    "outputId": "03bc331b-a3ae-4435-8a41-9f414873b243"
   },
   "outputs": [],
   "source": [
    "eval_results_data = []\n",
    "for file_name in os.listdir(os.path.join(eval_results_dir)):\n",
    "    print(file_name)\n",
    "    fp = os.path.join(eval_results_dir, file_name)\n",
    "    \n",
    "    with open(fp) as f:\n",
    "        eval_results_json = json.load(f)\n",
    "    for metric_name, results_dict in eval_results_json.items():\n",
    "        for k,result in results_dict.items():\n",
    "            eval_results_data.append({\"method\": file_name[13:-15], \"metric\": metric_name, \"k\": k, \"value\": result})\n",
    "len(eval_results_data)"
   ]
  },
  {
   "cell_type": "code",
   "execution_count": 84,
   "metadata": {
    "colab": {
     "base_uri": "https://localhost:8080/"
    },
    "id": "gEFz4DYpKGUu",
    "outputId": "85b2c33f-3401-4843-a3c0-49ee4ab79bda"
   },
   "outputs": [
    {
     "data": {
      "text/plain": [
       "(80, 4)"
      ]
     },
     "execution_count": 84,
     "metadata": {},
     "output_type": "execute_result"
    }
   ],
   "source": [
    "eval_results_df = pd.DataFrame(eval_results_data)\n",
    "eval_results_df.shape"
   ]
  },
  {
   "cell_type": "code",
   "execution_count": 85,
   "metadata": {
    "id": "jEX1mImqk4Tm"
   },
   "outputs": [],
   "source": [
    "metric_names = {\"acc\": \"Accuracy\", \"rec\": \"Recall\", \"prec\": \"Precision\", \"sim\": \"Semantic Similarity\"}"
   ]
  },
  {
   "cell_type": "code",
   "execution_count": 86,
   "metadata": {
    "id": "_BOiwuUflbH1"
   },
   "outputs": [],
   "source": [
    "method_names = {\n",
    "    \"clip_unweighted\": \"CLIP image embeddings\",\n",
    "    \"tag_index_unweighted\": \"CLIP image-text embeddings\",\n",
    "    \"vit_unweighted\": \"ViT image embeddings\",\n",
    "    \"llava_unweighted\": \"LLaVa\",\n",
    "    \"clip_clip_weighted\": \"CLIP image embeddings\",\n",
    "    \"tag_index_clip_weighted\": \"CLIP image-text embeddings\",\n",
    "    \"vit_clip_weighted\": \"ViT image embeddings\",\n",
    "    \"llava_clip_weighted\": \"LLaVa\"\n",
    "}"
   ]
  },
  {
   "cell_type": "code",
   "execution_count": 87,
   "metadata": {
    "id": "MlFLl82HkXno"
   },
   "outputs": [],
   "source": [
    "eval_results_df['metric'] = eval_results_df['metric'].replace(metric_names)\n",
    "eval_results_df['method'] = eval_results_df['method'].replace(method_names)"
   ]
  },
  {
   "cell_type": "markdown",
   "metadata": {},
   "source": [
    "### Graphs"
   ]
  },
  {
   "cell_type": "code",
   "execution_count": 9,
   "metadata": {
    "id": "4PGhATQII0q5"
   },
   "outputs": [],
   "source": [
    "import altair as alt"
   ]
  },
  {
   "cell_type": "code",
   "execution_count": 56,
   "metadata": {
    "id": "RR02HrfzKC2z"
   },
   "outputs": [],
   "source": [
    "acc_graph = graph_metric(metric_names[\"acc\"], eval_results_df)\n",
    "prec_graph = graph_metric(metric_names[\"prec\"], eval_results_df)\n",
    "rec_graph = graph_metric(metric_names[\"rec\"], eval_results_df)\n",
    "sim_graph = graph_metric(metric_names[\"sim\"], eval_results_df)"
   ]
  },
  {
   "cell_type": "code",
   "execution_count": 57,
   "metadata": {
    "colab": {
     "base_uri": "https://localhost:8080/",
     "height": 451
    },
    "id": "zc6aPePcKEFG",
    "outputId": "f6f8cdad-e353-4c57-f771-c7b833e64d58"
   },
   "outputs": [
    {
     "name": "stderr",
     "output_type": "stream",
     "text": [
      "/usr/local/lib/python3.10/dist-packages/altair/utils/core.py:384: FutureWarning: the convert_dtype parameter is deprecated and will be removed in a future version.  Do ``ser.astype(object).apply()`` instead if you want ``convert_dtype=False``.\n",
      "  col = df[col_name].apply(to_list_if_array, convert_dtype=False)\n",
      "/usr/local/lib/python3.10/dist-packages/altair/utils/core.py:384: FutureWarning: the convert_dtype parameter is deprecated and will be removed in a future version.  Do ``ser.astype(object).apply()`` instead if you want ``convert_dtype=False``.\n",
      "  col = df[col_name].apply(to_list_if_array, convert_dtype=False)\n",
      "/usr/local/lib/python3.10/dist-packages/altair/utils/core.py:384: FutureWarning: the convert_dtype parameter is deprecated and will be removed in a future version.  Do ``ser.astype(object).apply()`` instead if you want ``convert_dtype=False``.\n",
      "  col = df[col_name].apply(to_list_if_array, convert_dtype=False)\n",
      "/usr/local/lib/python3.10/dist-packages/altair/utils/core.py:384: FutureWarning: the convert_dtype parameter is deprecated and will be removed in a future version.  Do ``ser.astype(object).apply()`` instead if you want ``convert_dtype=False``.\n",
      "  col = df[col_name].apply(to_list_if_array, convert_dtype=False)\n"
     ]
    },
    {
     "data": {
      "text/html": [
       "\n",
       "<div id=\"altair-viz-584e9521d23a4ee3a3a88a237fa716d1\"></div>\n",
       "<script type=\"text/javascript\">\n",
       "  var VEGA_DEBUG = (typeof VEGA_DEBUG == \"undefined\") ? {} : VEGA_DEBUG;\n",
       "  (function(spec, embedOpt){\n",
       "    let outputDiv = document.currentScript.previousElementSibling;\n",
       "    if (outputDiv.id !== \"altair-viz-584e9521d23a4ee3a3a88a237fa716d1\") {\n",
       "      outputDiv = document.getElementById(\"altair-viz-584e9521d23a4ee3a3a88a237fa716d1\");\n",
       "    }\n",
       "    const paths = {\n",
       "      \"vega\": \"https://cdn.jsdelivr.net/npm//vega@5?noext\",\n",
       "      \"vega-lib\": \"https://cdn.jsdelivr.net/npm//vega-lib?noext\",\n",
       "      \"vega-lite\": \"https://cdn.jsdelivr.net/npm//vega-lite@4.17.0?noext\",\n",
       "      \"vega-embed\": \"https://cdn.jsdelivr.net/npm//vega-embed@6?noext\",\n",
       "    };\n",
       "\n",
       "    function maybeLoadScript(lib, version) {\n",
       "      var key = `${lib.replace(\"-\", \"\")}_version`;\n",
       "      return (VEGA_DEBUG[key] == version) ?\n",
       "        Promise.resolve(paths[lib]) :\n",
       "        new Promise(function(resolve, reject) {\n",
       "          var s = document.createElement('script');\n",
       "          document.getElementsByTagName(\"head\")[0].appendChild(s);\n",
       "          s.async = true;\n",
       "          s.onload = () => {\n",
       "            VEGA_DEBUG[key] = version;\n",
       "            return resolve(paths[lib]);\n",
       "          };\n",
       "          s.onerror = () => reject(`Error loading script: ${paths[lib]}`);\n",
       "          s.src = paths[lib];\n",
       "        });\n",
       "    }\n",
       "\n",
       "    function showError(err) {\n",
       "      outputDiv.innerHTML = `<div class=\"error\" style=\"color:red;\">${err}</div>`;\n",
       "      throw err;\n",
       "    }\n",
       "\n",
       "    function displayChart(vegaEmbed) {\n",
       "      vegaEmbed(outputDiv, spec, embedOpt)\n",
       "        .catch(err => showError(`Javascript Error: ${err.message}<br>This usually means there's a typo in your chart specification. See the javascript console for the full traceback.`));\n",
       "    }\n",
       "\n",
       "    if(typeof define === \"function\" && define.amd) {\n",
       "      requirejs.config({paths});\n",
       "      require([\"vega-embed\"], displayChart, err => showError(`Error loading script: ${err.message}`));\n",
       "    } else {\n",
       "      maybeLoadScript(\"vega\", \"5\")\n",
       "        .then(() => maybeLoadScript(\"vega-lite\", \"4.17.0\"))\n",
       "        .then(() => maybeLoadScript(\"vega-embed\", \"6\"))\n",
       "        .catch(showError)\n",
       "        .then(() => displayChart(vegaEmbed));\n",
       "    }\n",
       "  })({\"config\": {\"view\": {\"continuousWidth\": 400, \"continuousHeight\": 300}}, \"hconcat\": [{\"data\": {\"name\": \"data-49b3d2f3eaea87d345313d5197e96942\"}, \"mark\": \"line\", \"encoding\": {\"color\": {\"field\": \"method\", \"type\": \"nominal\"}, \"x\": {\"field\": \"k\", \"type\": \"ordinal\"}, \"y\": {\"field\": \"value\", \"type\": \"quantitative\"}}, \"height\": 200, \"title\": \"Accuracy\", \"width\": 300}, {\"data\": {\"name\": \"data-8e8e13dcc978cea4c9665b81583baad3\"}, \"mark\": \"line\", \"encoding\": {\"color\": {\"field\": \"method\", \"type\": \"nominal\"}, \"x\": {\"field\": \"k\", \"type\": \"ordinal\"}, \"y\": {\"field\": \"value\", \"type\": \"quantitative\"}}, \"height\": 200, \"title\": \"Precision\", \"width\": 300}, {\"data\": {\"name\": \"data-396cae023e35083d0331485efdb4bc55\"}, \"mark\": \"line\", \"encoding\": {\"color\": {\"field\": \"method\", \"type\": \"nominal\"}, \"x\": {\"field\": \"k\", \"type\": \"ordinal\"}, \"y\": {\"field\": \"value\", \"type\": \"quantitative\"}}, \"height\": 200, \"title\": \"Recall\", \"width\": 300}, {\"data\": {\"name\": \"data-882a3e0ddfb565c77cab01fea59f8d2a\"}, \"mark\": \"line\", \"encoding\": {\"color\": {\"field\": \"method\", \"type\": \"nominal\"}, \"x\": {\"field\": \"k\", \"type\": \"ordinal\"}, \"y\": {\"field\": \"value\", \"type\": \"quantitative\"}}, \"height\": 200, \"title\": \"Semantic Similarity\", \"width\": 300}], \"$schema\": \"https://vega.github.io/schema/vega-lite/v4.17.0.json\", \"datasets\": {\"data-49b3d2f3eaea87d345313d5197e96942\": [{\"method\": \"CLIP image embeddings\", \"metric\": \"Accuracy\", \"k\": \"1\", \"value\": 0.282}, {\"method\": \"CLIP image embeddings\", \"metric\": \"Accuracy\", \"k\": \"2\", \"value\": 0.43160377358490565}, {\"method\": \"CLIP image embeddings\", \"metric\": \"Accuracy\", \"k\": \"3\", \"value\": 0.5623268698060941}, {\"method\": \"CLIP image embeddings\", \"metric\": \"Accuracy\", \"k\": \"4\", \"value\": 0.65}, {\"method\": \"CLIP image embeddings\", \"metric\": \"Accuracy\", \"k\": \"5\", \"value\": 0.7012448132780082}, {\"method\": \"CLIP image-text embeddings\", \"metric\": \"Accuracy\", \"k\": \"1\", \"value\": 0.172}, {\"method\": \"CLIP image-text embeddings\", \"metric\": \"Accuracy\", \"k\": \"2\", \"value\": 0.28773584905660377}, {\"method\": \"CLIP image-text embeddings\", \"metric\": \"Accuracy\", \"k\": \"3\", \"value\": 0.3656509695290859}, {\"method\": \"CLIP image-text embeddings\", \"metric\": \"Accuracy\", \"k\": \"4\", \"value\": 0.4266666666666667}, {\"method\": \"CLIP image-text embeddings\", \"metric\": \"Accuracy\", \"k\": \"5\", \"value\": 0.5020746887966805}, {\"method\": \"ViT image embeddings\", \"metric\": \"Accuracy\", \"k\": \"1\", \"value\": 0.244}, {\"method\": \"ViT image embeddings\", \"metric\": \"Accuracy\", \"k\": \"2\", \"value\": 0.4221698113207547}, {\"method\": \"ViT image embeddings\", \"metric\": \"Accuracy\", \"k\": \"3\", \"value\": 0.5207756232686981}, {\"method\": \"ViT image embeddings\", \"metric\": \"Accuracy\", \"k\": \"4\", \"value\": 0.5833333333333334}, {\"method\": \"ViT image embeddings\", \"metric\": \"Accuracy\", \"k\": \"5\", \"value\": 0.6887966804979253}, {\"method\": \"LLaVa\", \"metric\": \"Accuracy\", \"k\": \"1\", \"value\": 0.06464646464646465}, {\"method\": \"LLaVa\", \"metric\": \"Accuracy\", \"k\": \"2\", \"value\": 0.11904761904761904}, {\"method\": \"LLaVa\", \"metric\": \"Accuracy\", \"k\": \"3\", \"value\": 0.17270194986072424}, {\"method\": \"LLaVa\", \"metric\": \"Accuracy\", \"k\": \"4\", \"value\": 0.24496644295302014}, {\"method\": \"LLaVa\", \"metric\": \"Accuracy\", \"k\": \"5\", \"value\": 0.2928870292887029}], \"data-8e8e13dcc978cea4c9665b81583baad3\": [{\"method\": \"CLIP image embeddings\", \"metric\": \"Precision\", \"k\": \"1\", \"value\": 0.282}, {\"method\": \"CLIP image embeddings\", \"metric\": \"Precision\", \"k\": \"2\", \"value\": 0.267688679245283}, {\"method\": \"CLIP image embeddings\", \"metric\": \"Precision\", \"k\": \"3\", \"value\": 0.2853185595567867}, {\"method\": \"CLIP image embeddings\", \"metric\": \"Precision\", \"k\": \"4\", \"value\": 0.2758333333333333}, {\"method\": \"CLIP image embeddings\", \"metric\": \"Precision\", \"k\": \"5\", \"value\": 0.26307053941908715}, {\"method\": \"CLIP image-text embeddings\", \"metric\": \"Precision\", \"k\": \"1\", \"value\": 0.172}, {\"method\": \"CLIP image-text embeddings\", \"metric\": \"Precision\", \"k\": \"2\", \"value\": 0.16981132075471697}, {\"method\": \"CLIP image-text embeddings\", \"metric\": \"Precision\", \"k\": \"3\", \"value\": 0.16158818097876268}, {\"method\": \"CLIP image-text embeddings\", \"metric\": \"Precision\", \"k\": \"4\", \"value\": 0.15083333333333335}, {\"method\": \"CLIP image-text embeddings\", \"metric\": \"Precision\", \"k\": \"5\", \"value\": 0.14605809128630706}, {\"method\": \"ViT image embeddings\", \"metric\": \"Precision\", \"k\": \"1\", \"value\": 0.244}, {\"method\": \"ViT image embeddings\", \"metric\": \"Precision\", \"k\": \"2\", \"value\": 0.25589622641509435}, {\"method\": \"ViT image embeddings\", \"metric\": \"Precision\", \"k\": \"3\", \"value\": 0.2520775623268698}, {\"method\": \"ViT image embeddings\", \"metric\": \"Precision\", \"k\": \"4\", \"value\": 0.235}, {\"method\": \"ViT image embeddings\", \"metric\": \"Precision\", \"k\": \"5\", \"value\": 0.23817427385892118}, {\"method\": \"LLaVa\", \"metric\": \"Precision\", \"k\": \"1\", \"value\": 0.06464646464646465}, {\"method\": \"LLaVa\", \"metric\": \"Precision\", \"k\": \"2\", \"value\": 0.0630952380952381}, {\"method\": \"LLaVa\", \"metric\": \"Precision\", \"k\": \"3\", \"value\": 0.06963788300835655}, {\"method\": \"LLaVa\", \"metric\": \"Precision\", \"k\": \"4\", \"value\": 0.07718120805369127}, {\"method\": \"LLaVa\", \"metric\": \"Precision\", \"k\": \"5\", \"value\": 0.07866108786610877}], \"data-396cae023e35083d0331485efdb4bc55\": [{\"method\": \"CLIP image embeddings\", \"metric\": \"Recall\", \"k\": \"1\", \"value\": 0.08879285714285715}, {\"method\": \"CLIP image embeddings\", \"metric\": \"Recall\", \"k\": \"2\", \"value\": 0.11548461365678346}, {\"method\": \"CLIP image embeddings\", \"metric\": \"Recall\", \"k\": \"3\", \"value\": 0.16116717231675678}, {\"method\": \"CLIP image embeddings\", \"metric\": \"Recall\", \"k\": \"4\", \"value\": 0.18285449735449735}, {\"method\": \"CLIP image embeddings\", \"metric\": \"Recall\", \"k\": \"5\", \"value\": 0.19561351511558978}, {\"method\": \"CLIP image-text embeddings\", \"metric\": \"Recall\", \"k\": \"1\", \"value\": 0.04422063492063492}, {\"method\": \"CLIP image-text embeddings\", \"metric\": \"Recall\", \"k\": \"2\", \"value\": 0.0740163596885295}, {\"method\": \"CLIP image-text embeddings\", \"metric\": \"Recall\", \"k\": \"3\", \"value\": 0.09372224420700875}, {\"method\": \"CLIP image-text embeddings\", \"metric\": \"Recall\", \"k\": \"4\", \"value\": 0.10261507936507935}, {\"method\": \"CLIP image-text embeddings\", \"metric\": \"Recall\", \"k\": \"5\", \"value\": 0.11280050055983665}, {\"method\": \"ViT image embeddings\", \"metric\": \"Recall\", \"k\": \"1\", \"value\": 0.07418174603174603}, {\"method\": \"ViT image embeddings\", \"metric\": \"Recall\", \"k\": \"2\", \"value\": 0.11085186433063791}, {\"method\": \"ViT image embeddings\", \"metric\": \"Recall\", \"k\": \"3\", \"value\": 0.1413160093215495}, {\"method\": \"ViT image embeddings\", \"metric\": \"Recall\", \"k\": \"4\", \"value\": 0.15610714285714286}, {\"method\": \"ViT image embeddings\", \"metric\": \"Recall\", \"k\": \"5\", \"value\": 0.18120924718435094}, {\"method\": \"LLaVa\", \"metric\": \"Recall\", \"k\": \"1\", \"value\": 0.01576639409972743}, {\"method\": \"LLaVa\", \"metric\": \"Recall\", \"k\": \"2\", \"value\": 0.023662131519274373}, {\"method\": \"LLaVa\", \"metric\": \"Recall\", \"k\": \"3\", \"value\": 0.03705509130300216}, {\"method\": \"LLaVa\", \"metric\": \"Recall\", \"k\": \"4\", \"value\": 0.04852588686481304}, {\"method\": \"LLaVa\", \"metric\": \"Recall\", \"k\": \"5\", \"value\": 0.05703327356047021}], \"data-882a3e0ddfb565c77cab01fea59f8d2a\": [{\"method\": \"CLIP image embeddings\", \"metric\": \"Semantic Similarity\", \"k\": \"1\", \"value\": 0.5633702278137207}, {\"method\": \"CLIP image embeddings\", \"metric\": \"Semantic Similarity\", \"k\": \"2\", \"value\": 0.5490621328353882}, {\"method\": \"CLIP image embeddings\", \"metric\": \"Semantic Similarity\", \"k\": \"3\", \"value\": 0.5428233742713928}, {\"method\": \"CLIP image embeddings\", \"metric\": \"Semantic Similarity\", \"k\": \"4\", \"value\": 0.5275174975395203}, {\"method\": \"CLIP image embeddings\", \"metric\": \"Semantic Similarity\", \"k\": \"5\", \"value\": 0.5137801766395569}, {\"method\": \"CLIP image-text embeddings\", \"metric\": \"Semantic Similarity\", \"k\": \"1\", \"value\": 0.48658445477485657}, {\"method\": \"CLIP image-text embeddings\", \"metric\": \"Semantic Similarity\", \"k\": \"2\", \"value\": 0.4762697219848633}, {\"method\": \"CLIP image-text embeddings\", \"metric\": \"Semantic Similarity\", \"k\": \"3\", \"value\": 0.4674665033817291}, {\"method\": \"CLIP image-text embeddings\", \"metric\": \"Semantic Similarity\", \"k\": \"4\", \"value\": 0.4588397145271301}, {\"method\": \"CLIP image-text embeddings\", \"metric\": \"Semantic Similarity\", \"k\": \"5\", \"value\": 0.4498313069343567}, {\"method\": \"ViT image embeddings\", \"metric\": \"Semantic Similarity\", \"k\": \"1\", \"value\": 0.5416753888130188}, {\"method\": \"ViT image embeddings\", \"metric\": \"Semantic Similarity\", \"k\": \"2\", \"value\": 0.5287700891494751}, {\"method\": \"ViT image embeddings\", \"metric\": \"Semantic Similarity\", \"k\": \"3\", \"value\": 0.5152480006217957}, {\"method\": \"ViT image embeddings\", \"metric\": \"Semantic Similarity\", \"k\": \"4\", \"value\": 0.49905678629875183}, {\"method\": \"ViT image embeddings\", \"metric\": \"Semantic Similarity\", \"k\": \"5\", \"value\": 0.4920669496059418}, {\"method\": \"LLaVa\", \"metric\": \"Semantic Similarity\", \"k\": \"1\", \"value\": 0.44486096501350403}, {\"method\": \"LLaVa\", \"metric\": \"Semantic Similarity\", \"k\": \"2\", \"value\": 0.43660905957221985}, {\"method\": \"LLaVa\", \"metric\": \"Semantic Similarity\", \"k\": \"3\", \"value\": 0.43418216705322266}, {\"method\": \"LLaVa\", \"metric\": \"Semantic Similarity\", \"k\": \"4\", \"value\": 0.43031513690948486}, {\"method\": \"LLaVa\", \"metric\": \"Semantic Similarity\", \"k\": \"5\", \"value\": 0.4232686460018158}]}}, {\"mode\": \"vega-lite\"});\n",
       "</script>"
      ],
      "text/plain": [
       "alt.HConcatChart(...)"
      ]
     },
     "execution_count": 57,
     "metadata": {},
     "output_type": "execute_result"
    }
   ],
   "source": [
    "((acc_graph | prec_graph) | rec_graph) | sim_graph"
   ]
  },
  {
   "cell_type": "code",
   "execution_count": 58,
   "metadata": {
    "colab": {
     "base_uri": "https://localhost:8080/",
     "height": 377
    },
    "id": "XSd-871alDHU",
    "outputId": "085bfe2a-14b3-4f0e-d76c-63bf86521378"
   },
   "outputs": [
    {
     "name": "stderr",
     "output_type": "stream",
     "text": [
      "/usr/local/lib/python3.10/dist-packages/altair/utils/core.py:384: FutureWarning: the convert_dtype parameter is deprecated and will be removed in a future version.  Do ``ser.astype(object).apply()`` instead if you want ``convert_dtype=False``.\n",
      "  col = df[col_name].apply(to_list_if_array, convert_dtype=False)\n",
      "/usr/local/lib/python3.10/dist-packages/altair/utils/core.py:384: FutureWarning: the convert_dtype parameter is deprecated and will be removed in a future version.  Do ``ser.astype(object).apply()`` instead if you want ``convert_dtype=False``.\n",
      "  col = df[col_name].apply(to_list_if_array, convert_dtype=False)\n"
     ]
    },
    {
     "data": {
      "text/html": [
       "\n",
       "<div id=\"altair-viz-682d986801e04a5e8fcdbb7e43c7c456\"></div>\n",
       "<script type=\"text/javascript\">\n",
       "  var VEGA_DEBUG = (typeof VEGA_DEBUG == \"undefined\") ? {} : VEGA_DEBUG;\n",
       "  (function(spec, embedOpt){\n",
       "    let outputDiv = document.currentScript.previousElementSibling;\n",
       "    if (outputDiv.id !== \"altair-viz-682d986801e04a5e8fcdbb7e43c7c456\") {\n",
       "      outputDiv = document.getElementById(\"altair-viz-682d986801e04a5e8fcdbb7e43c7c456\");\n",
       "    }\n",
       "    const paths = {\n",
       "      \"vega\": \"https://cdn.jsdelivr.net/npm//vega@5?noext\",\n",
       "      \"vega-lib\": \"https://cdn.jsdelivr.net/npm//vega-lib?noext\",\n",
       "      \"vega-lite\": \"https://cdn.jsdelivr.net/npm//vega-lite@4.17.0?noext\",\n",
       "      \"vega-embed\": \"https://cdn.jsdelivr.net/npm//vega-embed@6?noext\",\n",
       "    };\n",
       "\n",
       "    function maybeLoadScript(lib, version) {\n",
       "      var key = `${lib.replace(\"-\", \"\")}_version`;\n",
       "      return (VEGA_DEBUG[key] == version) ?\n",
       "        Promise.resolve(paths[lib]) :\n",
       "        new Promise(function(resolve, reject) {\n",
       "          var s = document.createElement('script');\n",
       "          document.getElementsByTagName(\"head\")[0].appendChild(s);\n",
       "          s.async = true;\n",
       "          s.onload = () => {\n",
       "            VEGA_DEBUG[key] = version;\n",
       "            return resolve(paths[lib]);\n",
       "          };\n",
       "          s.onerror = () => reject(`Error loading script: ${paths[lib]}`);\n",
       "          s.src = paths[lib];\n",
       "        });\n",
       "    }\n",
       "\n",
       "    function showError(err) {\n",
       "      outputDiv.innerHTML = `<div class=\"error\" style=\"color:red;\">${err}</div>`;\n",
       "      throw err;\n",
       "    }\n",
       "\n",
       "    function displayChart(vegaEmbed) {\n",
       "      vegaEmbed(outputDiv, spec, embedOpt)\n",
       "        .catch(err => showError(`Javascript Error: ${err.message}<br>This usually means there's a typo in your chart specification. See the javascript console for the full traceback.`));\n",
       "    }\n",
       "\n",
       "    if(typeof define === \"function\" && define.amd) {\n",
       "      requirejs.config({paths});\n",
       "      require([\"vega-embed\"], displayChart, err => showError(`Error loading script: ${err.message}`));\n",
       "    } else {\n",
       "      maybeLoadScript(\"vega\", \"5\")\n",
       "        .then(() => maybeLoadScript(\"vega-lite\", \"4.17.0\"))\n",
       "        .then(() => maybeLoadScript(\"vega-embed\", \"6\"))\n",
       "        .catch(showError)\n",
       "        .then(() => displayChart(vegaEmbed));\n",
       "    }\n",
       "  })({\"config\": {\"view\": {\"continuousWidth\": 400, \"continuousHeight\": 300}}, \"hconcat\": [{\"data\": {\"name\": \"data-49b3d2f3eaea87d345313d5197e96942\"}, \"mark\": \"line\", \"encoding\": {\"color\": {\"field\": \"method\", \"type\": \"nominal\"}, \"x\": {\"field\": \"k\", \"type\": \"ordinal\"}, \"y\": {\"field\": \"value\", \"type\": \"quantitative\"}}, \"height\": 200, \"title\": \"Accuracy\", \"width\": 300}, {\"data\": {\"name\": \"data-8e8e13dcc978cea4c9665b81583baad3\"}, \"mark\": \"line\", \"encoding\": {\"color\": {\"field\": \"method\", \"type\": \"nominal\"}, \"x\": {\"field\": \"k\", \"type\": \"ordinal\"}, \"y\": {\"field\": \"value\", \"type\": \"quantitative\"}}, \"height\": 200, \"title\": \"Precision\", \"width\": 300}], \"$schema\": \"https://vega.github.io/schema/vega-lite/v4.17.0.json\", \"datasets\": {\"data-49b3d2f3eaea87d345313d5197e96942\": [{\"method\": \"CLIP image embeddings\", \"metric\": \"Accuracy\", \"k\": \"1\", \"value\": 0.282}, {\"method\": \"CLIP image embeddings\", \"metric\": \"Accuracy\", \"k\": \"2\", \"value\": 0.43160377358490565}, {\"method\": \"CLIP image embeddings\", \"metric\": \"Accuracy\", \"k\": \"3\", \"value\": 0.5623268698060941}, {\"method\": \"CLIP image embeddings\", \"metric\": \"Accuracy\", \"k\": \"4\", \"value\": 0.65}, {\"method\": \"CLIP image embeddings\", \"metric\": \"Accuracy\", \"k\": \"5\", \"value\": 0.7012448132780082}, {\"method\": \"CLIP image-text embeddings\", \"metric\": \"Accuracy\", \"k\": \"1\", \"value\": 0.172}, {\"method\": \"CLIP image-text embeddings\", \"metric\": \"Accuracy\", \"k\": \"2\", \"value\": 0.28773584905660377}, {\"method\": \"CLIP image-text embeddings\", \"metric\": \"Accuracy\", \"k\": \"3\", \"value\": 0.3656509695290859}, {\"method\": \"CLIP image-text embeddings\", \"metric\": \"Accuracy\", \"k\": \"4\", \"value\": 0.4266666666666667}, {\"method\": \"CLIP image-text embeddings\", \"metric\": \"Accuracy\", \"k\": \"5\", \"value\": 0.5020746887966805}, {\"method\": \"ViT image embeddings\", \"metric\": \"Accuracy\", \"k\": \"1\", \"value\": 0.244}, {\"method\": \"ViT image embeddings\", \"metric\": \"Accuracy\", \"k\": \"2\", \"value\": 0.4221698113207547}, {\"method\": \"ViT image embeddings\", \"metric\": \"Accuracy\", \"k\": \"3\", \"value\": 0.5207756232686981}, {\"method\": \"ViT image embeddings\", \"metric\": \"Accuracy\", \"k\": \"4\", \"value\": 0.5833333333333334}, {\"method\": \"ViT image embeddings\", \"metric\": \"Accuracy\", \"k\": \"5\", \"value\": 0.6887966804979253}, {\"method\": \"LLaVa\", \"metric\": \"Accuracy\", \"k\": \"1\", \"value\": 0.06464646464646465}, {\"method\": \"LLaVa\", \"metric\": \"Accuracy\", \"k\": \"2\", \"value\": 0.11904761904761904}, {\"method\": \"LLaVa\", \"metric\": \"Accuracy\", \"k\": \"3\", \"value\": 0.17270194986072424}, {\"method\": \"LLaVa\", \"metric\": \"Accuracy\", \"k\": \"4\", \"value\": 0.24496644295302014}, {\"method\": \"LLaVa\", \"metric\": \"Accuracy\", \"k\": \"5\", \"value\": 0.2928870292887029}], \"data-8e8e13dcc978cea4c9665b81583baad3\": [{\"method\": \"CLIP image embeddings\", \"metric\": \"Precision\", \"k\": \"1\", \"value\": 0.282}, {\"method\": \"CLIP image embeddings\", \"metric\": \"Precision\", \"k\": \"2\", \"value\": 0.267688679245283}, {\"method\": \"CLIP image embeddings\", \"metric\": \"Precision\", \"k\": \"3\", \"value\": 0.2853185595567867}, {\"method\": \"CLIP image embeddings\", \"metric\": \"Precision\", \"k\": \"4\", \"value\": 0.2758333333333333}, {\"method\": \"CLIP image embeddings\", \"metric\": \"Precision\", \"k\": \"5\", \"value\": 0.26307053941908715}, {\"method\": \"CLIP image-text embeddings\", \"metric\": \"Precision\", \"k\": \"1\", \"value\": 0.172}, {\"method\": \"CLIP image-text embeddings\", \"metric\": \"Precision\", \"k\": \"2\", \"value\": 0.16981132075471697}, {\"method\": \"CLIP image-text embeddings\", \"metric\": \"Precision\", \"k\": \"3\", \"value\": 0.16158818097876268}, {\"method\": \"CLIP image-text embeddings\", \"metric\": \"Precision\", \"k\": \"4\", \"value\": 0.15083333333333335}, {\"method\": \"CLIP image-text embeddings\", \"metric\": \"Precision\", \"k\": \"5\", \"value\": 0.14605809128630706}, {\"method\": \"ViT image embeddings\", \"metric\": \"Precision\", \"k\": \"1\", \"value\": 0.244}, {\"method\": \"ViT image embeddings\", \"metric\": \"Precision\", \"k\": \"2\", \"value\": 0.25589622641509435}, {\"method\": \"ViT image embeddings\", \"metric\": \"Precision\", \"k\": \"3\", \"value\": 0.2520775623268698}, {\"method\": \"ViT image embeddings\", \"metric\": \"Precision\", \"k\": \"4\", \"value\": 0.235}, {\"method\": \"ViT image embeddings\", \"metric\": \"Precision\", \"k\": \"5\", \"value\": 0.23817427385892118}, {\"method\": \"LLaVa\", \"metric\": \"Precision\", \"k\": \"1\", \"value\": 0.06464646464646465}, {\"method\": \"LLaVa\", \"metric\": \"Precision\", \"k\": \"2\", \"value\": 0.0630952380952381}, {\"method\": \"LLaVa\", \"metric\": \"Precision\", \"k\": \"3\", \"value\": 0.06963788300835655}, {\"method\": \"LLaVa\", \"metric\": \"Precision\", \"k\": \"4\", \"value\": 0.07718120805369127}, {\"method\": \"LLaVa\", \"metric\": \"Precision\", \"k\": \"5\", \"value\": 0.07866108786610877}]}}, {\"mode\": \"vega-lite\"});\n",
       "</script>"
      ],
      "text/plain": [
       "alt.HConcatChart(...)"
      ]
     },
     "execution_count": 58,
     "metadata": {},
     "output_type": "execute_result"
    }
   ],
   "source": [
    "acc_graph | prec_graph"
   ]
  },
  {
   "cell_type": "code",
   "execution_count": 59,
   "metadata": {
    "colab": {
     "base_uri": "https://localhost:8080/",
     "height": 377
    },
    "id": "q6Vo2v13KIb6",
    "outputId": "1ea1c212-aae8-4174-c870-48c95d87eb47"
   },
   "outputs": [
    {
     "name": "stderr",
     "output_type": "stream",
     "text": [
      "/usr/local/lib/python3.10/dist-packages/altair/utils/core.py:384: FutureWarning: the convert_dtype parameter is deprecated and will be removed in a future version.  Do ``ser.astype(object).apply()`` instead if you want ``convert_dtype=False``.\n",
      "  col = df[col_name].apply(to_list_if_array, convert_dtype=False)\n",
      "/usr/local/lib/python3.10/dist-packages/altair/utils/core.py:384: FutureWarning: the convert_dtype parameter is deprecated and will be removed in a future version.  Do ``ser.astype(object).apply()`` instead if you want ``convert_dtype=False``.\n",
      "  col = df[col_name].apply(to_list_if_array, convert_dtype=False)\n"
     ]
    },
    {
     "data": {
      "text/html": [
       "\n",
       "<div id=\"altair-viz-0a161f8c1aa74a7699eb6cf99c2dd280\"></div>\n",
       "<script type=\"text/javascript\">\n",
       "  var VEGA_DEBUG = (typeof VEGA_DEBUG == \"undefined\") ? {} : VEGA_DEBUG;\n",
       "  (function(spec, embedOpt){\n",
       "    let outputDiv = document.currentScript.previousElementSibling;\n",
       "    if (outputDiv.id !== \"altair-viz-0a161f8c1aa74a7699eb6cf99c2dd280\") {\n",
       "      outputDiv = document.getElementById(\"altair-viz-0a161f8c1aa74a7699eb6cf99c2dd280\");\n",
       "    }\n",
       "    const paths = {\n",
       "      \"vega\": \"https://cdn.jsdelivr.net/npm//vega@5?noext\",\n",
       "      \"vega-lib\": \"https://cdn.jsdelivr.net/npm//vega-lib?noext\",\n",
       "      \"vega-lite\": \"https://cdn.jsdelivr.net/npm//vega-lite@4.17.0?noext\",\n",
       "      \"vega-embed\": \"https://cdn.jsdelivr.net/npm//vega-embed@6?noext\",\n",
       "    };\n",
       "\n",
       "    function maybeLoadScript(lib, version) {\n",
       "      var key = `${lib.replace(\"-\", \"\")}_version`;\n",
       "      return (VEGA_DEBUG[key] == version) ?\n",
       "        Promise.resolve(paths[lib]) :\n",
       "        new Promise(function(resolve, reject) {\n",
       "          var s = document.createElement('script');\n",
       "          document.getElementsByTagName(\"head\")[0].appendChild(s);\n",
       "          s.async = true;\n",
       "          s.onload = () => {\n",
       "            VEGA_DEBUG[key] = version;\n",
       "            return resolve(paths[lib]);\n",
       "          };\n",
       "          s.onerror = () => reject(`Error loading script: ${paths[lib]}`);\n",
       "          s.src = paths[lib];\n",
       "        });\n",
       "    }\n",
       "\n",
       "    function showError(err) {\n",
       "      outputDiv.innerHTML = `<div class=\"error\" style=\"color:red;\">${err}</div>`;\n",
       "      throw err;\n",
       "    }\n",
       "\n",
       "    function displayChart(vegaEmbed) {\n",
       "      vegaEmbed(outputDiv, spec, embedOpt)\n",
       "        .catch(err => showError(`Javascript Error: ${err.message}<br>This usually means there's a typo in your chart specification. See the javascript console for the full traceback.`));\n",
       "    }\n",
       "\n",
       "    if(typeof define === \"function\" && define.amd) {\n",
       "      requirejs.config({paths});\n",
       "      require([\"vega-embed\"], displayChart, err => showError(`Error loading script: ${err.message}`));\n",
       "    } else {\n",
       "      maybeLoadScript(\"vega\", \"5\")\n",
       "        .then(() => maybeLoadScript(\"vega-lite\", \"4.17.0\"))\n",
       "        .then(() => maybeLoadScript(\"vega-embed\", \"6\"))\n",
       "        .catch(showError)\n",
       "        .then(() => displayChart(vegaEmbed));\n",
       "    }\n",
       "  })({\"config\": {\"view\": {\"continuousWidth\": 400, \"continuousHeight\": 300}}, \"hconcat\": [{\"data\": {\"name\": \"data-396cae023e35083d0331485efdb4bc55\"}, \"mark\": \"line\", \"encoding\": {\"color\": {\"field\": \"method\", \"type\": \"nominal\"}, \"x\": {\"field\": \"k\", \"type\": \"ordinal\"}, \"y\": {\"field\": \"value\", \"type\": \"quantitative\"}}, \"height\": 200, \"title\": \"Recall\", \"width\": 300}, {\"data\": {\"name\": \"data-882a3e0ddfb565c77cab01fea59f8d2a\"}, \"mark\": \"line\", \"encoding\": {\"color\": {\"field\": \"method\", \"type\": \"nominal\"}, \"x\": {\"field\": \"k\", \"type\": \"ordinal\"}, \"y\": {\"field\": \"value\", \"type\": \"quantitative\"}}, \"height\": 200, \"title\": \"Semantic Similarity\", \"width\": 300}], \"$schema\": \"https://vega.github.io/schema/vega-lite/v4.17.0.json\", \"datasets\": {\"data-396cae023e35083d0331485efdb4bc55\": [{\"method\": \"CLIP image embeddings\", \"metric\": \"Recall\", \"k\": \"1\", \"value\": 0.08879285714285715}, {\"method\": \"CLIP image embeddings\", \"metric\": \"Recall\", \"k\": \"2\", \"value\": 0.11548461365678346}, {\"method\": \"CLIP image embeddings\", \"metric\": \"Recall\", \"k\": \"3\", \"value\": 0.16116717231675678}, {\"method\": \"CLIP image embeddings\", \"metric\": \"Recall\", \"k\": \"4\", \"value\": 0.18285449735449735}, {\"method\": \"CLIP image embeddings\", \"metric\": \"Recall\", \"k\": \"5\", \"value\": 0.19561351511558978}, {\"method\": \"CLIP image-text embeddings\", \"metric\": \"Recall\", \"k\": \"1\", \"value\": 0.04422063492063492}, {\"method\": \"CLIP image-text embeddings\", \"metric\": \"Recall\", \"k\": \"2\", \"value\": 0.0740163596885295}, {\"method\": \"CLIP image-text embeddings\", \"metric\": \"Recall\", \"k\": \"3\", \"value\": 0.09372224420700875}, {\"method\": \"CLIP image-text embeddings\", \"metric\": \"Recall\", \"k\": \"4\", \"value\": 0.10261507936507935}, {\"method\": \"CLIP image-text embeddings\", \"metric\": \"Recall\", \"k\": \"5\", \"value\": 0.11280050055983665}, {\"method\": \"ViT image embeddings\", \"metric\": \"Recall\", \"k\": \"1\", \"value\": 0.07418174603174603}, {\"method\": \"ViT image embeddings\", \"metric\": \"Recall\", \"k\": \"2\", \"value\": 0.11085186433063791}, {\"method\": \"ViT image embeddings\", \"metric\": \"Recall\", \"k\": \"3\", \"value\": 0.1413160093215495}, {\"method\": \"ViT image embeddings\", \"metric\": \"Recall\", \"k\": \"4\", \"value\": 0.15610714285714286}, {\"method\": \"ViT image embeddings\", \"metric\": \"Recall\", \"k\": \"5\", \"value\": 0.18120924718435094}, {\"method\": \"LLaVa\", \"metric\": \"Recall\", \"k\": \"1\", \"value\": 0.01576639409972743}, {\"method\": \"LLaVa\", \"metric\": \"Recall\", \"k\": \"2\", \"value\": 0.023662131519274373}, {\"method\": \"LLaVa\", \"metric\": \"Recall\", \"k\": \"3\", \"value\": 0.03705509130300216}, {\"method\": \"LLaVa\", \"metric\": \"Recall\", \"k\": \"4\", \"value\": 0.04852588686481304}, {\"method\": \"LLaVa\", \"metric\": \"Recall\", \"k\": \"5\", \"value\": 0.05703327356047021}], \"data-882a3e0ddfb565c77cab01fea59f8d2a\": [{\"method\": \"CLIP image embeddings\", \"metric\": \"Semantic Similarity\", \"k\": \"1\", \"value\": 0.5633702278137207}, {\"method\": \"CLIP image embeddings\", \"metric\": \"Semantic Similarity\", \"k\": \"2\", \"value\": 0.5490621328353882}, {\"method\": \"CLIP image embeddings\", \"metric\": \"Semantic Similarity\", \"k\": \"3\", \"value\": 0.5428233742713928}, {\"method\": \"CLIP image embeddings\", \"metric\": \"Semantic Similarity\", \"k\": \"4\", \"value\": 0.5275174975395203}, {\"method\": \"CLIP image embeddings\", \"metric\": \"Semantic Similarity\", \"k\": \"5\", \"value\": 0.5137801766395569}, {\"method\": \"CLIP image-text embeddings\", \"metric\": \"Semantic Similarity\", \"k\": \"1\", \"value\": 0.48658445477485657}, {\"method\": \"CLIP image-text embeddings\", \"metric\": \"Semantic Similarity\", \"k\": \"2\", \"value\": 0.4762697219848633}, {\"method\": \"CLIP image-text embeddings\", \"metric\": \"Semantic Similarity\", \"k\": \"3\", \"value\": 0.4674665033817291}, {\"method\": \"CLIP image-text embeddings\", \"metric\": \"Semantic Similarity\", \"k\": \"4\", \"value\": 0.4588397145271301}, {\"method\": \"CLIP image-text embeddings\", \"metric\": \"Semantic Similarity\", \"k\": \"5\", \"value\": 0.4498313069343567}, {\"method\": \"ViT image embeddings\", \"metric\": \"Semantic Similarity\", \"k\": \"1\", \"value\": 0.5416753888130188}, {\"method\": \"ViT image embeddings\", \"metric\": \"Semantic Similarity\", \"k\": \"2\", \"value\": 0.5287700891494751}, {\"method\": \"ViT image embeddings\", \"metric\": \"Semantic Similarity\", \"k\": \"3\", \"value\": 0.5152480006217957}, {\"method\": \"ViT image embeddings\", \"metric\": \"Semantic Similarity\", \"k\": \"4\", \"value\": 0.49905678629875183}, {\"method\": \"ViT image embeddings\", \"metric\": \"Semantic Similarity\", \"k\": \"5\", \"value\": 0.4920669496059418}, {\"method\": \"LLaVa\", \"metric\": \"Semantic Similarity\", \"k\": \"1\", \"value\": 0.44486096501350403}, {\"method\": \"LLaVa\", \"metric\": \"Semantic Similarity\", \"k\": \"2\", \"value\": 0.43660905957221985}, {\"method\": \"LLaVa\", \"metric\": \"Semantic Similarity\", \"k\": \"3\", \"value\": 0.43418216705322266}, {\"method\": \"LLaVa\", \"metric\": \"Semantic Similarity\", \"k\": \"4\", \"value\": 0.43031513690948486}, {\"method\": \"LLaVa\", \"metric\": \"Semantic Similarity\", \"k\": \"5\", \"value\": 0.4232686460018158}]}}, {\"mode\": \"vega-lite\"});\n",
       "</script>"
      ],
      "text/plain": [
       "alt.HConcatChart(...)"
      ]
     },
     "execution_count": 59,
     "metadata": {},
     "output_type": "execute_result"
    }
   ],
   "source": [
    "rec_graph | sim_graph"
   ]
  },
  {
   "cell_type": "markdown",
   "metadata": {},
   "source": [
    "### Tables"
   ]
  },
  {
   "cell_type": "code",
   "execution_count": 74,
   "metadata": {
    "id": "x43oPF2a87h9"
   },
   "outputs": [],
   "source": [
    "from IPython.core.display import display, HTML"
   ]
  },
  {
   "cell_type": "code",
   "execution_count": 88,
   "metadata": {
    "colab": {
     "base_uri": "https://localhost:8080/",
     "height": 206
    },
    "id": "ZNYsHCW_5M-l",
    "outputId": "8d398ce9-a0d1-47e0-96cd-220e2014be76"
   },
   "outputs": [
    {
     "data": {
      "text/html": [
       "<table border=\"1\" class=\"dataframe\">\n",
       "  <thead>\n",
       "    <tr style=\"text-align: right;\">\n",
       "      <th>k</th>\n",
       "      <th>1</th>\n",
       "      <th>2</th>\n",
       "      <th>3</th>\n",
       "      <th>4</th>\n",
       "      <th>5</th>\n",
       "    </tr>\n",
       "    <tr>\n",
       "      <th>method</th>\n",
       "      <th></th>\n",
       "      <th></th>\n",
       "      <th></th>\n",
       "      <th></th>\n",
       "      <th></th>\n",
       "    </tr>\n",
       "  </thead>\n",
       "  <tbody>\n",
       "    <tr>\n",
       "      <th>CLIP image embeddings</th>\n",
       "      <td>0.563370</td>\n",
       "      <td>0.549062</td>\n",
       "      <td>0.542823</td>\n",
       "      <td>0.527517</td>\n",
       "      <td>0.513780</td>\n",
       "    </tr>\n",
       "    <tr>\n",
       "      <th>CLIP image-text embeddings</th>\n",
       "      <td>0.486584</td>\n",
       "      <td>0.476270</td>\n",
       "      <td>0.467467</td>\n",
       "      <td>0.458840</td>\n",
       "      <td>0.449831</td>\n",
       "    </tr>\n",
       "    <tr>\n",
       "      <th>LLaVa</th>\n",
       "      <td>0.444861</td>\n",
       "      <td>0.436609</td>\n",
       "      <td>0.434182</td>\n",
       "      <td>0.430315</td>\n",
       "      <td>0.423269</td>\n",
       "    </tr>\n",
       "    <tr>\n",
       "      <th>ViT image embeddings</th>\n",
       "      <td>0.541675</td>\n",
       "      <td>0.528770</td>\n",
       "      <td>0.515248</td>\n",
       "      <td>0.499057</td>\n",
       "      <td>0.492067</td>\n",
       "    </tr>\n",
       "  </tbody>\n",
       "</table>"
      ],
      "text/plain": [
       "<IPython.core.display.HTML object>"
      ]
     },
     "metadata": {},
     "output_type": "display_data"
    }
   ],
   "source": [
    "display(HTML(eval_results_df[eval_results_df['metric'] == metric_names['sim']].pivot(columns=\"k\", index='method', values='value').to_html(index=True)))"
   ]
  },
  {
   "cell_type": "code",
   "execution_count": null,
   "metadata": {
    "id": "NhfsgQcplFyh"
   },
   "outputs": [],
   "source": []
  }
 ],
 "metadata": {
  "colab": {
   "provenance": [],
   "toc_visible": true
  },
  "kernelspec": {
   "display_name": "conda_python3",
   "language": "python",
   "name": "conda_python3"
  },
  "language_info": {
   "codemirror_mode": {
    "name": "ipython",
    "version": 3
   },
   "file_extension": ".py",
   "mimetype": "text/x-python",
   "name": "python",
   "nbconvert_exporter": "python",
   "pygments_lexer": "ipython3",
   "version": "3.10.14"
  },
  "widgets": {
   "application/vnd.jupyter.widget-state+json": {
    "095e7d97e6344b13843bc4a29ceda5e5": {
     "model_module": "@jupyter-widgets/base",
     "model_module_version": "1.2.0",
     "model_name": "LayoutModel",
     "state": {
      "_model_module": "@jupyter-widgets/base",
      "_model_module_version": "1.2.0",
      "_model_name": "LayoutModel",
      "_view_count": null,
      "_view_module": "@jupyter-widgets/base",
      "_view_module_version": "1.2.0",
      "_view_name": "LayoutView",
      "align_content": null,
      "align_items": null,
      "align_self": null,
      "border": null,
      "bottom": null,
      "display": null,
      "flex": null,
      "flex_flow": null,
      "grid_area": null,
      "grid_auto_columns": null,
      "grid_auto_flow": null,
      "grid_auto_rows": null,
      "grid_column": null,
      "grid_gap": null,
      "grid_row": null,
      "grid_template_areas": null,
      "grid_template_columns": null,
      "grid_template_rows": null,
      "height": null,
      "justify_content": null,
      "justify_items": null,
      "left": null,
      "margin": null,
      "max_height": null,
      "max_width": null,
      "min_height": null,
      "min_width": null,
      "object_fit": null,
      "object_position": null,
      "order": null,
      "overflow": null,
      "overflow_x": null,
      "overflow_y": null,
      "padding": null,
      "right": null,
      "top": null,
      "visibility": null,
      "width": null
     }
    },
    "10ecdaefd570425cbd35fee62d5398fb": {
     "model_module": "@jupyter-widgets/controls",
     "model_module_version": "1.5.0",
     "model_name": "HBoxModel",
     "state": {
      "_dom_classes": [],
      "_model_module": "@jupyter-widgets/controls",
      "_model_module_version": "1.5.0",
      "_model_name": "HBoxModel",
      "_view_count": null,
      "_view_module": "@jupyter-widgets/controls",
      "_view_module_version": "1.5.0",
      "_view_name": "HBoxView",
      "box_style": "",
      "children": [
       "IPY_MODEL_1b249aea12fa4ee3bda827000ed4e6db",
       "IPY_MODEL_d042927b3f124d90baba6d2e105496a1",
       "IPY_MODEL_e1da49b729174408abcfc5515093fc4d"
      ],
      "layout": "IPY_MODEL_30f8a509a6454f75ad5d7bf74a457c31"
     }
    },
    "10f586ea666a42e99398e16dcbbacaa5": {
     "model_module": "@jupyter-widgets/controls",
     "model_module_version": "1.5.0",
     "model_name": "DescriptionStyleModel",
     "state": {
      "_model_module": "@jupyter-widgets/controls",
      "_model_module_version": "1.5.0",
      "_model_name": "DescriptionStyleModel",
      "_view_count": null,
      "_view_module": "@jupyter-widgets/base",
      "_view_module_version": "1.2.0",
      "_view_name": "StyleView",
      "description_width": ""
     }
    },
    "136c4ad833744750adec60ee8ea4b632": {
     "model_module": "@jupyter-widgets/base",
     "model_module_version": "1.2.0",
     "model_name": "LayoutModel",
     "state": {
      "_model_module": "@jupyter-widgets/base",
      "_model_module_version": "1.2.0",
      "_model_name": "LayoutModel",
      "_view_count": null,
      "_view_module": "@jupyter-widgets/base",
      "_view_module_version": "1.2.0",
      "_view_name": "LayoutView",
      "align_content": null,
      "align_items": null,
      "align_self": null,
      "border": null,
      "bottom": null,
      "display": null,
      "flex": null,
      "flex_flow": null,
      "grid_area": null,
      "grid_auto_columns": null,
      "grid_auto_flow": null,
      "grid_auto_rows": null,
      "grid_column": null,
      "grid_gap": null,
      "grid_row": null,
      "grid_template_areas": null,
      "grid_template_columns": null,
      "grid_template_rows": null,
      "height": null,
      "justify_content": null,
      "justify_items": null,
      "left": null,
      "margin": null,
      "max_height": null,
      "max_width": null,
      "min_height": null,
      "min_width": null,
      "object_fit": null,
      "object_position": null,
      "order": null,
      "overflow": null,
      "overflow_x": null,
      "overflow_y": null,
      "padding": null,
      "right": null,
      "top": null,
      "visibility": null,
      "width": null
     }
    },
    "1b249aea12fa4ee3bda827000ed4e6db": {
     "model_module": "@jupyter-widgets/controls",
     "model_module_version": "1.5.0",
     "model_name": "HTMLModel",
     "state": {
      "_dom_classes": [],
      "_model_module": "@jupyter-widgets/controls",
      "_model_module_version": "1.5.0",
      "_model_name": "HTMLModel",
      "_view_count": null,
      "_view_module": "@jupyter-widgets/controls",
      "_view_module_version": "1.5.0",
      "_view_name": "HTMLView",
      "description": "",
      "description_tooltip": null,
      "layout": "IPY_MODEL_940ed9d8a261488692dae6ccc5e312d8",
      "placeholder": "​",
      "style": "IPY_MODEL_f542601db95c41f8bab4493ed79f4f3f",
      "value": "preprocessor_config.json: 100%"
     }
    },
    "27baae0d11d544c19a6985c5d52a3002": {
     "model_module": "@jupyter-widgets/controls",
     "model_module_version": "1.5.0",
     "model_name": "DescriptionStyleModel",
     "state": {
      "_model_module": "@jupyter-widgets/controls",
      "_model_module_version": "1.5.0",
      "_model_name": "DescriptionStyleModel",
      "_view_count": null,
      "_view_module": "@jupyter-widgets/base",
      "_view_module_version": "1.2.0",
      "_view_name": "StyleView",
      "description_width": ""
     }
    },
    "30f8a509a6454f75ad5d7bf74a457c31": {
     "model_module": "@jupyter-widgets/base",
     "model_module_version": "1.2.0",
     "model_name": "LayoutModel",
     "state": {
      "_model_module": "@jupyter-widgets/base",
      "_model_module_version": "1.2.0",
      "_model_name": "LayoutModel",
      "_view_count": null,
      "_view_module": "@jupyter-widgets/base",
      "_view_module_version": "1.2.0",
      "_view_name": "LayoutView",
      "align_content": null,
      "align_items": null,
      "align_self": null,
      "border": null,
      "bottom": null,
      "display": null,
      "flex": null,
      "flex_flow": null,
      "grid_area": null,
      "grid_auto_columns": null,
      "grid_auto_flow": null,
      "grid_auto_rows": null,
      "grid_column": null,
      "grid_gap": null,
      "grid_row": null,
      "grid_template_areas": null,
      "grid_template_columns": null,
      "grid_template_rows": null,
      "height": null,
      "justify_content": null,
      "justify_items": null,
      "left": null,
      "margin": null,
      "max_height": null,
      "max_width": null,
      "min_height": null,
      "min_width": null,
      "object_fit": null,
      "object_position": null,
      "order": null,
      "overflow": null,
      "overflow_x": null,
      "overflow_y": null,
      "padding": null,
      "right": null,
      "top": null,
      "visibility": null,
      "width": null
     }
    },
    "3f3fb10df10a4aa58c11e0a31ef5ef61": {
     "model_module": "@jupyter-widgets/base",
     "model_module_version": "1.2.0",
     "model_name": "LayoutModel",
     "state": {
      "_model_module": "@jupyter-widgets/base",
      "_model_module_version": "1.2.0",
      "_model_name": "LayoutModel",
      "_view_count": null,
      "_view_module": "@jupyter-widgets/base",
      "_view_module_version": "1.2.0",
      "_view_name": "LayoutView",
      "align_content": null,
      "align_items": null,
      "align_self": null,
      "border": null,
      "bottom": null,
      "display": null,
      "flex": null,
      "flex_flow": null,
      "grid_area": null,
      "grid_auto_columns": null,
      "grid_auto_flow": null,
      "grid_auto_rows": null,
      "grid_column": null,
      "grid_gap": null,
      "grid_row": null,
      "grid_template_areas": null,
      "grid_template_columns": null,
      "grid_template_rows": null,
      "height": null,
      "justify_content": null,
      "justify_items": null,
      "left": null,
      "margin": null,
      "max_height": null,
      "max_width": null,
      "min_height": null,
      "min_width": null,
      "object_fit": null,
      "object_position": null,
      "order": null,
      "overflow": null,
      "overflow_x": null,
      "overflow_y": null,
      "padding": null,
      "right": null,
      "top": null,
      "visibility": null,
      "width": null
     }
    },
    "4654514e25d54f2f858e190473e62d85": {
     "model_module": "@jupyter-widgets/controls",
     "model_module_version": "1.5.0",
     "model_name": "DescriptionStyleModel",
     "state": {
      "_model_module": "@jupyter-widgets/controls",
      "_model_module_version": "1.5.0",
      "_model_name": "DescriptionStyleModel",
      "_view_count": null,
      "_view_module": "@jupyter-widgets/base",
      "_view_module_version": "1.2.0",
      "_view_name": "StyleView",
      "description_width": ""
     }
    },
    "4681a11fb2c74fa28f7a7a7043d99f80": {
     "model_module": "@jupyter-widgets/controls",
     "model_module_version": "1.5.0",
     "model_name": "FloatProgressModel",
     "state": {
      "_dom_classes": [],
      "_model_module": "@jupyter-widgets/controls",
      "_model_module_version": "1.5.0",
      "_model_name": "FloatProgressModel",
      "_view_count": null,
      "_view_module": "@jupyter-widgets/controls",
      "_view_module_version": "1.5.0",
      "_view_name": "ProgressView",
      "bar_style": "success",
      "description": "",
      "description_tooltip": null,
      "layout": "IPY_MODEL_b12545f75afa4ce2aec39b808ca1b79e",
      "max": 502,
      "min": 0,
      "orientation": "horizontal",
      "style": "IPY_MODEL_de9739914bf048e19ed04f43cb1cb3a4",
      "value": 502
     }
    },
    "5575e74dab7843d591675fad64b8e2d4": {
     "model_module": "@jupyter-widgets/controls",
     "model_module_version": "1.5.0",
     "model_name": "HTMLModel",
     "state": {
      "_dom_classes": [],
      "_model_module": "@jupyter-widgets/controls",
      "_model_module_version": "1.5.0",
      "_model_name": "HTMLModel",
      "_view_count": null,
      "_view_module": "@jupyter-widgets/controls",
      "_view_module_version": "1.5.0",
      "_view_name": "HTMLView",
      "description": "",
      "description_tooltip": null,
      "layout": "IPY_MODEL_3f3fb10df10a4aa58c11e0a31ef5ef61",
      "placeholder": "​",
      "style": "IPY_MODEL_d0cc596050554fe9bc55fb361d269713",
      "value": " 502/502 [00:00&lt;00:00, 31.1kB/s]"
     }
    },
    "64a02d7e08614238b4bd923ae492516f": {
     "model_module": "@jupyter-widgets/controls",
     "model_module_version": "1.5.0",
     "model_name": "HTMLModel",
     "state": {
      "_dom_classes": [],
      "_model_module": "@jupyter-widgets/controls",
      "_model_module_version": "1.5.0",
      "_model_name": "HTMLModel",
      "_view_count": null,
      "_view_module": "@jupyter-widgets/controls",
      "_view_module_version": "1.5.0",
      "_view_name": "HTMLView",
      "description": "",
      "description_tooltip": null,
      "layout": "IPY_MODEL_c51b8ec0438d464f9265c7fe80c82146",
      "placeholder": "​",
      "style": "IPY_MODEL_b56d62235bf74153bda9fbff0ef9265e",
      "value": "model.safetensors: 100%"
     }
    },
    "69de1f2b3d72496fb209d9e6994f3b17": {
     "model_module": "@jupyter-widgets/controls",
     "model_module_version": "1.5.0",
     "model_name": "FloatProgressModel",
     "state": {
      "_dom_classes": [],
      "_model_module": "@jupyter-widgets/controls",
      "_model_module_version": "1.5.0",
      "_model_name": "FloatProgressModel",
      "_view_count": null,
      "_view_module": "@jupyter-widgets/controls",
      "_view_module_version": "1.5.0",
      "_view_name": "ProgressView",
      "bar_style": "success",
      "description": "",
      "description_tooltip": null,
      "layout": "IPY_MODEL_fbb42046c3ae4da1b392b0beb0fb799e",
      "max": 345579424,
      "min": 0,
      "orientation": "horizontal",
      "style": "IPY_MODEL_e3db548ef79d404e80c55025b0e21f04",
      "value": 345579424
     }
    },
    "6df059616d3f408a84ccb7884c9d7b3d": {
     "model_module": "@jupyter-widgets/controls",
     "model_module_version": "1.5.0",
     "model_name": "HBoxModel",
     "state": {
      "_dom_classes": [],
      "_model_module": "@jupyter-widgets/controls",
      "_model_module_version": "1.5.0",
      "_model_name": "HBoxModel",
      "_view_count": null,
      "_view_module": "@jupyter-widgets/controls",
      "_view_module_version": "1.5.0",
      "_view_name": "HBoxView",
      "box_style": "",
      "children": [
       "IPY_MODEL_64a02d7e08614238b4bd923ae492516f",
       "IPY_MODEL_69de1f2b3d72496fb209d9e6994f3b17",
       "IPY_MODEL_7540b57839884fb69fc49d4aaa2258e7"
      ],
      "layout": "IPY_MODEL_095e7d97e6344b13843bc4a29ceda5e5"
     }
    },
    "7540b57839884fb69fc49d4aaa2258e7": {
     "model_module": "@jupyter-widgets/controls",
     "model_module_version": "1.5.0",
     "model_name": "HTMLModel",
     "state": {
      "_dom_classes": [],
      "_model_module": "@jupyter-widgets/controls",
      "_model_module_version": "1.5.0",
      "_model_name": "HTMLModel",
      "_view_count": null,
      "_view_module": "@jupyter-widgets/controls",
      "_view_module_version": "1.5.0",
      "_view_name": "HTMLView",
      "description": "",
      "description_tooltip": null,
      "layout": "IPY_MODEL_a54ddb5fe779418bb54c675e53da5da6",
      "placeholder": "​",
      "style": "IPY_MODEL_4654514e25d54f2f858e190473e62d85",
      "value": " 346M/346M [00:02&lt;00:00, 173MB/s]"
     }
    },
    "8899b2b697b44df0a458f2a3cc7af2db": {
     "model_module": "@jupyter-widgets/base",
     "model_module_version": "1.2.0",
     "model_name": "LayoutModel",
     "state": {
      "_model_module": "@jupyter-widgets/base",
      "_model_module_version": "1.2.0",
      "_model_name": "LayoutModel",
      "_view_count": null,
      "_view_module": "@jupyter-widgets/base",
      "_view_module_version": "1.2.0",
      "_view_name": "LayoutView",
      "align_content": null,
      "align_items": null,
      "align_self": null,
      "border": null,
      "bottom": null,
      "display": null,
      "flex": null,
      "flex_flow": null,
      "grid_area": null,
      "grid_auto_columns": null,
      "grid_auto_flow": null,
      "grid_auto_rows": null,
      "grid_column": null,
      "grid_gap": null,
      "grid_row": null,
      "grid_template_areas": null,
      "grid_template_columns": null,
      "grid_template_rows": null,
      "height": null,
      "justify_content": null,
      "justify_items": null,
      "left": null,
      "margin": null,
      "max_height": null,
      "max_width": null,
      "min_height": null,
      "min_width": null,
      "object_fit": null,
      "object_position": null,
      "order": null,
      "overflow": null,
      "overflow_x": null,
      "overflow_y": null,
      "padding": null,
      "right": null,
      "top": null,
      "visibility": null,
      "width": null
     }
    },
    "940ed9d8a261488692dae6ccc5e312d8": {
     "model_module": "@jupyter-widgets/base",
     "model_module_version": "1.2.0",
     "model_name": "LayoutModel",
     "state": {
      "_model_module": "@jupyter-widgets/base",
      "_model_module_version": "1.2.0",
      "_model_name": "LayoutModel",
      "_view_count": null,
      "_view_module": "@jupyter-widgets/base",
      "_view_module_version": "1.2.0",
      "_view_name": "LayoutView",
      "align_content": null,
      "align_items": null,
      "align_self": null,
      "border": null,
      "bottom": null,
      "display": null,
      "flex": null,
      "flex_flow": null,
      "grid_area": null,
      "grid_auto_columns": null,
      "grid_auto_flow": null,
      "grid_auto_rows": null,
      "grid_column": null,
      "grid_gap": null,
      "grid_row": null,
      "grid_template_areas": null,
      "grid_template_columns": null,
      "grid_template_rows": null,
      "height": null,
      "justify_content": null,
      "justify_items": null,
      "left": null,
      "margin": null,
      "max_height": null,
      "max_width": null,
      "min_height": null,
      "min_width": null,
      "object_fit": null,
      "object_position": null,
      "order": null,
      "overflow": null,
      "overflow_x": null,
      "overflow_y": null,
      "padding": null,
      "right": null,
      "top": null,
      "visibility": null,
      "width": null
     }
    },
    "9de33e67dfd748fcb4eb12f1916998dd": {
     "model_module": "@jupyter-widgets/controls",
     "model_module_version": "1.5.0",
     "model_name": "HBoxModel",
     "state": {
      "_dom_classes": [],
      "_model_module": "@jupyter-widgets/controls",
      "_model_module_version": "1.5.0",
      "_model_name": "HBoxModel",
      "_view_count": null,
      "_view_module": "@jupyter-widgets/controls",
      "_view_module_version": "1.5.0",
      "_view_name": "HBoxView",
      "box_style": "",
      "children": [
       "IPY_MODEL_b35a017235c4426ea5e7b148a3aad311",
       "IPY_MODEL_4681a11fb2c74fa28f7a7a7043d99f80",
       "IPY_MODEL_5575e74dab7843d591675fad64b8e2d4"
      ],
      "layout": "IPY_MODEL_8899b2b697b44df0a458f2a3cc7af2db"
     }
    },
    "a54ddb5fe779418bb54c675e53da5da6": {
     "model_module": "@jupyter-widgets/base",
     "model_module_version": "1.2.0",
     "model_name": "LayoutModel",
     "state": {
      "_model_module": "@jupyter-widgets/base",
      "_model_module_version": "1.2.0",
      "_model_name": "LayoutModel",
      "_view_count": null,
      "_view_module": "@jupyter-widgets/base",
      "_view_module_version": "1.2.0",
      "_view_name": "LayoutView",
      "align_content": null,
      "align_items": null,
      "align_self": null,
      "border": null,
      "bottom": null,
      "display": null,
      "flex": null,
      "flex_flow": null,
      "grid_area": null,
      "grid_auto_columns": null,
      "grid_auto_flow": null,
      "grid_auto_rows": null,
      "grid_column": null,
      "grid_gap": null,
      "grid_row": null,
      "grid_template_areas": null,
      "grid_template_columns": null,
      "grid_template_rows": null,
      "height": null,
      "justify_content": null,
      "justify_items": null,
      "left": null,
      "margin": null,
      "max_height": null,
      "max_width": null,
      "min_height": null,
      "min_width": null,
      "object_fit": null,
      "object_position": null,
      "order": null,
      "overflow": null,
      "overflow_x": null,
      "overflow_y": null,
      "padding": null,
      "right": null,
      "top": null,
      "visibility": null,
      "width": null
     }
    },
    "b12545f75afa4ce2aec39b808ca1b79e": {
     "model_module": "@jupyter-widgets/base",
     "model_module_version": "1.2.0",
     "model_name": "LayoutModel",
     "state": {
      "_model_module": "@jupyter-widgets/base",
      "_model_module_version": "1.2.0",
      "_model_name": "LayoutModel",
      "_view_count": null,
      "_view_module": "@jupyter-widgets/base",
      "_view_module_version": "1.2.0",
      "_view_name": "LayoutView",
      "align_content": null,
      "align_items": null,
      "align_self": null,
      "border": null,
      "bottom": null,
      "display": null,
      "flex": null,
      "flex_flow": null,
      "grid_area": null,
      "grid_auto_columns": null,
      "grid_auto_flow": null,
      "grid_auto_rows": null,
      "grid_column": null,
      "grid_gap": null,
      "grid_row": null,
      "grid_template_areas": null,
      "grid_template_columns": null,
      "grid_template_rows": null,
      "height": null,
      "justify_content": null,
      "justify_items": null,
      "left": null,
      "margin": null,
      "max_height": null,
      "max_width": null,
      "min_height": null,
      "min_width": null,
      "object_fit": null,
      "object_position": null,
      "order": null,
      "overflow": null,
      "overflow_x": null,
      "overflow_y": null,
      "padding": null,
      "right": null,
      "top": null,
      "visibility": null,
      "width": null
     }
    },
    "b35a017235c4426ea5e7b148a3aad311": {
     "model_module": "@jupyter-widgets/controls",
     "model_module_version": "1.5.0",
     "model_name": "HTMLModel",
     "state": {
      "_dom_classes": [],
      "_model_module": "@jupyter-widgets/controls",
      "_model_module_version": "1.5.0",
      "_model_name": "HTMLModel",
      "_view_count": null,
      "_view_module": "@jupyter-widgets/controls",
      "_view_module_version": "1.5.0",
      "_view_name": "HTMLView",
      "description": "",
      "description_tooltip": null,
      "layout": "IPY_MODEL_bafc114ed3134a6e90baa029d9c12e47",
      "placeholder": "​",
      "style": "IPY_MODEL_27baae0d11d544c19a6985c5d52a3002",
      "value": "config.json: 100%"
     }
    },
    "b56d62235bf74153bda9fbff0ef9265e": {
     "model_module": "@jupyter-widgets/controls",
     "model_module_version": "1.5.0",
     "model_name": "DescriptionStyleModel",
     "state": {
      "_model_module": "@jupyter-widgets/controls",
      "_model_module_version": "1.5.0",
      "_model_name": "DescriptionStyleModel",
      "_view_count": null,
      "_view_module": "@jupyter-widgets/base",
      "_view_module_version": "1.2.0",
      "_view_name": "StyleView",
      "description_width": ""
     }
    },
    "bafc114ed3134a6e90baa029d9c12e47": {
     "model_module": "@jupyter-widgets/base",
     "model_module_version": "1.2.0",
     "model_name": "LayoutModel",
     "state": {
      "_model_module": "@jupyter-widgets/base",
      "_model_module_version": "1.2.0",
      "_model_name": "LayoutModel",
      "_view_count": null,
      "_view_module": "@jupyter-widgets/base",
      "_view_module_version": "1.2.0",
      "_view_name": "LayoutView",
      "align_content": null,
      "align_items": null,
      "align_self": null,
      "border": null,
      "bottom": null,
      "display": null,
      "flex": null,
      "flex_flow": null,
      "grid_area": null,
      "grid_auto_columns": null,
      "grid_auto_flow": null,
      "grid_auto_rows": null,
      "grid_column": null,
      "grid_gap": null,
      "grid_row": null,
      "grid_template_areas": null,
      "grid_template_columns": null,
      "grid_template_rows": null,
      "height": null,
      "justify_content": null,
      "justify_items": null,
      "left": null,
      "margin": null,
      "max_height": null,
      "max_width": null,
      "min_height": null,
      "min_width": null,
      "object_fit": null,
      "object_position": null,
      "order": null,
      "overflow": null,
      "overflow_x": null,
      "overflow_y": null,
      "padding": null,
      "right": null,
      "top": null,
      "visibility": null,
      "width": null
     }
    },
    "c51b8ec0438d464f9265c7fe80c82146": {
     "model_module": "@jupyter-widgets/base",
     "model_module_version": "1.2.0",
     "model_name": "LayoutModel",
     "state": {
      "_model_module": "@jupyter-widgets/base",
      "_model_module_version": "1.2.0",
      "_model_name": "LayoutModel",
      "_view_count": null,
      "_view_module": "@jupyter-widgets/base",
      "_view_module_version": "1.2.0",
      "_view_name": "LayoutView",
      "align_content": null,
      "align_items": null,
      "align_self": null,
      "border": null,
      "bottom": null,
      "display": null,
      "flex": null,
      "flex_flow": null,
      "grid_area": null,
      "grid_auto_columns": null,
      "grid_auto_flow": null,
      "grid_auto_rows": null,
      "grid_column": null,
      "grid_gap": null,
      "grid_row": null,
      "grid_template_areas": null,
      "grid_template_columns": null,
      "grid_template_rows": null,
      "height": null,
      "justify_content": null,
      "justify_items": null,
      "left": null,
      "margin": null,
      "max_height": null,
      "max_width": null,
      "min_height": null,
      "min_width": null,
      "object_fit": null,
      "object_position": null,
      "order": null,
      "overflow": null,
      "overflow_x": null,
      "overflow_y": null,
      "padding": null,
      "right": null,
      "top": null,
      "visibility": null,
      "width": null
     }
    },
    "d042927b3f124d90baba6d2e105496a1": {
     "model_module": "@jupyter-widgets/controls",
     "model_module_version": "1.5.0",
     "model_name": "FloatProgressModel",
     "state": {
      "_dom_classes": [],
      "_model_module": "@jupyter-widgets/controls",
      "_model_module_version": "1.5.0",
      "_model_name": "FloatProgressModel",
      "_view_count": null,
      "_view_module": "@jupyter-widgets/controls",
      "_view_module_version": "1.5.0",
      "_view_name": "ProgressView",
      "bar_style": "success",
      "description": "",
      "description_tooltip": null,
      "layout": "IPY_MODEL_136c4ad833744750adec60ee8ea4b632",
      "max": 160,
      "min": 0,
      "orientation": "horizontal",
      "style": "IPY_MODEL_df1604db477447598b8289e3caf93e6e",
      "value": 160
     }
    },
    "d0cc596050554fe9bc55fb361d269713": {
     "model_module": "@jupyter-widgets/controls",
     "model_module_version": "1.5.0",
     "model_name": "DescriptionStyleModel",
     "state": {
      "_model_module": "@jupyter-widgets/controls",
      "_model_module_version": "1.5.0",
      "_model_name": "DescriptionStyleModel",
      "_view_count": null,
      "_view_module": "@jupyter-widgets/base",
      "_view_module_version": "1.2.0",
      "_view_name": "StyleView",
      "description_width": ""
     }
    },
    "de9739914bf048e19ed04f43cb1cb3a4": {
     "model_module": "@jupyter-widgets/controls",
     "model_module_version": "1.5.0",
     "model_name": "ProgressStyleModel",
     "state": {
      "_model_module": "@jupyter-widgets/controls",
      "_model_module_version": "1.5.0",
      "_model_name": "ProgressStyleModel",
      "_view_count": null,
      "_view_module": "@jupyter-widgets/base",
      "_view_module_version": "1.2.0",
      "_view_name": "StyleView",
      "bar_color": null,
      "description_width": ""
     }
    },
    "df1604db477447598b8289e3caf93e6e": {
     "model_module": "@jupyter-widgets/controls",
     "model_module_version": "1.5.0",
     "model_name": "ProgressStyleModel",
     "state": {
      "_model_module": "@jupyter-widgets/controls",
      "_model_module_version": "1.5.0",
      "_model_name": "ProgressStyleModel",
      "_view_count": null,
      "_view_module": "@jupyter-widgets/base",
      "_view_module_version": "1.2.0",
      "_view_name": "StyleView",
      "bar_color": null,
      "description_width": ""
     }
    },
    "e1da49b729174408abcfc5515093fc4d": {
     "model_module": "@jupyter-widgets/controls",
     "model_module_version": "1.5.0",
     "model_name": "HTMLModel",
     "state": {
      "_dom_classes": [],
      "_model_module": "@jupyter-widgets/controls",
      "_model_module_version": "1.5.0",
      "_model_name": "HTMLModel",
      "_view_count": null,
      "_view_module": "@jupyter-widgets/controls",
      "_view_module_version": "1.5.0",
      "_view_name": "HTMLView",
      "description": "",
      "description_tooltip": null,
      "layout": "IPY_MODEL_e8fee5fef8d4418ead653900e3b7f272",
      "placeholder": "​",
      "style": "IPY_MODEL_10f586ea666a42e99398e16dcbbacaa5",
      "value": " 160/160 [00:00&lt;00:00, 5.02kB/s]"
     }
    },
    "e3db548ef79d404e80c55025b0e21f04": {
     "model_module": "@jupyter-widgets/controls",
     "model_module_version": "1.5.0",
     "model_name": "ProgressStyleModel",
     "state": {
      "_model_module": "@jupyter-widgets/controls",
      "_model_module_version": "1.5.0",
      "_model_name": "ProgressStyleModel",
      "_view_count": null,
      "_view_module": "@jupyter-widgets/base",
      "_view_module_version": "1.2.0",
      "_view_name": "StyleView",
      "bar_color": null,
      "description_width": ""
     }
    },
    "e8fee5fef8d4418ead653900e3b7f272": {
     "model_module": "@jupyter-widgets/base",
     "model_module_version": "1.2.0",
     "model_name": "LayoutModel",
     "state": {
      "_model_module": "@jupyter-widgets/base",
      "_model_module_version": "1.2.0",
      "_model_name": "LayoutModel",
      "_view_count": null,
      "_view_module": "@jupyter-widgets/base",
      "_view_module_version": "1.2.0",
      "_view_name": "LayoutView",
      "align_content": null,
      "align_items": null,
      "align_self": null,
      "border": null,
      "bottom": null,
      "display": null,
      "flex": null,
      "flex_flow": null,
      "grid_area": null,
      "grid_auto_columns": null,
      "grid_auto_flow": null,
      "grid_auto_rows": null,
      "grid_column": null,
      "grid_gap": null,
      "grid_row": null,
      "grid_template_areas": null,
      "grid_template_columns": null,
      "grid_template_rows": null,
      "height": null,
      "justify_content": null,
      "justify_items": null,
      "left": null,
      "margin": null,
      "max_height": null,
      "max_width": null,
      "min_height": null,
      "min_width": null,
      "object_fit": null,
      "object_position": null,
      "order": null,
      "overflow": null,
      "overflow_x": null,
      "overflow_y": null,
      "padding": null,
      "right": null,
      "top": null,
      "visibility": null,
      "width": null
     }
    },
    "f542601db95c41f8bab4493ed79f4f3f": {
     "model_module": "@jupyter-widgets/controls",
     "model_module_version": "1.5.0",
     "model_name": "DescriptionStyleModel",
     "state": {
      "_model_module": "@jupyter-widgets/controls",
      "_model_module_version": "1.5.0",
      "_model_name": "DescriptionStyleModel",
      "_view_count": null,
      "_view_module": "@jupyter-widgets/base",
      "_view_module_version": "1.2.0",
      "_view_name": "StyleView",
      "description_width": ""
     }
    },
    "fbb42046c3ae4da1b392b0beb0fb799e": {
     "model_module": "@jupyter-widgets/base",
     "model_module_version": "1.2.0",
     "model_name": "LayoutModel",
     "state": {
      "_model_module": "@jupyter-widgets/base",
      "_model_module_version": "1.2.0",
      "_model_name": "LayoutModel",
      "_view_count": null,
      "_view_module": "@jupyter-widgets/base",
      "_view_module_version": "1.2.0",
      "_view_name": "LayoutView",
      "align_content": null,
      "align_items": null,
      "align_self": null,
      "border": null,
      "bottom": null,
      "display": null,
      "flex": null,
      "flex_flow": null,
      "grid_area": null,
      "grid_auto_columns": null,
      "grid_auto_flow": null,
      "grid_auto_rows": null,
      "grid_column": null,
      "grid_gap": null,
      "grid_row": null,
      "grid_template_areas": null,
      "grid_template_columns": null,
      "grid_template_rows": null,
      "height": null,
      "justify_content": null,
      "justify_items": null,
      "left": null,
      "margin": null,
      "max_height": null,
      "max_width": null,
      "min_height": null,
      "min_width": null,
      "object_fit": null,
      "object_position": null,
      "order": null,
      "overflow": null,
      "overflow_x": null,
      "overflow_y": null,
      "padding": null,
      "right": null,
      "top": null,
      "visibility": null,
      "width": null
     }
    }
   }
  }
 },
 "nbformat": 4,
 "nbformat_minor": 4
}
