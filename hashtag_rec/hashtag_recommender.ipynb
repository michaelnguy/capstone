{
 "cells": [
  {
   "cell_type": "markdown",
   "metadata": {
    "id": "fWmhwiGCBcpt"
   },
   "source": [
    "## Setup & Imports\n"
   ]
  },
  {
   "cell_type": "code",
   "execution_count": 1,
   "metadata": {
    "colab": {
     "base_uri": "https://localhost:8080/"
    },
    "id": "Q6XczizZwbmx",
    "outputId": "61f6fcf6-6854-40d4-8ab2-a7c042c0de1f"
   },
   "outputs": [
    {
     "name": "stdout",
     "output_type": "stream",
     "text": [
      "/Users/michaelnguy/Desktop/capstone/webapp/hashtag_rec\n"
     ]
    }
   ],
   "source": [
    "!pwd"
   ]
  },
  {
   "cell_type": "code",
   "execution_count": 2,
   "metadata": {
    "id": "dlRGx0SYBba4"
   },
   "outputs": [
    {
     "name": "stdout",
     "output_type": "stream",
     "text": [
      "cp: directory /content does not exist\n"
     ]
    }
   ],
   "source": [
    "# copy custom scripts from MyDrive to use in Colab\n",
    "# ref: https://stackoverflow.com/a/74791011\n",
    "!cp -r /content/drive/MyDrive/hashtag_rec/scripts/. /content/"
   ]
  },
  {
   "cell_type": "code",
   "execution_count": 3,
   "metadata": {
    "id": "opdF7KwG2d68",
    "tags": []
   },
   "outputs": [],
   "source": [
    "# !pip install -r requirements.txt"
   ]
  },
  {
   "cell_type": "code",
   "execution_count": 4,
   "metadata": {
    "id": "g5xSRTJmIF4L",
    "tags": []
   },
   "outputs": [],
   "source": [
    "# if running notebook in Google Colab, %load will not work - https://github.com/googlecolab/colabtools/issues/42\n",
    "# copy paste the contents of constants.py file\n",
    "\n",
    "# %load constants.py # uncomment this line to load in constants\n",
    "# data constants\n",
    "DATA_DIR = \"./HARRISON\"  # REPLACE THIS with the directory path that you stored the HARRISON dataset in\n",
    "DATA_LEN = 57383\n",
    "\n",
    "# file path constants\n",
    "INDICES_SPLIT_FILE_NAME = \"data_indices_split.json\"\n",
    "IMG_PATHS_FILE_NAME = \"data_list.txt\"\n",
    "GT_TAGS_FILE_NAME = \"tag_list.txt\"\n",
    "EMBEDDINGS_FILE_NAME = \"data_embeddings.txt\"\n",
    "\n",
    "# model constants\n",
    "CLIP_MODEL_NAME = \"openai/clip-vit-base-patch32\"\n",
    "VIT_MODEL_NAME = \"google/vit-base-patch16-224-in21k\"\n",
    "LLAVA_MODEL_NAME = \"llava-hf/llava-1.5-7b-hf\"\n",
    "ST_MODEL_NAME = \"sentence-transformers/all-MiniLM-L6-v2\"\n",
    "\n",
    "# df column constants\n",
    "ID_COL = \"img_id\"\n",
    "EMB_COL = \"emb\"\n",
    "GT_COL = \"gt_tags\"\n",
    "PRED_COL = \"pred_tags\"\n",
    "\n",
    "# metric constants\n",
    "ACCURACY = \"acc\"\n",
    "PRECISION = \"prec\"\n",
    "RECALL = \"rec\"\n",
    "SEMANTIC_SIMILARITY = \"sim\""
   ]
  },
  {
   "cell_type": "code",
   "execution_count": 5,
   "metadata": {
    "id": "pIkRmidYD0No",
    "tags": []
   },
   "outputs": [],
   "source": [
    "import os\n",
    "import json\n",
    "import numpy as np\n",
    "import pandas as pd\n",
    "import sys"
   ]
  },
  {
   "cell_type": "code",
   "execution_count": 6,
   "metadata": {},
   "outputs": [
    {
     "name": "stdout",
     "output_type": "stream",
     "text": [
      "./HARRISON/data_indices_split.json\n"
     ]
    }
   ],
   "source": [
    "sys.path.append(os.path.join(os.getcwd(), \"scripts\"))"
   ]
  },
  {
   "cell_type": "code",
   "execution_count": 7,
   "metadata": {
    "colab": {
     "base_uri": "https://localhost:8080/",
     "height": 262,
     "referenced_widgets": [
      "10ecdaefd570425cbd35fee62d5398fb",
      "1b249aea12fa4ee3bda827000ed4e6db",
      "d042927b3f124d90baba6d2e105496a1",
      "e1da49b729174408abcfc5515093fc4d",
      "30f8a509a6454f75ad5d7bf74a457c31",
      "940ed9d8a261488692dae6ccc5e312d8",
      "f542601db95c41f8bab4493ed79f4f3f",
      "136c4ad833744750adec60ee8ea4b632",
      "df1604db477447598b8289e3caf93e6e",
      "e8fee5fef8d4418ead653900e3b7f272",
      "10f586ea666a42e99398e16dcbbacaa5",
      "9de33e67dfd748fcb4eb12f1916998dd",
      "b35a017235c4426ea5e7b148a3aad311",
      "4681a11fb2c74fa28f7a7a7043d99f80",
      "5575e74dab7843d591675fad64b8e2d4",
      "8899b2b697b44df0a458f2a3cc7af2db",
      "bafc114ed3134a6e90baa029d9c12e47",
      "27baae0d11d544c19a6985c5d52a3002",
      "b12545f75afa4ce2aec39b808ca1b79e",
      "de9739914bf048e19ed04f43cb1cb3a4",
      "3f3fb10df10a4aa58c11e0a31ef5ef61",
      "d0cc596050554fe9bc55fb361d269713",
      "6df059616d3f408a84ccb7884c9d7b3d",
      "64a02d7e08614238b4bd923ae492516f",
      "69de1f2b3d72496fb209d9e6994f3b17",
      "7540b57839884fb69fc49d4aaa2258e7",
      "095e7d97e6344b13843bc4a29ceda5e5",
      "c51b8ec0438d464f9265c7fe80c82146",
      "b56d62235bf74153bda9fbff0ef9265e",
      "fbb42046c3ae4da1b392b0beb0fb799e",
      "e3db548ef79d404e80c55025b0e21f04",
      "a54ddb5fe779418bb54c675e53da5da6",
      "4654514e25d54f2f858e190473e62d85"
     ]
    },
    "id": "NOkMBx79Bt3R",
    "outputId": "7650cc3e-6d3b-4898-bf6e-c05ef13fd9a0",
    "tags": []
   },
   "outputs": [
    {
     "name": "stderr",
     "output_type": "stream",
     "text": [
      "/Users/michaelnguy/miniforge3/envs/playgroundenv/lib/python3.10/site-packages/tqdm/auto.py:21: TqdmWarning: IProgress not found. Please update jupyter and ipywidgets. See https://ipywidgets.readthedocs.io/en/stable/user_install.html\n",
      "  from .autonotebook import tqdm as notebook_tqdm\n"
     ]
    }
   ],
   "source": [
    "from data_utils import load_image_paths, load_image_tags\n",
    "from eval_utils import evaluate_recommendations\n",
    "from image_utils import get_image_from_fp, get_image_from_url, get_image_vectorizer_for_recommender\n",
    "from index import create_index_from_df\n",
    "from recommenders import (\n",
    "    ImageIndexTagRecommender,\n",
    "    TagIndexTagRecommender,\n",
    "    LlavaTagRecommender,\n",
    ")"
   ]
  },
  {
   "cell_type": "markdown",
   "metadata": {
    "id": "e-lFpCbIFUxk"
   },
   "source": [
    "## Load data split, image paths, image tags\n"
   ]
  },
  {
   "cell_type": "code",
   "execution_count": 8,
   "metadata": {
    "id": "AXd_YooHFEGg",
    "tags": []
   },
   "outputs": [],
   "source": [
    "with open(os.path.join(DATA_DIR, INDICES_SPLIT_FILE_NAME)) as f:\n",
    "    indices_split = json.load(f)"
   ]
  },
  {
   "cell_type": "code",
   "execution_count": 9,
   "metadata": {
    "colab": {
     "base_uri": "https://localhost:8080/"
    },
    "id": "qBvF_tICFjv5",
    "outputId": "d2c6a38f-82ca-4e6f-8de8-5befc5184a11",
    "tags": []
   },
   "outputs": [
    {
     "name": "stdout",
     "output_type": "stream",
     "text": [
      "Loading image paths from file: ./HARRISON/data_list.txt\n",
      "Finished loading 57383 image paths\n"
     ]
    }
   ],
   "source": [
    "img_fps = load_image_paths(os.path.join(DATA_DIR, IMG_PATHS_FILE_NAME))"
   ]
  },
  {
   "cell_type": "code",
   "execution_count": 10,
   "metadata": {
    "colab": {
     "base_uri": "https://localhost:8080/"
    },
    "id": "1s82pbFcFbcX",
    "outputId": "3d5c31fe-740a-49cb-8c55-8fb406dd0d68",
    "tags": []
   },
   "outputs": [
    {
     "name": "stdout",
     "output_type": "stream",
     "text": [
      "Loading image tags from file: ./HARRISON/tag_list.txt\n",
      "Finished loading tags for 57383 images\n"
     ]
    }
   ],
   "source": [
    "tags_list = load_image_tags(os.path.join(DATA_DIR, GT_TAGS_FILE_NAME))"
   ]
  },
  {
   "cell_type": "markdown",
   "metadata": {
    "id": "WUpZUudrPa40"
   },
   "source": [
    "## ImageIndex recommender\n"
   ]
  },
  {
   "cell_type": "code",
   "execution_count": 11,
   "metadata": {
    "id": "mBpitGHRIadR",
    "tags": []
   },
   "outputs": [],
   "source": [
    "experiment_name = \"clip_unweighted\""
   ]
  },
  {
   "cell_type": "markdown",
   "metadata": {
    "id": "bqJwzULSF45J"
   },
   "source": [
    "### Load embeddings\n"
   ]
  },
  {
   "cell_type": "code",
   "execution_count": 12,
   "metadata": {
    "colab": {
     "base_uri": "https://localhost:8080/"
    },
    "id": "96PpqjNoF6dT",
    "outputId": "2ceaeef3-ddc5-4f88-f207-8987922b0a2f",
    "tags": []
   },
   "outputs": [
    {
     "data": {
      "text/plain": [
       "(57333, 2)"
      ]
     },
     "execution_count": 12,
     "metadata": {},
     "output_type": "execute_result"
    }
   ],
   "source": [
    "emb_fp = os.path.join(DATA_DIR, \"data_embeddings.txt\")\n",
    "emb_df = pd.read_json(emb_fp, lines=True)\n",
    "emb_df.shape"
   ]
  },
  {
   "cell_type": "code",
   "execution_count": 13,
   "metadata": {
    "id": "9ub6ZIOHGNwE",
    "tags": []
   },
   "outputs": [],
   "source": [
    "train_df = emb_df[emb_df[ID_COL].isin(indices_split[\"train\"])]\n",
    "test_df = emb_df[emb_df[ID_COL].isin(indices_split[\"test\"])]"
   ]
  },
  {
   "cell_type": "code",
   "execution_count": 14,
   "metadata": {
    "id": "HoW-aWkBGVe2",
    "tags": []
   },
   "outputs": [],
   "source": [
    "test_idx_mapping = {i: img_id for i, img_id in enumerate(test_df[ID_COL])}"
   ]
  },
  {
   "cell_type": "code",
   "execution_count": 15,
   "metadata": {
    "colab": {
     "base_uri": "https://localhost:8080/"
    },
    "id": "6lIYfjeJHVQ_",
    "outputId": "3e78d86f-3c36-476c-8057-bd72b4633273",
    "tags": []
   },
   "outputs": [
    {
     "data": {
      "text/plain": [
       "(500, 500)"
      ]
     },
     "execution_count": 15,
     "metadata": {},
     "output_type": "execute_result"
    }
   ],
   "source": [
    "len(test_df), len(test_idx_mapping)"
   ]
  },
  {
   "cell_type": "markdown",
   "metadata": {
    "id": "ZtAoq1pIFXdR"
   },
   "source": [
    "### Create index\n"
   ]
  },
  {
   "cell_type": "code",
   "execution_count": 16,
   "metadata": {
    "colab": {
     "base_uri": "https://localhost:8080/"
    },
    "id": "niqfPf89EC4V",
    "outputId": "707b3f86-57ea-4d01-819b-5313bc4faf24",
    "tags": []
   },
   "outputs": [
    {
     "name": "stdout",
     "output_type": "stream",
     "text": [
      "Creating index with vectors of shape: (56333, 512)\n"
     ]
    }
   ],
   "source": [
    "img_index, train_idx_mapping = create_index_from_df(train_df)"
   ]
  },
  {
   "cell_type": "markdown",
   "metadata": {
    "id": "VuFzE7V4FbJ2"
   },
   "source": [
    "### Create recommender\n"
   ]
  },
  {
   "cell_type": "code",
   "execution_count": 17,
   "metadata": {
    "id": "2B09x6HqFhiW",
    "tags": []
   },
   "outputs": [],
   "source": [
    "recommender = ImageIndexTagRecommender(\n",
    "    img_index, train_idx_mapping, tags_list, weight_method=\"frequency\"\n",
    ")"
   ]
  },
  {
   "cell_type": "markdown",
   "metadata": {
    "id": "wIIoHT04HK0b"
   },
   "source": [
    "### Get recommendations\n"
   ]
  },
  {
   "cell_type": "code",
   "execution_count": 18,
   "metadata": {
    "colab": {
     "base_uri": "https://localhost:8080/"
    },
    "id": "FVjm5GfcFm71",
    "outputId": "77d0028d-1a74-4a19-f828-6d074ee1402d",
    "tags": []
   },
   "outputs": [
    {
     "data": {
      "text/plain": [
       "500"
      ]
     },
     "execution_count": 18,
     "metadata": {},
     "output_type": "execute_result"
    }
   ],
   "source": [
    "rec_tags = recommender.get_tags_for_image_vector(np.array(test_df[EMB_COL].to_list()))\n",
    "len(rec_tags)"
   ]
  },
  {
   "cell_type": "code",
   "execution_count": 19,
   "metadata": {
    "tags": []
   },
   "outputs": [
    {
     "data": {
      "text/plain": [
       "[['flower', 'yellow', 'purple', 'spring', 'tree'],\n",
       " ['vscocam', 'vsco', 'nature', 'sky', 'tree'],\n",
       " ['baby', 'instagood', 'cute', 'love', 'family']]"
      ]
     },
     "execution_count": 19,
     "metadata": {},
     "output_type": "execute_result"
    }
   ],
   "source": [
    "rec_tags[:3]"
   ]
  },
  {
   "cell_type": "code",
   "execution_count": 20,
   "metadata": {
    "id": "dNrjQgGxHp5E",
    "tags": []
   },
   "outputs": [],
   "source": [
    "# save recommendations to file\n",
    "with open(\n",
    "    os.path.join(\"recommendations\", \"test\", f\"recommendations_{experiment_name}.txt\"),\n",
    "    \"w\",\n",
    ") as f:\n",
    "    for i, (idx, row) in enumerate(test_df.iterrows()):\n",
    "        img_id = row[\"img_id\"]\n",
    "        gt_tags = tags_list[img_id]\n",
    "        pred_tags = rec_tags[i]\n",
    "\n",
    "        json.dump({\"img_id\": img_id, \"gt_tags\": gt_tags, \"pred_tags\": pred_tags}, f)\n",
    "        f.write(os.linesep)"
   ]
  },
  {
   "cell_type": "markdown",
   "metadata": {
    "id": "VuFzE7V4FbJ2"
   },
   "source": [
    "### Get recommendations from images"
   ]
  },
  {
   "cell_type": "code",
   "execution_count": 19,
   "metadata": {
    "tags": []
   },
   "outputs": [
    {
     "data": {
      "application/vnd.jupyter.widget-view+json": {
       "model_id": "42dec2293a7c49fbafaf6fd7131b6026",
       "version_major": 2,
       "version_minor": 0
      },
      "text/plain": [
       "preprocessor_config.json:   0%|          | 0.00/316 [00:00<?, ?B/s]"
      ]
     },
     "metadata": {},
     "output_type": "display_data"
    },
    {
     "data": {
      "application/vnd.jupyter.widget-view+json": {
       "model_id": "3d8323ffda154835a8edbc8a1800e3e1",
       "version_major": 2,
       "version_minor": 0
      },
      "text/plain": [
       "tokenizer_config.json:   0%|          | 0.00/592 [00:00<?, ?B/s]"
      ]
     },
     "metadata": {},
     "output_type": "display_data"
    },
    {
     "data": {
      "application/vnd.jupyter.widget-view+json": {
       "model_id": "2c7b432f5eac4b40aaa879b7ddf19e28",
       "version_major": 2,
       "version_minor": 0
      },
      "text/plain": [
       "vocab.json:   0%|          | 0.00/862k [00:00<?, ?B/s]"
      ]
     },
     "metadata": {},
     "output_type": "display_data"
    },
    {
     "data": {
      "application/vnd.jupyter.widget-view+json": {
       "model_id": "700b57bb8d814f4b928aad0a4d4e0cfa",
       "version_major": 2,
       "version_minor": 0
      },
      "text/plain": [
       "merges.txt:   0%|          | 0.00/525k [00:00<?, ?B/s]"
      ]
     },
     "metadata": {},
     "output_type": "display_data"
    },
    {
     "data": {
      "application/vnd.jupyter.widget-view+json": {
       "model_id": "d88adcf9fcc0413e90b55302a2694e2b",
       "version_major": 2,
       "version_minor": 0
      },
      "text/plain": [
       "tokenizer.json:   0%|          | 0.00/2.22M [00:00<?, ?B/s]"
      ]
     },
     "metadata": {},
     "output_type": "display_data"
    },
    {
     "data": {
      "application/vnd.jupyter.widget-view+json": {
       "model_id": "110c149d4bf3488bb04a77c9ba071a4c",
       "version_major": 2,
       "version_minor": 0
      },
      "text/plain": [
       "special_tokens_map.json:   0%|          | 0.00/389 [00:00<?, ?B/s]"
      ]
     },
     "metadata": {},
     "output_type": "display_data"
    },
    {
     "data": {
      "application/vnd.jupyter.widget-view+json": {
       "model_id": "1c0d04bd78894ee9b0fb181c7e6cca43",
       "version_major": 2,
       "version_minor": 0
      },
      "text/plain": [
       "config.json:   0%|          | 0.00/4.19k [00:00<?, ?B/s]"
      ]
     },
     "metadata": {},
     "output_type": "display_data"
    },
    {
     "name": "stderr",
     "output_type": "stream",
     "text": [
      "/home/ec2-user/anaconda3/envs/python3/lib/python3.10/site-packages/transformers/tokenization_utils_base.py:1601: FutureWarning: `clean_up_tokenization_spaces` was not set. It will be set to `True` by default. This behavior will be depracted in transformers v4.45, and will be then set to `False` by default. For more details check this issue: https://github.com/huggingface/transformers/issues/31884\n",
      "  warnings.warn(\n"
     ]
    },
    {
     "data": {
      "application/vnd.jupyter.widget-view+json": {
       "model_id": "938435846bd641bb80b3feafdf41670a",
       "version_major": 2,
       "version_minor": 0
      },
      "text/plain": [
       "pytorch_model.bin:   0%|          | 0.00/605M [00:00<?, ?B/s]"
      ]
     },
     "metadata": {},
     "output_type": "display_data"
    }
   ],
   "source": [
    "img_vectorizer = get_image_vectorizer_for_recommender()"
   ]
  },
  {
   "cell_type": "code",
   "execution_count": 21,
   "metadata": {
    "tags": []
   },
   "outputs": [
    {
     "data": {
      "image/jpeg": "[encoded data removed]",
      "image/png": "[encoded data removed]",
      "text/plain": [
       "<PIL.JpegImagePlugin.JpegImageFile image mode=RGB size=320x214>"
      ]
     },
     "execution_count": 21,
     "metadata": {},
     "output_type": "execute_result"
    }
   ],
   "source": [
    "img_url = \"https://live.staticflickr.com/7707/16525630273_09bd1f9bf3_n.jpg\"\n",
    "img = get_image_from_url(img_url)\n",
    "img"
   ]
  },
  {
   "cell_type": "code",
   "execution_count": 22,
   "metadata": {
    "tags": []
   },
   "outputs": [
    {
     "data": {
      "text/plain": [
       "[['sunset', 'sea', 'beach', 'landscape', 'nature']]"
      ]
     },
     "execution_count": 22,
     "metadata": {},
     "output_type": "execute_result"
    }
   ],
   "source": [
    "recommender.get_tags_for_image(img, img_vectorizer)"
   ]
  },
  {
   "cell_type": "markdown",
   "metadata": {
    "id": "SBT7-o-tPfKB"
   },
   "source": [
    "## TagIndex recommender\n"
   ]
  },
  {
   "cell_type": "code",
   "execution_count": 21,
   "metadata": {
    "id": "mBpitGHRIadR",
    "tags": []
   },
   "outputs": [],
   "source": [
    "experiment_name = \"clip_tag_index_unweighted\""
   ]
  },
  {
   "cell_type": "markdown",
   "metadata": {
    "id": "bqJwzULSF45J"
   },
   "source": [
    "### Load embeddings\n"
   ]
  },
  {
   "cell_type": "code",
   "execution_count": 22,
   "metadata": {
    "colab": {
     "base_uri": "https://localhost:8080/"
    },
    "id": "96PpqjNoF6dT",
    "outputId": "2ceaeef3-ddc5-4f88-f207-8987922b0a2f",
    "tags": []
   },
   "outputs": [
    {
     "data": {
      "text/plain": [
       "(997, 3)"
      ]
     },
     "execution_count": 22,
     "metadata": {},
     "output_type": "execute_result"
    }
   ],
   "source": [
    "tag_emb_fp = os.path.join(DATA_DIR, \"clip_tag_embs.txt\")\n",
    "tag_emb_df = pd.read_json(tag_emb_fp, lines=True)\n",
    "tag_emb_df.shape\n",
    "\n",
    "# tag_emb_df.head()"
   ]
  },
  {
   "cell_type": "markdown",
   "metadata": {
    "id": "ZtAoq1pIFXdR"
   },
   "source": [
    "### Create index\n"
   ]
  },
  {
   "cell_type": "code",
   "execution_count": 23,
   "metadata": {
    "colab": {
     "base_uri": "https://localhost:8080/"
    },
    "id": "K2gezU8LPoSS",
    "outputId": "64653ed0-9230-407f-b2e3-c8c00e312de2",
    "tags": []
   },
   "outputs": [
    {
     "name": "stdout",
     "output_type": "stream",
     "text": [
      "Creating index with vectors of shape: (997, 512)\n"
     ]
    }
   ],
   "source": [
    "tag_index, tag_idx_mapping = create_index_from_df(tag_emb_df, id_col=\"tag_id\")"
   ]
  },
  {
   "cell_type": "markdown",
   "metadata": {
    "id": "VuFzE7V4FbJ2"
   },
   "source": [
    "### Create recommender\n"
   ]
  },
  {
   "cell_type": "code",
   "execution_count": 24,
   "metadata": {
    "tags": []
   },
   "outputs": [
    {
     "data": {
      "text/plain": [
       "997"
      ]
     },
     "execution_count": 24,
     "metadata": {},
     "output_type": "execute_result"
    }
   ],
   "source": [
    "idx_tag_mapping = tag_emb_df[\"tag\"].to_dict()\n",
    "len(idx_tag_mapping)"
   ]
  },
  {
   "cell_type": "code",
   "execution_count": 25,
   "metadata": {
    "id": "2B09x6HqFhiW",
    "tags": []
   },
   "outputs": [],
   "source": [
    "recommender = TagIndexTagRecommender(\n",
    "    tag_index, tag_idx_mapping, list(idx_tag_mapping.values())\n",
    ")"
   ]
  },
  {
   "cell_type": "markdown",
   "metadata": {
    "id": "wIIoHT04HK0b"
   },
   "source": [
    "### Get recommendations\n"
   ]
  },
  {
   "cell_type": "code",
   "execution_count": 26,
   "metadata": {
    "colab": {
     "base_uri": "https://localhost:8080/"
    },
    "id": "FVjm5GfcFm71",
    "outputId": "77d0028d-1a74-4a19-f828-6d074ee1402d",
    "tags": []
   },
   "outputs": [
    {
     "data": {
      "text/plain": [
       "500"
      ]
     },
     "execution_count": 26,
     "metadata": {},
     "output_type": "execute_result"
    }
   ],
   "source": [
    "rec_tags = recommender.get_tags_for_image_vector(np.array(test_df[EMB_COL].to_list()))\n",
    "len(rec_tags)"
   ]
  },
  {
   "cell_type": "code",
   "execution_count": 27,
   "metadata": {
    "tags": []
   },
   "outputs": [
    {
     "data": {
      "text/plain": [
       "[['purple', 'flowerstagram', 'plant', 'garden', 'grass'],\n",
       " ['bluesky', 'beautifulday', 'beach', 'beachlife', 'sunnyday'],\n",
       " ['holiday', 'vacation', 'sunnyday', 'webstagram', 'instaphoto']]"
      ]
     },
     "execution_count": 27,
     "metadata": {},
     "output_type": "execute_result"
    }
   ],
   "source": [
    "rec_tags[:3]"
   ]
  },
  {
   "cell_type": "code",
   "execution_count": 28,
   "metadata": {
    "id": "dNrjQgGxHp5E",
    "tags": []
   },
   "outputs": [],
   "source": [
    "# save recommendations to file\n",
    "with open(\n",
    "    os.path.join(\"recommendations\", \"test\", f\"recommendations_{experiment_name}.txt\"),\n",
    "    \"w\",\n",
    ") as f:\n",
    "    for i, (idx, row) in enumerate(test_df.iterrows()):\n",
    "        img_id = row[\"img_id\"]\n",
    "        gt_tags = tags_list[img_id]\n",
    "        pred_tags = rec_tags[i]\n",
    "\n",
    "        json.dump({\"img_id\": img_id, \"gt_tags\": gt_tags, \"pred_tags\": pred_tags}, f)\n",
    "        f.write(os.linesep)"
   ]
  },
  {
   "cell_type": "markdown",
   "metadata": {},
   "source": [
    "## LLaVa Recommender"
   ]
  },
  {
   "cell_type": "markdown",
   "metadata": {},
   "source": [
    "NOTE: This recommender makes use of the [LLaVa model](https://huggingface.co/docs/transformers/main/model_doc/llava), which is a multimodal LLM and requires heavy compute resource such as a GPU to run. It also takes more time to produce recommended tags than the other recommenders. This recommender should be used sparingly."
   ]
  },
  {
   "cell_type": "markdown",
   "metadata": {
    "id": "VuFzE7V4FbJ2"
   },
   "source": [
    "### Create recommender"
   ]
  },
  {
   "cell_type": "code",
   "execution_count": 41,
   "metadata": {
    "tags": []
   },
   "outputs": [
    {
     "name": "stdout",
     "output_type": "stream",
     "text": [
      "Loading llava model...\n"
     ]
    },
    {
     "data": {
      "application/vnd.jupyter.widget-view+json": {
       "model_id": "a20f64b681cc46e08baa8409ae7c3c8d",
       "version_major": 2,
       "version_minor": 0
      },
      "text/plain": [
       "preprocessor_config.json:   0%|          | 0.00/505 [00:00<?, ?B/s]"
      ]
     },
     "metadata": {},
     "output_type": "display_data"
    },
    {
     "data": {
      "application/vnd.jupyter.widget-view+json": {
       "model_id": "8dfdd1f3ff5547b49ca826c167776c19",
       "version_major": 2,
       "version_minor": 0
      },
      "text/plain": [
       "tokenizer_config.json:   0%|          | 0.00/1.36k [00:00<?, ?B/s]"
      ]
     },
     "metadata": {},
     "output_type": "display_data"
    },
    {
     "data": {
      "application/vnd.jupyter.widget-view+json": {
       "model_id": "17040f112d274d47be7b4196cd4e77ee",
       "version_major": 2,
       "version_minor": 0
      },
      "text/plain": [
       "tokenizer.model:   0%|          | 0.00/500k [00:00<?, ?B/s]"
      ]
     },
     "metadata": {},
     "output_type": "display_data"
    },
    {
     "data": {
      "application/vnd.jupyter.widget-view+json": {
       "model_id": "e909f097759b4d0a99f9ed02f7aa89de",
       "version_major": 2,
       "version_minor": 0
      },
      "text/plain": [
       "tokenizer.json:   0%|          | 0.00/1.84M [00:00<?, ?B/s]"
      ]
     },
     "metadata": {},
     "output_type": "display_data"
    },
    {
     "data": {
      "application/vnd.jupyter.widget-view+json": {
       "model_id": "503bf0a52e5d4495a1484c667a12f11e",
       "version_major": 2,
       "version_minor": 0
      },
      "text/plain": [
       "added_tokens.json:   0%|          | 0.00/41.0 [00:00<?, ?B/s]"
      ]
     },
     "metadata": {},
     "output_type": "display_data"
    },
    {
     "data": {
      "application/vnd.jupyter.widget-view+json": {
       "model_id": "bb0cba822b004bdcb4fab26ec64f56ba",
       "version_major": 2,
       "version_minor": 0
      },
      "text/plain": [
       "special_tokens_map.json:   0%|          | 0.00/552 [00:00<?, ?B/s]"
      ]
     },
     "metadata": {},
     "output_type": "display_data"
    },
    {
     "data": {
      "application/vnd.jupyter.widget-view+json": {
       "model_id": "f5035272d5b14061b8f68ea974f701f8",
       "version_major": 2,
       "version_minor": 0
      },
      "text/plain": [
       "chat_template.json:   0%|          | 0.00/700 [00:00<?, ?B/s]"
      ]
     },
     "metadata": {},
     "output_type": "display_data"
    },
    {
     "data": {
      "application/vnd.jupyter.widget-view+json": {
       "model_id": "61e172eaa9fc415fa9a27cb0ac025dcc",
       "version_major": 2,
       "version_minor": 0
      },
      "text/plain": [
       "config.json:   0%|          | 0.00/950 [00:00<?, ?B/s]"
      ]
     },
     "metadata": {},
     "output_type": "display_data"
    },
    {
     "data": {
      "application/vnd.jupyter.widget-view+json": {
       "model_id": "761142b1d1714beda0dc0d68a4e5303f",
       "version_major": 2,
       "version_minor": 0
      },
      "text/plain": [
       "model.safetensors.index.json:   0%|          | 0.00/70.1k [00:00<?, ?B/s]"
      ]
     },
     "metadata": {},
     "output_type": "display_data"
    },
    {
     "data": {
      "application/vnd.jupyter.widget-view+json": {
       "model_id": "1aae020c66ad436bb38cf88317b2a4fd",
       "version_major": 2,
       "version_minor": 0
      },
      "text/plain": [
       "Downloading shards:   0%|          | 0/3 [00:00<?, ?it/s]"
      ]
     },
     "metadata": {},
     "output_type": "display_data"
    },
    {
     "data": {
      "application/vnd.jupyter.widget-view+json": {
       "model_id": "88115c507ab34832a26c83b9e6e72c6b",
       "version_major": 2,
       "version_minor": 0
      },
      "text/plain": [
       "model-00001-of-00003.safetensors:   0%|          | 0.00/4.99G [00:00<?, ?B/s]"
      ]
     },
     "metadata": {},
     "output_type": "display_data"
    },
    {
     "data": {
      "application/vnd.jupyter.widget-view+json": {
       "model_id": "83b1a41ebb594f5fae99037d98c24434",
       "version_major": 2,
       "version_minor": 0
      },
      "text/plain": [
       "model-00002-of-00003.safetensors:   0%|          | 0.00/4.96G [00:00<?, ?B/s]"
      ]
     },
     "metadata": {},
     "output_type": "display_data"
    },
    {
     "data": {
      "application/vnd.jupyter.widget-view+json": {
       "model_id": "5db65a1bd18e4d5499962d9f7f390f09",
       "version_major": 2,
       "version_minor": 0
      },
      "text/plain": [
       "model-00003-of-00003.safetensors:   0%|          | 0.00/4.18G [00:00<?, ?B/s]"
      ]
     },
     "metadata": {},
     "output_type": "display_data"
    },
    {
     "data": {
      "application/vnd.jupyter.widget-view+json": {
       "model_id": "534d0c27e6414de5b7e9857613c9a791",
       "version_major": 2,
       "version_minor": 0
      },
      "text/plain": [
       "Loading checkpoint shards:   0%|          | 0/3 [00:00<?, ?it/s]"
      ]
     },
     "metadata": {},
     "output_type": "display_data"
    },
    {
     "data": {
      "application/vnd.jupyter.widget-view+json": {
       "model_id": "a22a6eda8cf74cb1b55dc09d8723b15d",
       "version_major": 2,
       "version_minor": 0
      },
      "text/plain": [
       "generation_config.json:   0%|          | 0.00/141 [00:00<?, ?B/s]"
      ]
     },
     "metadata": {},
     "output_type": "display_data"
    },
    {
     "name": "stdout",
     "output_type": "stream",
     "text": [
      "Finished loading llava model\n"
     ]
    }
   ],
   "source": [
    "recommender = LlavaTagRecommender()"
   ]
  },
  {
   "cell_type": "markdown",
   "metadata": {
    "id": "wIIoHT04HK0b"
   },
   "source": [
    "### Get recommendations"
   ]
  },
  {
   "cell_type": "code",
   "execution_count": 21,
   "metadata": {
    "tags": []
   },
   "outputs": [
    {
     "data": {
      "image/jpeg": "[encoded data removed]",
      "image/png": "[encoded data removed]",
      "text/plain": [
       "<PIL.JpegImagePlugin.JpegImageFile image mode=RGB size=320x214>"
      ]
     },
     "execution_count": 21,
     "metadata": {},
     "output_type": "execute_result"
    }
   ],
   "source": [
    "img_url = \"https://live.staticflickr.com/7707/16525630273_09bd1f9bf3_n.jpg\"\n",
    "img = get_image_from_url(img_url)\n",
    "img"
   ]
  },
  {
   "cell_type": "code",
   "execution_count": 22,
   "metadata": {
    "tags": []
   },
   "outputs": [
    {
     "data": {
      "text/plain": [
       "['Sunset', 'Seagull', 'Ocean', 'Waves', 'Beach']"
      ]
     },
     "execution_count": 22,
     "metadata": {},
     "output_type": "execute_result"
    }
   ],
   "source": [
    "recommender.get_tags_for_image(img)"
   ]
  },
  {
   "cell_type": "markdown",
   "metadata": {
    "id": "oleUsNeJIHLM"
   },
   "source": [
    "## Evaluate recommendations\n"
   ]
  },
  {
   "cell_type": "code",
   "execution_count": 29,
   "metadata": {},
   "outputs": [],
   "source": [
    "from sentence_transformers import SentenceTransformer"
   ]
  },
  {
   "cell_type": "code",
   "execution_count": 30,
   "metadata": {},
   "outputs": [
    {
     "name": "stderr",
     "output_type": "stream",
     "text": [
      "/Users/michaelnguy/miniforge3/envs/playgroundenv/lib/python3.10/site-packages/transformers/tokenization_utils_base.py:1601: FutureWarning: `clean_up_tokenization_spaces` was not set. It will be set to `True` by default. This behavior will be depracted in transformers v4.45, and will be then set to `False` by default. For more details check this issue: https://github.com/huggingface/transformers/issues/31884\n",
      "  warnings.warn(\n"
     ]
    }
   ],
   "source": [
    "st_model = SentenceTransformer(ST_MODEL_NAME)"
   ]
  },
  {
   "cell_type": "code",
   "execution_count": 31,
   "metadata": {
    "tags": []
   },
   "outputs": [],
   "source": [
    "experiment_name = \"clip_unweighted\""
   ]
  },
  {
   "cell_type": "code",
   "execution_count": 32,
   "metadata": {
    "colab": {
     "base_uri": "https://localhost:8080/"
    },
    "id": "ySUgRBLnIFqX",
    "outputId": "8c19bd06-da82-458c-8cbc-274685f05665",
    "tags": []
   },
   "outputs": [
    {
     "data": {
      "text/plain": [
       "(500, 3)"
      ]
     },
     "execution_count": 32,
     "metadata": {},
     "output_type": "execute_result"
    }
   ],
   "source": [
    "pred_df = pd.read_json(\n",
    "    os.path.join(\"recommendations\", \"test\", f\"recommendations_{experiment_name}.txt\"),\n",
    "    lines=True,\n",
    ")\n",
    "pred_df.shape"
   ]
  },
  {
   "cell_type": "code",
   "execution_count": 33,
   "metadata": {
    "id": "S2hpj-fGIl7B"
   },
   "outputs": [],
   "source": [
    "eval_results = evaluate_recommendations(pred_df, sim_model=st_model)"
   ]
  },
  {
   "cell_type": "code",
   "execution_count": 34,
   "metadata": {
    "id": "GVQqwRmGIoPS"
   },
   "outputs": [],
   "source": [
    "with open(\n",
    "    os.path.join(\"eval_results\", \"test\", f\"eval_results_{experiment_name}.json\"), \"w\"\n",
    ") as f:\n",
    "    json.dump(eval_results, f, indent=2)"
   ]
  },
  {
   "cell_type": "code",
   "execution_count": null,
   "metadata": {
    "id": "JaDieRthIuCZ"
   },
   "outputs": [],
   "source": []
  },
  {
   "cell_type": "markdown",
   "metadata": {
    "id": "Ir4jB15kIzgr"
   },
   "source": [
    "## Visualizations\n"
   ]
  },
  {
   "cell_type": "code",
   "execution_count": 35,
   "metadata": {
    "id": "6UL6o363J2p0"
   },
   "outputs": [],
   "source": [
    "def graph_metric(metric_name, df):\n",
    "    df_to_graph = df[df[\"metric\"] == metric_name].copy()\n",
    "    return (\n",
    "        alt.Chart(df_to_graph)\n",
    "        .mark_line()\n",
    "        .encode(x=\"k:O\", y=\"value\", color=\"method\")\n",
    "        .properties(title=metric_name, width=300, height=200)\n",
    "    )"
   ]
  },
  {
   "cell_type": "markdown",
   "metadata": {},
   "source": [
    "### Load and reformat data\n"
   ]
  },
  {
   "cell_type": "code",
   "execution_count": 36,
   "metadata": {
    "id": "8qlXhyaeJpzN"
   },
   "outputs": [],
   "source": [
    "eval_results_dir = os.path.join(\"eval_results\", \"test\")"
   ]
  },
  {
   "cell_type": "code",
   "execution_count": 37,
   "metadata": {
    "colab": {
     "base_uri": "https://localhost:8080/"
    },
    "id": "jUoXOaC8Jstw",
    "outputId": "03bc331b-a3ae-4435-8a41-9f414873b243"
   },
   "outputs": [
    {
     "name": "stdout",
     "output_type": "stream",
     "text": [
      "eval_results_clip_unweighted.json\n"
     ]
    },
    {
     "data": {
      "text/plain": [
       "20"
      ]
     },
     "execution_count": 37,
     "metadata": {},
     "output_type": "execute_result"
    }
   ],
   "source": [
    "eval_results_data = []\n",
    "for file_name in os.listdir(os.path.join(eval_results_dir)):\n",
    "    print(file_name)\n",
    "    fp = os.path.join(eval_results_dir, file_name)\n",
    "\n",
    "    with open(fp) as f:\n",
    "        eval_results_json = json.load(f)\n",
    "    for metric_name, results_dict in eval_results_json.items():\n",
    "        for k, result in results_dict.items():\n",
    "            eval_results_data.append(\n",
    "                {\n",
    "                    \"method\": file_name[13:-15],\n",
    "                    \"metric\": metric_name,\n",
    "                    \"k\": k,\n",
    "                    \"value\": result,\n",
    "                }\n",
    "            )\n",
    "len(eval_results_data)"
   ]
  },
  {
   "cell_type": "code",
   "execution_count": 38,
   "metadata": {
    "colab": {
     "base_uri": "https://localhost:8080/"
    },
    "id": "gEFz4DYpKGUu",
    "outputId": "85b2c33f-3401-4843-a3c0-49ee4ab79bda"
   },
   "outputs": [
    {
     "data": {
      "text/plain": [
       "(20, 4)"
      ]
     },
     "execution_count": 38,
     "metadata": {},
     "output_type": "execute_result"
    }
   ],
   "source": [
    "eval_results_df = pd.DataFrame(eval_results_data)\n",
    "eval_results_df.shape"
   ]
  },
  {
   "cell_type": "code",
   "execution_count": 39,
   "metadata": {
    "id": "jEX1mImqk4Tm"
   },
   "outputs": [],
   "source": [
    "metric_names = {\n",
    "    \"acc\": \"Accuracy\",\n",
    "    \"rec\": \"Recall\",\n",
    "    \"prec\": \"Precision\",\n",
    "    \"sim\": \"Semantic Similarity\",\n",
    "}"
   ]
  },
  {
   "cell_type": "code",
   "execution_count": 40,
   "metadata": {
    "id": "_BOiwuUflbH1"
   },
   "outputs": [],
   "source": [
    "method_names = {\n",
    "    \"clip_unweighted\": \"CLIP image embeddings\",\n",
    "    \"tag_index_unweighted\": \"CLIP image-text embeddings\",\n",
    "    \"vit_unweighted\": \"ViT image embeddings\",\n",
    "    \"llava_unweighted\": \"LLaVa\",\n",
    "    \"clip_clip_weighted\": \"CLIP image embeddings\",\n",
    "    \"tag_index_clip_weighted\": \"CLIP image-text embeddings\",\n",
    "    \"vit_clip_weighted\": \"ViT image embeddings\",\n",
    "    \"llava_clip_weighted\": \"LLaVa\",\n",
    "}"
   ]
  },
  {
   "cell_type": "code",
   "execution_count": 41,
   "metadata": {
    "id": "MlFLl82HkXno"
   },
   "outputs": [],
   "source": [
    "eval_results_df[\"metric\"] = eval_results_df[\"metric\"].replace(metric_names)\n",
    "eval_results_df[\"method\"] = eval_results_df[\"method\"].replace(method_names)"
   ]
  },
  {
   "cell_type": "markdown",
   "metadata": {},
   "source": [
    "### Graphs\n"
   ]
  },
  {
   "cell_type": "code",
   "execution_count": 42,
   "metadata": {
    "id": "4PGhATQII0q5"
   },
   "outputs": [],
   "source": [
    "import altair as alt"
   ]
  },
  {
   "cell_type": "code",
   "execution_count": 43,
   "metadata": {
    "id": "RR02HrfzKC2z"
   },
   "outputs": [],
   "source": [
    "acc_graph = graph_metric(metric_names[\"acc\"], eval_results_df)\n",
    "prec_graph = graph_metric(metric_names[\"prec\"], eval_results_df)\n",
    "rec_graph = graph_metric(metric_names[\"rec\"], eval_results_df)\n",
    "sim_graph = graph_metric(metric_names[\"sim\"], eval_results_df)"
   ]
  },
  {
   "cell_type": "code",
   "execution_count": 44,
   "metadata": {
    "colab": {
     "base_uri": "https://localhost:8080/",
     "height": 451
    },
    "id": "zc6aPePcKEFG",
    "outputId": "f6f8cdad-e353-4c57-f771-c7b833e64d58"
   },
   "outputs": [
    {
     "data": {
      "text/html": [
       "\n",
       "<style>\n",
       "  #altair-viz-318b5016296d4425a23390bd5eaac68f.vega-embed {\n",
       "    width: 100%;\n",
       "    display: flex;\n",
       "  }\n",
       "\n",
       "  #altair-viz-318b5016296d4425a23390bd5eaac68f.vega-embed details,\n",
       "  #altair-viz-318b5016296d4425a23390bd5eaac68f.vega-embed details summary {\n",
       "    position: relative;\n",
       "  }\n",
       "</style>\n",
       "<div id=\"altair-viz-318b5016296d4425a23390bd5eaac68f\"></div>\n",
       "<script type=\"text/javascript\">\n",
       "  var VEGA_DEBUG = (typeof VEGA_DEBUG == \"undefined\") ? {} : VEGA_DEBUG;\n",
       "  (function(spec, embedOpt){\n",
       "    let outputDiv = document.currentScript.previousElementSibling;\n",
       "    if (outputDiv.id !== \"altair-viz-318b5016296d4425a23390bd5eaac68f\") {\n",
       "      outputDiv = document.getElementById(\"altair-viz-318b5016296d4425a23390bd5eaac68f\");\n",
       "    }\n",
       "    const paths = {\n",
       "      \"vega\": \"https://cdn.jsdelivr.net/npm/vega@5?noext\",\n",
       "      \"vega-lib\": \"https://cdn.jsdelivr.net/npm/vega-lib?noext\",\n",
       "      \"vega-lite\": \"https://cdn.jsdelivr.net/npm/vega-lite@5.20.1?noext\",\n",
       "      \"vega-embed\": \"https://cdn.jsdelivr.net/npm/vega-embed@6?noext\",\n",
       "    };\n",
       "\n",
       "    function maybeLoadScript(lib, version) {\n",
       "      var key = `${lib.replace(\"-\", \"\")}_version`;\n",
       "      return (VEGA_DEBUG[key] == version) ?\n",
       "        Promise.resolve(paths[lib]) :\n",
       "        new Promise(function(resolve, reject) {\n",
       "          var s = document.createElement('script');\n",
       "          document.getElementsByTagName(\"head\")[0].appendChild(s);\n",
       "          s.async = true;\n",
       "          s.onload = () => {\n",
       "            VEGA_DEBUG[key] = version;\n",
       "            return resolve(paths[lib]);\n",
       "          };\n",
       "          s.onerror = () => reject(`Error loading script: ${paths[lib]}`);\n",
       "          s.src = paths[lib];\n",
       "        });\n",
       "    }\n",
       "\n",
       "    function showError(err) {\n",
       "      outputDiv.innerHTML = `<div class=\"error\" style=\"color:red;\">${err}</div>`;\n",
       "      throw err;\n",
       "    }\n",
       "\n",
       "    function displayChart(vegaEmbed) {\n",
       "      vegaEmbed(outputDiv, spec, embedOpt)\n",
       "        .catch(err => showError(`Javascript Error: ${err.message}<br>This usually means there's a typo in your chart specification. See the javascript console for the full traceback.`));\n",
       "    }\n",
       "\n",
       "    if(typeof define === \"function\" && define.amd) {\n",
       "      requirejs.config({paths});\n",
       "      require([\"vega-embed\"], displayChart, err => showError(`Error loading script: ${err.message}`));\n",
       "    } else {\n",
       "      maybeLoadScript(\"vega\", \"5\")\n",
       "        .then(() => maybeLoadScript(\"vega-lite\", \"5.20.1\"))\n",
       "        .then(() => maybeLoadScript(\"vega-embed\", \"6\"))\n",
       "        .catch(showError)\n",
       "        .then(() => displayChart(vegaEmbed));\n",
       "    }\n",
       "  })({\"config\": {\"view\": {\"continuousWidth\": 300, \"continuousHeight\": 300}}, \"hconcat\": [{\"data\": {\"name\": \"data-0bd75093c3389122f334539db119e5ae\"}, \"mark\": {\"type\": \"line\"}, \"encoding\": {\"color\": {\"field\": \"method\", \"type\": \"nominal\"}, \"x\": {\"field\": \"k\", \"type\": \"ordinal\"}, \"y\": {\"field\": \"value\", \"type\": \"quantitative\"}}, \"height\": 200, \"title\": \"Accuracy\", \"width\": 300}, {\"data\": {\"name\": \"data-382e8fa572c79c71282e4b4775d7f173\"}, \"mark\": {\"type\": \"line\"}, \"encoding\": {\"color\": {\"field\": \"method\", \"type\": \"nominal\"}, \"x\": {\"field\": \"k\", \"type\": \"ordinal\"}, \"y\": {\"field\": \"value\", \"type\": \"quantitative\"}}, \"height\": 200, \"title\": \"Precision\", \"width\": 300}, {\"data\": {\"name\": \"data-3837ea1fac604f2c5696694d98760f6c\"}, \"mark\": {\"type\": \"line\"}, \"encoding\": {\"color\": {\"field\": \"method\", \"type\": \"nominal\"}, \"x\": {\"field\": \"k\", \"type\": \"ordinal\"}, \"y\": {\"field\": \"value\", \"type\": \"quantitative\"}}, \"height\": 200, \"title\": \"Recall\", \"width\": 300}, {\"data\": {\"name\": \"data-50da87e47d8943c12917a8a9c727d485\"}, \"mark\": {\"type\": \"line\"}, \"encoding\": {\"color\": {\"field\": \"method\", \"type\": \"nominal\"}, \"x\": {\"field\": \"k\", \"type\": \"ordinal\"}, \"y\": {\"field\": \"value\", \"type\": \"quantitative\"}}, \"height\": 200, \"title\": \"Semantic Similarity\", \"width\": 300}], \"$schema\": \"https://vega.github.io/schema/vega-lite/v5.20.1.json\", \"datasets\": {\"data-0bd75093c3389122f334539db119e5ae\": [{\"method\": \"clip_\", \"metric\": \"Accuracy\", \"k\": \"1\", \"value\": 0.398}, {\"method\": \"clip_\", \"metric\": \"Accuracy\", \"k\": \"2\", \"value\": 0.49528301886792453}, {\"method\": \"clip_\", \"metric\": \"Accuracy\", \"k\": \"3\", \"value\": 0.5817174515235457}, {\"method\": \"clip_\", \"metric\": \"Accuracy\", \"k\": \"4\", \"value\": 0.63}, {\"method\": \"clip_\", \"metric\": \"Accuracy\", \"k\": \"5\", \"value\": 0.6431535269709544}], \"data-382e8fa572c79c71282e4b4775d7f173\": [{\"method\": \"clip_\", \"metric\": \"Precision\", \"k\": \"1\", \"value\": 0.398}, {\"method\": \"clip_\", \"metric\": \"Precision\", \"k\": \"2\", \"value\": 0.3266509433962264}, {\"method\": \"clip_\", \"metric\": \"Precision\", \"k\": \"3\", \"value\": 0.3010156971375808}, {\"method\": \"clip_\", \"metric\": \"Precision\", \"k\": \"4\", \"value\": 0.2875}, {\"method\": \"clip_\", \"metric\": \"Precision\", \"k\": \"5\", \"value\": 0.26307053941908715}], \"data-3837ea1fac604f2c5696694d98760f6c\": [{\"method\": \"clip_\", \"metric\": \"Recall\", \"k\": \"1\", \"value\": 0.12502857142857143}, {\"method\": \"clip_\", \"metric\": \"Recall\", \"k\": \"2\", \"value\": 0.14261193471099132}, {\"method\": \"clip_\", \"metric\": \"Recall\", \"k\": \"3\", \"value\": 0.1709383106890032}, {\"method\": \"clip_\", \"metric\": \"Recall\", \"k\": \"4\", \"value\": 0.19231878306878306}, {\"method\": \"clip_\", \"metric\": \"Recall\", \"k\": \"5\", \"value\": 0.1942287426727261}], \"data-50da87e47d8943c12917a8a9c727d485\": [{\"method\": \"clip_\", \"metric\": \"Semantic Similarity\", \"k\": \"1\", \"value\": 0.6313437819480896}, {\"method\": \"clip_\", \"metric\": \"Semantic Similarity\", \"k\": \"2\", \"value\": 0.5762248039245605}, {\"method\": \"clip_\", \"metric\": \"Semantic Similarity\", \"k\": \"3\", \"value\": 0.5436558723449707}, {\"method\": \"clip_\", \"metric\": \"Semantic Similarity\", \"k\": \"4\", \"value\": 0.523551344871521}, {\"method\": \"clip_\", \"metric\": \"Semantic Similarity\", \"k\": \"5\", \"value\": 0.5062071084976196}]}}, {\"mode\": \"vega-lite\"});\n",
       "</script>"
      ],
      "text/plain": [
       "alt.HConcatChart(...)"
      ]
     },
     "execution_count": 44,
     "metadata": {},
     "output_type": "execute_result"
    }
   ],
   "source": [
    "((acc_graph | prec_graph) | rec_graph) | sim_graph"
   ]
  },
  {
   "cell_type": "code",
   "execution_count": 45,
   "metadata": {
    "colab": {
     "base_uri": "https://localhost:8080/",
     "height": 377
    },
    "id": "XSd-871alDHU",
    "outputId": "085bfe2a-14b3-4f0e-d76c-63bf86521378"
   },
   "outputs": [
    {
     "data": {
      "text/html": [
       "\n",
       "<style>\n",
       "  #altair-viz-d9a446ca90164550a69fd32306a5ee4c.vega-embed {\n",
       "    width: 100%;\n",
       "    display: flex;\n",
       "  }\n",
       "\n",
       "  #altair-viz-d9a446ca90164550a69fd32306a5ee4c.vega-embed details,\n",
       "  #altair-viz-d9a446ca90164550a69fd32306a5ee4c.vega-embed details summary {\n",
       "    position: relative;\n",
       "  }\n",
       "</style>\n",
       "<div id=\"altair-viz-d9a446ca90164550a69fd32306a5ee4c\"></div>\n",
       "<script type=\"text/javascript\">\n",
       "  var VEGA_DEBUG = (typeof VEGA_DEBUG == \"undefined\") ? {} : VEGA_DEBUG;\n",
       "  (function(spec, embedOpt){\n",
       "    let outputDiv = document.currentScript.previousElementSibling;\n",
       "    if (outputDiv.id !== \"altair-viz-d9a446ca90164550a69fd32306a5ee4c\") {\n",
       "      outputDiv = document.getElementById(\"altair-viz-d9a446ca90164550a69fd32306a5ee4c\");\n",
       "    }\n",
       "    const paths = {\n",
       "      \"vega\": \"https://cdn.jsdelivr.net/npm/vega@5?noext\",\n",
       "      \"vega-lib\": \"https://cdn.jsdelivr.net/npm/vega-lib?noext\",\n",
       "      \"vega-lite\": \"https://cdn.jsdelivr.net/npm/vega-lite@5.20.1?noext\",\n",
       "      \"vega-embed\": \"https://cdn.jsdelivr.net/npm/vega-embed@6?noext\",\n",
       "    };\n",
       "\n",
       "    function maybeLoadScript(lib, version) {\n",
       "      var key = `${lib.replace(\"-\", \"\")}_version`;\n",
       "      return (VEGA_DEBUG[key] == version) ?\n",
       "        Promise.resolve(paths[lib]) :\n",
       "        new Promise(function(resolve, reject) {\n",
       "          var s = document.createElement('script');\n",
       "          document.getElementsByTagName(\"head\")[0].appendChild(s);\n",
       "          s.async = true;\n",
       "          s.onload = () => {\n",
       "            VEGA_DEBUG[key] = version;\n",
       "            return resolve(paths[lib]);\n",
       "          };\n",
       "          s.onerror = () => reject(`Error loading script: ${paths[lib]}`);\n",
       "          s.src = paths[lib];\n",
       "        });\n",
       "    }\n",
       "\n",
       "    function showError(err) {\n",
       "      outputDiv.innerHTML = `<div class=\"error\" style=\"color:red;\">${err}</div>`;\n",
       "      throw err;\n",
       "    }\n",
       "\n",
       "    function displayChart(vegaEmbed) {\n",
       "      vegaEmbed(outputDiv, spec, embedOpt)\n",
       "        .catch(err => showError(`Javascript Error: ${err.message}<br>This usually means there's a typo in your chart specification. See the javascript console for the full traceback.`));\n",
       "    }\n",
       "\n",
       "    if(typeof define === \"function\" && define.amd) {\n",
       "      requirejs.config({paths});\n",
       "      require([\"vega-embed\"], displayChart, err => showError(`Error loading script: ${err.message}`));\n",
       "    } else {\n",
       "      maybeLoadScript(\"vega\", \"5\")\n",
       "        .then(() => maybeLoadScript(\"vega-lite\", \"5.20.1\"))\n",
       "        .then(() => maybeLoadScript(\"vega-embed\", \"6\"))\n",
       "        .catch(showError)\n",
       "        .then(() => displayChart(vegaEmbed));\n",
       "    }\n",
       "  })({\"config\": {\"view\": {\"continuousWidth\": 300, \"continuousHeight\": 300}}, \"hconcat\": [{\"data\": {\"name\": \"data-0bd75093c3389122f334539db119e5ae\"}, \"mark\": {\"type\": \"line\"}, \"encoding\": {\"color\": {\"field\": \"method\", \"type\": \"nominal\"}, \"x\": {\"field\": \"k\", \"type\": \"ordinal\"}, \"y\": {\"field\": \"value\", \"type\": \"quantitative\"}}, \"height\": 200, \"title\": \"Accuracy\", \"width\": 300}, {\"data\": {\"name\": \"data-382e8fa572c79c71282e4b4775d7f173\"}, \"mark\": {\"type\": \"line\"}, \"encoding\": {\"color\": {\"field\": \"method\", \"type\": \"nominal\"}, \"x\": {\"field\": \"k\", \"type\": \"ordinal\"}, \"y\": {\"field\": \"value\", \"type\": \"quantitative\"}}, \"height\": 200, \"title\": \"Precision\", \"width\": 300}], \"$schema\": \"https://vega.github.io/schema/vega-lite/v5.20.1.json\", \"datasets\": {\"data-0bd75093c3389122f334539db119e5ae\": [{\"method\": \"clip_\", \"metric\": \"Accuracy\", \"k\": \"1\", \"value\": 0.398}, {\"method\": \"clip_\", \"metric\": \"Accuracy\", \"k\": \"2\", \"value\": 0.49528301886792453}, {\"method\": \"clip_\", \"metric\": \"Accuracy\", \"k\": \"3\", \"value\": 0.5817174515235457}, {\"method\": \"clip_\", \"metric\": \"Accuracy\", \"k\": \"4\", \"value\": 0.63}, {\"method\": \"clip_\", \"metric\": \"Accuracy\", \"k\": \"5\", \"value\": 0.6431535269709544}], \"data-382e8fa572c79c71282e4b4775d7f173\": [{\"method\": \"clip_\", \"metric\": \"Precision\", \"k\": \"1\", \"value\": 0.398}, {\"method\": \"clip_\", \"metric\": \"Precision\", \"k\": \"2\", \"value\": 0.3266509433962264}, {\"method\": \"clip_\", \"metric\": \"Precision\", \"k\": \"3\", \"value\": 0.3010156971375808}, {\"method\": \"clip_\", \"metric\": \"Precision\", \"k\": \"4\", \"value\": 0.2875}, {\"method\": \"clip_\", \"metric\": \"Precision\", \"k\": \"5\", \"value\": 0.26307053941908715}]}}, {\"mode\": \"vega-lite\"});\n",
       "</script>"
      ],
      "text/plain": [
       "alt.HConcatChart(...)"
      ]
     },
     "execution_count": 45,
     "metadata": {},
     "output_type": "execute_result"
    }
   ],
   "source": [
    "acc_graph | prec_graph"
   ]
  },
  {
   "cell_type": "code",
   "execution_count": 46,
   "metadata": {
    "colab": {
     "base_uri": "https://localhost:8080/",
     "height": 377
    },
    "id": "q6Vo2v13KIb6",
    "outputId": "1ea1c212-aae8-4174-c870-48c95d87eb47"
   },
   "outputs": [
    {
     "data": {
      "text/html": [
       "\n",
       "<style>\n",
       "  #altair-viz-229c1d3096584acaa44040483fca3c72.vega-embed {\n",
       "    width: 100%;\n",
       "    display: flex;\n",
       "  }\n",
       "\n",
       "  #altair-viz-229c1d3096584acaa44040483fca3c72.vega-embed details,\n",
       "  #altair-viz-229c1d3096584acaa44040483fca3c72.vega-embed details summary {\n",
       "    position: relative;\n",
       "  }\n",
       "</style>\n",
       "<div id=\"altair-viz-229c1d3096584acaa44040483fca3c72\"></div>\n",
       "<script type=\"text/javascript\">\n",
       "  var VEGA_DEBUG = (typeof VEGA_DEBUG == \"undefined\") ? {} : VEGA_DEBUG;\n",
       "  (function(spec, embedOpt){\n",
       "    let outputDiv = document.currentScript.previousElementSibling;\n",
       "    if (outputDiv.id !== \"altair-viz-229c1d3096584acaa44040483fca3c72\") {\n",
       "      outputDiv = document.getElementById(\"altair-viz-229c1d3096584acaa44040483fca3c72\");\n",
       "    }\n",
       "    const paths = {\n",
       "      \"vega\": \"https://cdn.jsdelivr.net/npm/vega@5?noext\",\n",
       "      \"vega-lib\": \"https://cdn.jsdelivr.net/npm/vega-lib?noext\",\n",
       "      \"vega-lite\": \"https://cdn.jsdelivr.net/npm/vega-lite@5.20.1?noext\",\n",
       "      \"vega-embed\": \"https://cdn.jsdelivr.net/npm/vega-embed@6?noext\",\n",
       "    };\n",
       "\n",
       "    function maybeLoadScript(lib, version) {\n",
       "      var key = `${lib.replace(\"-\", \"\")}_version`;\n",
       "      return (VEGA_DEBUG[key] == version) ?\n",
       "        Promise.resolve(paths[lib]) :\n",
       "        new Promise(function(resolve, reject) {\n",
       "          var s = document.createElement('script');\n",
       "          document.getElementsByTagName(\"head\")[0].appendChild(s);\n",
       "          s.async = true;\n",
       "          s.onload = () => {\n",
       "            VEGA_DEBUG[key] = version;\n",
       "            return resolve(paths[lib]);\n",
       "          };\n",
       "          s.onerror = () => reject(`Error loading script: ${paths[lib]}`);\n",
       "          s.src = paths[lib];\n",
       "        });\n",
       "    }\n",
       "\n",
       "    function showError(err) {\n",
       "      outputDiv.innerHTML = `<div class=\"error\" style=\"color:red;\">${err}</div>`;\n",
       "      throw err;\n",
       "    }\n",
       "\n",
       "    function displayChart(vegaEmbed) {\n",
       "      vegaEmbed(outputDiv, spec, embedOpt)\n",
       "        .catch(err => showError(`Javascript Error: ${err.message}<br>This usually means there's a typo in your chart specification. See the javascript console for the full traceback.`));\n",
       "    }\n",
       "\n",
       "    if(typeof define === \"function\" && define.amd) {\n",
       "      requirejs.config({paths});\n",
       "      require([\"vega-embed\"], displayChart, err => showError(`Error loading script: ${err.message}`));\n",
       "    } else {\n",
       "      maybeLoadScript(\"vega\", \"5\")\n",
       "        .then(() => maybeLoadScript(\"vega-lite\", \"5.20.1\"))\n",
       "        .then(() => maybeLoadScript(\"vega-embed\", \"6\"))\n",
       "        .catch(showError)\n",
       "        .then(() => displayChart(vegaEmbed));\n",
       "    }\n",
       "  })({\"config\": {\"view\": {\"continuousWidth\": 300, \"continuousHeight\": 300}}, \"hconcat\": [{\"data\": {\"name\": \"data-3837ea1fac604f2c5696694d98760f6c\"}, \"mark\": {\"type\": \"line\"}, \"encoding\": {\"color\": {\"field\": \"method\", \"type\": \"nominal\"}, \"x\": {\"field\": \"k\", \"type\": \"ordinal\"}, \"y\": {\"field\": \"value\", \"type\": \"quantitative\"}}, \"height\": 200, \"title\": \"Recall\", \"width\": 300}, {\"data\": {\"name\": \"data-50da87e47d8943c12917a8a9c727d485\"}, \"mark\": {\"type\": \"line\"}, \"encoding\": {\"color\": {\"field\": \"method\", \"type\": \"nominal\"}, \"x\": {\"field\": \"k\", \"type\": \"ordinal\"}, \"y\": {\"field\": \"value\", \"type\": \"quantitative\"}}, \"height\": 200, \"title\": \"Semantic Similarity\", \"width\": 300}], \"$schema\": \"https://vega.github.io/schema/vega-lite/v5.20.1.json\", \"datasets\": {\"data-3837ea1fac604f2c5696694d98760f6c\": [{\"method\": \"clip_\", \"metric\": \"Recall\", \"k\": \"1\", \"value\": 0.12502857142857143}, {\"method\": \"clip_\", \"metric\": \"Recall\", \"k\": \"2\", \"value\": 0.14261193471099132}, {\"method\": \"clip_\", \"metric\": \"Recall\", \"k\": \"3\", \"value\": 0.1709383106890032}, {\"method\": \"clip_\", \"metric\": \"Recall\", \"k\": \"4\", \"value\": 0.19231878306878306}, {\"method\": \"clip_\", \"metric\": \"Recall\", \"k\": \"5\", \"value\": 0.1942287426727261}], \"data-50da87e47d8943c12917a8a9c727d485\": [{\"method\": \"clip_\", \"metric\": \"Semantic Similarity\", \"k\": \"1\", \"value\": 0.6313437819480896}, {\"method\": \"clip_\", \"metric\": \"Semantic Similarity\", \"k\": \"2\", \"value\": 0.5762248039245605}, {\"method\": \"clip_\", \"metric\": \"Semantic Similarity\", \"k\": \"3\", \"value\": 0.5436558723449707}, {\"method\": \"clip_\", \"metric\": \"Semantic Similarity\", \"k\": \"4\", \"value\": 0.523551344871521}, {\"method\": \"clip_\", \"metric\": \"Semantic Similarity\", \"k\": \"5\", \"value\": 0.5062071084976196}]}}, {\"mode\": \"vega-lite\"});\n",
       "</script>"
      ],
      "text/plain": [
       "alt.HConcatChart(...)"
      ]
     },
     "execution_count": 46,
     "metadata": {},
     "output_type": "execute_result"
    }
   ],
   "source": [
    "rec_graph | sim_graph"
   ]
  },
  {
   "cell_type": "markdown",
   "metadata": {},
   "source": [
    "### Tables\n"
   ]
  },
  {
   "cell_type": "code",
   "execution_count": 47,
   "metadata": {
    "id": "x43oPF2a87h9"
   },
   "outputs": [
    {
     "name": "stderr",
     "output_type": "stream",
     "text": [
      "/var/folders/lp/k6q1n4l164l7s056_kj52d3c0000gn/T/ipykernel_86660/2058709175.py:1: DeprecationWarning: Importing display from IPython.core.display is deprecated since IPython 7.14, please import from IPython display\n",
      "  from IPython.core.display import display, HTML\n"
     ]
    }
   ],
   "source": [
    "from IPython.core.display import display, HTML"
   ]
  },
  {
   "cell_type": "code",
   "execution_count": 48,
   "metadata": {
    "colab": {
     "base_uri": "https://localhost:8080/",
     "height": 206
    },
    "id": "ZNYsHCW_5M-l",
    "outputId": "8d398ce9-a0d1-47e0-96cd-220e2014be76"
   },
   "outputs": [
    {
     "data": {
      "text/html": [
       "<table border=\"1\" class=\"dataframe\">\n",
       "  <thead>\n",
       "    <tr style=\"text-align: right;\">\n",
       "      <th>k</th>\n",
       "      <th>1</th>\n",
       "      <th>2</th>\n",
       "      <th>3</th>\n",
       "      <th>4</th>\n",
       "      <th>5</th>\n",
       "    </tr>\n",
       "    <tr>\n",
       "      <th>method</th>\n",
       "      <th></th>\n",
       "      <th></th>\n",
       "      <th></th>\n",
       "      <th></th>\n",
       "      <th></th>\n",
       "    </tr>\n",
       "  </thead>\n",
       "  <tbody>\n",
       "    <tr>\n",
       "      <th>clip_</th>\n",
       "      <td>0.631344</td>\n",
       "      <td>0.576225</td>\n",
       "      <td>0.543656</td>\n",
       "      <td>0.523551</td>\n",
       "      <td>0.506207</td>\n",
       "    </tr>\n",
       "  </tbody>\n",
       "</table>"
      ],
      "text/plain": [
       "<IPython.core.display.HTML object>"
      ]
     },
     "metadata": {},
     "output_type": "display_data"
    }
   ],
   "source": [
    "display(\n",
    "    HTML(\n",
    "        eval_results_df[eval_results_df[\"metric\"] == metric_names[\"sim\"]]\n",
    "        .pivot(columns=\"k\", index=\"method\", values=\"value\")\n",
    "        .to_html(index=True)\n",
    "    )\n",
    ")"
   ]
  },
  {
   "cell_type": "code",
   "execution_count": null,
   "metadata": {
    "id": "NhfsgQcplFyh"
   },
   "outputs": [],
   "source": []
  }
 ],
 "metadata": {
  "colab": {
   "provenance": [],
   "toc_visible": true
  },
  "kernelspec": {
   "display_name": "conda_pytorch_p310",
   "language": "python",
   "name": "conda_pytorch_p310"
  },
  "language_info": {
   "codemirror_mode": {
    "name": "ipython",
    "version": 3
   },
   "file_extension": ".py",
   "mimetype": "text/x-python",
   "name": "python",
   "nbconvert_exporter": "python",
   "pygments_lexer": "ipython3",
   "version": "3.10.14"
  },
  "widgets": {
   "application/vnd.jupyter.widget-state+json": {
    "095e7d97e6344b13843bc4a29ceda5e5": {
     "model_module": "@jupyter-widgets/base",
     "model_module_version": "1.2.0",
     "model_name": "LayoutModel",
     "state": {
      "_model_module": "@jupyter-widgets/base",
      "_model_module_version": "1.2.0",
      "_model_name": "LayoutModel",
      "_view_count": null,
      "_view_module": "@jupyter-widgets/base",
      "_view_module_version": "1.2.0",
      "_view_name": "LayoutView",
      "align_content": null,
      "align_items": null,
      "align_self": null,
      "border": null,
      "bottom": null,
      "display": null,
      "flex": null,
      "flex_flow": null,
      "grid_area": null,
      "grid_auto_columns": null,
      "grid_auto_flow": null,
      "grid_auto_rows": null,
      "grid_column": null,
      "grid_gap": null,
      "grid_row": null,
      "grid_template_areas": null,
      "grid_template_columns": null,
      "grid_template_rows": null,
      "height": null,
      "justify_content": null,
      "justify_items": null,
      "left": null,
      "margin": null,
      "max_height": null,
      "max_width": null,
      "min_height": null,
      "min_width": null,
      "object_fit": null,
      "object_position": null,
      "order": null,
      "overflow": null,
      "overflow_x": null,
      "overflow_y": null,
      "padding": null,
      "right": null,
      "top": null,
      "visibility": null,
      "width": null
     }
    },
    "10ecdaefd570425cbd35fee62d5398fb": {
     "model_module": "@jupyter-widgets/controls",
     "model_module_version": "1.5.0",
     "model_name": "HBoxModel",
     "state": {
      "_dom_classes": [],
      "_model_module": "@jupyter-widgets/controls",
      "_model_module_version": "1.5.0",
      "_model_name": "HBoxModel",
      "_view_count": null,
      "_view_module": "@jupyter-widgets/controls",
      "_view_module_version": "1.5.0",
      "_view_name": "HBoxView",
      "box_style": "",
      "children": [
       "IPY_MODEL_1b249aea12fa4ee3bda827000ed4e6db",
       "IPY_MODEL_d042927b3f124d90baba6d2e105496a1",
       "IPY_MODEL_e1da49b729174408abcfc5515093fc4d"
      ],
      "layout": "IPY_MODEL_30f8a509a6454f75ad5d7bf74a457c31"
     }
    },
    "10f586ea666a42e99398e16dcbbacaa5": {
     "model_module": "@jupyter-widgets/controls",
     "model_module_version": "1.5.0",
     "model_name": "DescriptionStyleModel",
     "state": {
      "_model_module": "@jupyter-widgets/controls",
      "_model_module_version": "1.5.0",
      "_model_name": "DescriptionStyleModel",
      "_view_count": null,
      "_view_module": "@jupyter-widgets/base",
      "_view_module_version": "1.2.0",
      "_view_name": "StyleView",
      "description_width": ""
     }
    },
    "136c4ad833744750adec60ee8ea4b632": {
     "model_module": "@jupyter-widgets/base",
     "model_module_version": "1.2.0",
     "model_name": "LayoutModel",
     "state": {
      "_model_module": "@jupyter-widgets/base",
      "_model_module_version": "1.2.0",
      "_model_name": "LayoutModel",
      "_view_count": null,
      "_view_module": "@jupyter-widgets/base",
      "_view_module_version": "1.2.0",
      "_view_name": "LayoutView",
      "align_content": null,
      "align_items": null,
      "align_self": null,
      "border": null,
      "bottom": null,
      "display": null,
      "flex": null,
      "flex_flow": null,
      "grid_area": null,
      "grid_auto_columns": null,
      "grid_auto_flow": null,
      "grid_auto_rows": null,
      "grid_column": null,
      "grid_gap": null,
      "grid_row": null,
      "grid_template_areas": null,
      "grid_template_columns": null,
      "grid_template_rows": null,
      "height": null,
      "justify_content": null,
      "justify_items": null,
      "left": null,
      "margin": null,
      "max_height": null,
      "max_width": null,
      "min_height": null,
      "min_width": null,
      "object_fit": null,
      "object_position": null,
      "order": null,
      "overflow": null,
      "overflow_x": null,
      "overflow_y": null,
      "padding": null,
      "right": null,
      "top": null,
      "visibility": null,
      "width": null
     }
    },
    "1b249aea12fa4ee3bda827000ed4e6db": {
     "model_module": "@jupyter-widgets/controls",
     "model_module_version": "1.5.0",
     "model_name": "HTMLModel",
     "state": {
      "_dom_classes": [],
      "_model_module": "@jupyter-widgets/controls",
      "_model_module_version": "1.5.0",
      "_model_name": "HTMLModel",
      "_view_count": null,
      "_view_module": "@jupyter-widgets/controls",
      "_view_module_version": "1.5.0",
      "_view_name": "HTMLView",
      "description": "",
      "description_tooltip": null,
      "layout": "IPY_MODEL_940ed9d8a261488692dae6ccc5e312d8",
      "placeholder": "​",
      "style": "IPY_MODEL_f542601db95c41f8bab4493ed79f4f3f",
      "value": "preprocessor_config.json: 100%"
     }
    },
    "27baae0d11d544c19a6985c5d52a3002": {
     "model_module": "@jupyter-widgets/controls",
     "model_module_version": "1.5.0",
     "model_name": "DescriptionStyleModel",
     "state": {
      "_model_module": "@jupyter-widgets/controls",
      "_model_module_version": "1.5.0",
      "_model_name": "DescriptionStyleModel",
      "_view_count": null,
      "_view_module": "@jupyter-widgets/base",
      "_view_module_version": "1.2.0",
      "_view_name": "StyleView",
      "description_width": ""
     }
    },
    "30f8a509a6454f75ad5d7bf74a457c31": {
     "model_module": "@jupyter-widgets/base",
     "model_module_version": "1.2.0",
     "model_name": "LayoutModel",
     "state": {
      "_model_module": "@jupyter-widgets/base",
      "_model_module_version": "1.2.0",
      "_model_name": "LayoutModel",
      "_view_count": null,
      "_view_module": "@jupyter-widgets/base",
      "_view_module_version": "1.2.0",
      "_view_name": "LayoutView",
      "align_content": null,
      "align_items": null,
      "align_self": null,
      "border": null,
      "bottom": null,
      "display": null,
      "flex": null,
      "flex_flow": null,
      "grid_area": null,
      "grid_auto_columns": null,
      "grid_auto_flow": null,
      "grid_auto_rows": null,
      "grid_column": null,
      "grid_gap": null,
      "grid_row": null,
      "grid_template_areas": null,
      "grid_template_columns": null,
      "grid_template_rows": null,
      "height": null,
      "justify_content": null,
      "justify_items": null,
      "left": null,
      "margin": null,
      "max_height": null,
      "max_width": null,
      "min_height": null,
      "min_width": null,
      "object_fit": null,
      "object_position": null,
      "order": null,
      "overflow": null,
      "overflow_x": null,
      "overflow_y": null,
      "padding": null,
      "right": null,
      "top": null,
      "visibility": null,
      "width": null
     }
    },
    "3f3fb10df10a4aa58c11e0a31ef5ef61": {
     "model_module": "@jupyter-widgets/base",
     "model_module_version": "1.2.0",
     "model_name": "LayoutModel",
     "state": {
      "_model_module": "@jupyter-widgets/base",
      "_model_module_version": "1.2.0",
      "_model_name": "LayoutModel",
      "_view_count": null,
      "_view_module": "@jupyter-widgets/base",
      "_view_module_version": "1.2.0",
      "_view_name": "LayoutView",
      "align_content": null,
      "align_items": null,
      "align_self": null,
      "border": null,
      "bottom": null,
      "display": null,
      "flex": null,
      "flex_flow": null,
      "grid_area": null,
      "grid_auto_columns": null,
      "grid_auto_flow": null,
      "grid_auto_rows": null,
      "grid_column": null,
      "grid_gap": null,
      "grid_row": null,
      "grid_template_areas": null,
      "grid_template_columns": null,
      "grid_template_rows": null,
      "height": null,
      "justify_content": null,
      "justify_items": null,
      "left": null,
      "margin": null,
      "max_height": null,
      "max_width": null,
      "min_height": null,
      "min_width": null,
      "object_fit": null,
      "object_position": null,
      "order": null,
      "overflow": null,
      "overflow_x": null,
      "overflow_y": null,
      "padding": null,
      "right": null,
      "top": null,
      "visibility": null,
      "width": null
     }
    },
    "4654514e25d54f2f858e190473e62d85": {
     "model_module": "@jupyter-widgets/controls",
     "model_module_version": "1.5.0",
     "model_name": "DescriptionStyleModel",
     "state": {
      "_model_module": "@jupyter-widgets/controls",
      "_model_module_version": "1.5.0",
      "_model_name": "DescriptionStyleModel",
      "_view_count": null,
      "_view_module": "@jupyter-widgets/base",
      "_view_module_version": "1.2.0",
      "_view_name": "StyleView",
      "description_width": ""
     }
    },
    "4681a11fb2c74fa28f7a7a7043d99f80": {
     "model_module": "@jupyter-widgets/controls",
     "model_module_version": "1.5.0",
     "model_name": "FloatProgressModel",
     "state": {
      "_dom_classes": [],
      "_model_module": "@jupyter-widgets/controls",
      "_model_module_version": "1.5.0",
      "_model_name": "FloatProgressModel",
      "_view_count": null,
      "_view_module": "@jupyter-widgets/controls",
      "_view_module_version": "1.5.0",
      "_view_name": "ProgressView",
      "bar_style": "success",
      "description": "",
      "description_tooltip": null,
      "layout": "IPY_MODEL_b12545f75afa4ce2aec39b808ca1b79e",
      "max": 502,
      "min": 0,
      "orientation": "horizontal",
      "style": "IPY_MODEL_de9739914bf048e19ed04f43cb1cb3a4",
      "value": 502
     }
    },
    "5575e74dab7843d591675fad64b8e2d4": {
     "model_module": "@jupyter-widgets/controls",
     "model_module_version": "1.5.0",
     "model_name": "HTMLModel",
     "state": {
      "_dom_classes": [],
      "_model_module": "@jupyter-widgets/controls",
      "_model_module_version": "1.5.0",
      "_model_name": "HTMLModel",
      "_view_count": null,
      "_view_module": "@jupyter-widgets/controls",
      "_view_module_version": "1.5.0",
      "_view_name": "HTMLView",
      "description": "",
      "description_tooltip": null,
      "layout": "IPY_MODEL_3f3fb10df10a4aa58c11e0a31ef5ef61",
      "placeholder": "​",
      "style": "IPY_MODEL_d0cc596050554fe9bc55fb361d269713",
      "value": " 502/502 [00:00&lt;00:00, 31.1kB/s]"
     }
    },
    "64a02d7e08614238b4bd923ae492516f": {
     "model_module": "@jupyter-widgets/controls",
     "model_module_version": "1.5.0",
     "model_name": "HTMLModel",
     "state": {
      "_dom_classes": [],
      "_model_module": "@jupyter-widgets/controls",
      "_model_module_version": "1.5.0",
      "_model_name": "HTMLModel",
      "_view_count": null,
      "_view_module": "@jupyter-widgets/controls",
      "_view_module_version": "1.5.0",
      "_view_name": "HTMLView",
      "description": "",
      "description_tooltip": null,
      "layout": "IPY_MODEL_c51b8ec0438d464f9265c7fe80c82146",
      "placeholder": "​",
      "style": "IPY_MODEL_b56d62235bf74153bda9fbff0ef9265e",
      "value": "model.safetensors: 100%"
     }
    },
    "69de1f2b3d72496fb209d9e6994f3b17": {
     "model_module": "@jupyter-widgets/controls",
     "model_module_version": "1.5.0",
     "model_name": "FloatProgressModel",
     "state": {
      "_dom_classes": [],
      "_model_module": "@jupyter-widgets/controls",
      "_model_module_version": "1.5.0",
      "_model_name": "FloatProgressModel",
      "_view_count": null,
      "_view_module": "@jupyter-widgets/controls",
      "_view_module_version": "1.5.0",
      "_view_name": "ProgressView",
      "bar_style": "success",
      "description": "",
      "description_tooltip": null,
      "layout": "IPY_MODEL_fbb42046c3ae4da1b392b0beb0fb799e",
      "max": 345579424,
      "min": 0,
      "orientation": "horizontal",
      "style": "IPY_MODEL_e3db548ef79d404e80c55025b0e21f04",
      "value": 345579424
     }
    },
    "6df059616d3f408a84ccb7884c9d7b3d": {
     "model_module": "@jupyter-widgets/controls",
     "model_module_version": "1.5.0",
     "model_name": "HBoxModel",
     "state": {
      "_dom_classes": [],
      "_model_module": "@jupyter-widgets/controls",
      "_model_module_version": "1.5.0",
      "_model_name": "HBoxModel",
      "_view_count": null,
      "_view_module": "@jupyter-widgets/controls",
      "_view_module_version": "1.5.0",
      "_view_name": "HBoxView",
      "box_style": "",
      "children": [
       "IPY_MODEL_64a02d7e08614238b4bd923ae492516f",
       "IPY_MODEL_69de1f2b3d72496fb209d9e6994f3b17",
       "IPY_MODEL_7540b57839884fb69fc49d4aaa2258e7"
      ],
      "layout": "IPY_MODEL_095e7d97e6344b13843bc4a29ceda5e5"
     }
    },
    "7540b57839884fb69fc49d4aaa2258e7": {
     "model_module": "@jupyter-widgets/controls",
     "model_module_version": "1.5.0",
     "model_name": "HTMLModel",
     "state": {
      "_dom_classes": [],
      "_model_module": "@jupyter-widgets/controls",
      "_model_module_version": "1.5.0",
      "_model_name": "HTMLModel",
      "_view_count": null,
      "_view_module": "@jupyter-widgets/controls",
      "_view_module_version": "1.5.0",
      "_view_name": "HTMLView",
      "description": "",
      "description_tooltip": null,
      "layout": "IPY_MODEL_a54ddb5fe779418bb54c675e53da5da6",
      "placeholder": "​",
      "style": "IPY_MODEL_4654514e25d54f2f858e190473e62d85",
      "value": " 346M/346M [00:02&lt;00:00, 173MB/s]"
     }
    },
    "8899b2b697b44df0a458f2a3cc7af2db": {
     "model_module": "@jupyter-widgets/base",
     "model_module_version": "1.2.0",
     "model_name": "LayoutModel",
     "state": {
      "_model_module": "@jupyter-widgets/base",
      "_model_module_version": "1.2.0",
      "_model_name": "LayoutModel",
      "_view_count": null,
      "_view_module": "@jupyter-widgets/base",
      "_view_module_version": "1.2.0",
      "_view_name": "LayoutView",
      "align_content": null,
      "align_items": null,
      "align_self": null,
      "border": null,
      "bottom": null,
      "display": null,
      "flex": null,
      "flex_flow": null,
      "grid_area": null,
      "grid_auto_columns": null,
      "grid_auto_flow": null,
      "grid_auto_rows": null,
      "grid_column": null,
      "grid_gap": null,
      "grid_row": null,
      "grid_template_areas": null,
      "grid_template_columns": null,
      "grid_template_rows": null,
      "height": null,
      "justify_content": null,
      "justify_items": null,
      "left": null,
      "margin": null,
      "max_height": null,
      "max_width": null,
      "min_height": null,
      "min_width": null,
      "object_fit": null,
      "object_position": null,
      "order": null,
      "overflow": null,
      "overflow_x": null,
      "overflow_y": null,
      "padding": null,
      "right": null,
      "top": null,
      "visibility": null,
      "width": null
     }
    },
    "940ed9d8a261488692dae6ccc5e312d8": {
     "model_module": "@jupyter-widgets/base",
     "model_module_version": "1.2.0",
     "model_name": "LayoutModel",
     "state": {
      "_model_module": "@jupyter-widgets/base",
      "_model_module_version": "1.2.0",
      "_model_name": "LayoutModel",
      "_view_count": null,
      "_view_module": "@jupyter-widgets/base",
      "_view_module_version": "1.2.0",
      "_view_name": "LayoutView",
      "align_content": null,
      "align_items": null,
      "align_self": null,
      "border": null,
      "bottom": null,
      "display": null,
      "flex": null,
      "flex_flow": null,
      "grid_area": null,
      "grid_auto_columns": null,
      "grid_auto_flow": null,
      "grid_auto_rows": null,
      "grid_column": null,
      "grid_gap": null,
      "grid_row": null,
      "grid_template_areas": null,
      "grid_template_columns": null,
      "grid_template_rows": null,
      "height": null,
      "justify_content": null,
      "justify_items": null,
      "left": null,
      "margin": null,
      "max_height": null,
      "max_width": null,
      "min_height": null,
      "min_width": null,
      "object_fit": null,
      "object_position": null,
      "order": null,
      "overflow": null,
      "overflow_x": null,
      "overflow_y": null,
      "padding": null,
      "right": null,
      "top": null,
      "visibility": null,
      "width": null
     }
    },
    "9de33e67dfd748fcb4eb12f1916998dd": {
     "model_module": "@jupyter-widgets/controls",
     "model_module_version": "1.5.0",
     "model_name": "HBoxModel",
     "state": {
      "_dom_classes": [],
      "_model_module": "@jupyter-widgets/controls",
      "_model_module_version": "1.5.0",
      "_model_name": "HBoxModel",
      "_view_count": null,
      "_view_module": "@jupyter-widgets/controls",
      "_view_module_version": "1.5.0",
      "_view_name": "HBoxView",
      "box_style": "",
      "children": [
       "IPY_MODEL_b35a017235c4426ea5e7b148a3aad311",
       "IPY_MODEL_4681a11fb2c74fa28f7a7a7043d99f80",
       "IPY_MODEL_5575e74dab7843d591675fad64b8e2d4"
      ],
      "layout": "IPY_MODEL_8899b2b697b44df0a458f2a3cc7af2db"
     }
    },
    "a54ddb5fe779418bb54c675e53da5da6": {
     "model_module": "@jupyter-widgets/base",
     "model_module_version": "1.2.0",
     "model_name": "LayoutModel",
     "state": {
      "_model_module": "@jupyter-widgets/base",
      "_model_module_version": "1.2.0",
      "_model_name": "LayoutModel",
      "_view_count": null,
      "_view_module": "@jupyter-widgets/base",
      "_view_module_version": "1.2.0",
      "_view_name": "LayoutView",
      "align_content": null,
      "align_items": null,
      "align_self": null,
      "border": null,
      "bottom": null,
      "display": null,
      "flex": null,
      "flex_flow": null,
      "grid_area": null,
      "grid_auto_columns": null,
      "grid_auto_flow": null,
      "grid_auto_rows": null,
      "grid_column": null,
      "grid_gap": null,
      "grid_row": null,
      "grid_template_areas": null,
      "grid_template_columns": null,
      "grid_template_rows": null,
      "height": null,
      "justify_content": null,
      "justify_items": null,
      "left": null,
      "margin": null,
      "max_height": null,
      "max_width": null,
      "min_height": null,
      "min_width": null,
      "object_fit": null,
      "object_position": null,
      "order": null,
      "overflow": null,
      "overflow_x": null,
      "overflow_y": null,
      "padding": null,
      "right": null,
      "top": null,
      "visibility": null,
      "width": null
     }
    },
    "b12545f75afa4ce2aec39b808ca1b79e": {
     "model_module": "@jupyter-widgets/base",
     "model_module_version": "1.2.0",
     "model_name": "LayoutModel",
     "state": {
      "_model_module": "@jupyter-widgets/base",
      "_model_module_version": "1.2.0",
      "_model_name": "LayoutModel",
      "_view_count": null,
      "_view_module": "@jupyter-widgets/base",
      "_view_module_version": "1.2.0",
      "_view_name": "LayoutView",
      "align_content": null,
      "align_items": null,
      "align_self": null,
      "border": null,
      "bottom": null,
      "display": null,
      "flex": null,
      "flex_flow": null,
      "grid_area": null,
      "grid_auto_columns": null,
      "grid_auto_flow": null,
      "grid_auto_rows": null,
      "grid_column": null,
      "grid_gap": null,
      "grid_row": null,
      "grid_template_areas": null,
      "grid_template_columns": null,
      "grid_template_rows": null,
      "height": null,
      "justify_content": null,
      "justify_items": null,
      "left": null,
      "margin": null,
      "max_height": null,
      "max_width": null,
      "min_height": null,
      "min_width": null,
      "object_fit": null,
      "object_position": null,
      "order": null,
      "overflow": null,
      "overflow_x": null,
      "overflow_y": null,
      "padding": null,
      "right": null,
      "top": null,
      "visibility": null,
      "width": null
     }
    },
    "b35a017235c4426ea5e7b148a3aad311": {
     "model_module": "@jupyter-widgets/controls",
     "model_module_version": "1.5.0",
     "model_name": "HTMLModel",
     "state": {
      "_dom_classes": [],
      "_model_module": "@jupyter-widgets/controls",
      "_model_module_version": "1.5.0",
      "_model_name": "HTMLModel",
      "_view_count": null,
      "_view_module": "@jupyter-widgets/controls",
      "_view_module_version": "1.5.0",
      "_view_name": "HTMLView",
      "description": "",
      "description_tooltip": null,
      "layout": "IPY_MODEL_bafc114ed3134a6e90baa029d9c12e47",
      "placeholder": "​",
      "style": "IPY_MODEL_27baae0d11d544c19a6985c5d52a3002",
      "value": "config.json: 100%"
     }
    },
    "b56d62235bf74153bda9fbff0ef9265e": {
     "model_module": "@jupyter-widgets/controls",
     "model_module_version": "1.5.0",
     "model_name": "DescriptionStyleModel",
     "state": {
      "_model_module": "@jupyter-widgets/controls",
      "_model_module_version": "1.5.0",
      "_model_name": "DescriptionStyleModel",
      "_view_count": null,
      "_view_module": "@jupyter-widgets/base",
      "_view_module_version": "1.2.0",
      "_view_name": "StyleView",
      "description_width": ""
     }
    },
    "bafc114ed3134a6e90baa029d9c12e47": {
     "model_module": "@jupyter-widgets/base",
     "model_module_version": "1.2.0",
     "model_name": "LayoutModel",
     "state": {
      "_model_module": "@jupyter-widgets/base",
      "_model_module_version": "1.2.0",
      "_model_name": "LayoutModel",
      "_view_count": null,
      "_view_module": "@jupyter-widgets/base",
      "_view_module_version": "1.2.0",
      "_view_name": "LayoutView",
      "align_content": null,
      "align_items": null,
      "align_self": null,
      "border": null,
      "bottom": null,
      "display": null,
      "flex": null,
      "flex_flow": null,
      "grid_area": null,
      "grid_auto_columns": null,
      "grid_auto_flow": null,
      "grid_auto_rows": null,
      "grid_column": null,
      "grid_gap": null,
      "grid_row": null,
      "grid_template_areas": null,
      "grid_template_columns": null,
      "grid_template_rows": null,
      "height": null,
      "justify_content": null,
      "justify_items": null,
      "left": null,
      "margin": null,
      "max_height": null,
      "max_width": null,
      "min_height": null,
      "min_width": null,
      "object_fit": null,
      "object_position": null,
      "order": null,
      "overflow": null,
      "overflow_x": null,
      "overflow_y": null,
      "padding": null,
      "right": null,
      "top": null,
      "visibility": null,
      "width": null
     }
    },
    "c51b8ec0438d464f9265c7fe80c82146": {
     "model_module": "@jupyter-widgets/base",
     "model_module_version": "1.2.0",
     "model_name": "LayoutModel",
     "state": {
      "_model_module": "@jupyter-widgets/base",
      "_model_module_version": "1.2.0",
      "_model_name": "LayoutModel",
      "_view_count": null,
      "_view_module": "@jupyter-widgets/base",
      "_view_module_version": "1.2.0",
      "_view_name": "LayoutView",
      "align_content": null,
      "align_items": null,
      "align_self": null,
      "border": null,
      "bottom": null,
      "display": null,
      "flex": null,
      "flex_flow": null,
      "grid_area": null,
      "grid_auto_columns": null,
      "grid_auto_flow": null,
      "grid_auto_rows": null,
      "grid_column": null,
      "grid_gap": null,
      "grid_row": null,
      "grid_template_areas": null,
      "grid_template_columns": null,
      "grid_template_rows": null,
      "height": null,
      "justify_content": null,
      "justify_items": null,
      "left": null,
      "margin": null,
      "max_height": null,
      "max_width": null,
      "min_height": null,
      "min_width": null,
      "object_fit": null,
      "object_position": null,
      "order": null,
      "overflow": null,
      "overflow_x": null,
      "overflow_y": null,
      "padding": null,
      "right": null,
      "top": null,
      "visibility": null,
      "width": null
     }
    },
    "d042927b3f124d90baba6d2e105496a1": {
     "model_module": "@jupyter-widgets/controls",
     "model_module_version": "1.5.0",
     "model_name": "FloatProgressModel",
     "state": {
      "_dom_classes": [],
      "_model_module": "@jupyter-widgets/controls",
      "_model_module_version": "1.5.0",
      "_model_name": "FloatProgressModel",
      "_view_count": null,
      "_view_module": "@jupyter-widgets/controls",
      "_view_module_version": "1.5.0",
      "_view_name": "ProgressView",
      "bar_style": "success",
      "description": "",
      "description_tooltip": null,
      "layout": "IPY_MODEL_136c4ad833744750adec60ee8ea4b632",
      "max": 160,
      "min": 0,
      "orientation": "horizontal",
      "style": "IPY_MODEL_df1604db477447598b8289e3caf93e6e",
      "value": 160
     }
    },
    "d0cc596050554fe9bc55fb361d269713": {
     "model_module": "@jupyter-widgets/controls",
     "model_module_version": "1.5.0",
     "model_name": "DescriptionStyleModel",
     "state": {
      "_model_module": "@jupyter-widgets/controls",
      "_model_module_version": "1.5.0",
      "_model_name": "DescriptionStyleModel",
      "_view_count": null,
      "_view_module": "@jupyter-widgets/base",
      "_view_module_version": "1.2.0",
      "_view_name": "StyleView",
      "description_width": ""
     }
    },
    "de9739914bf048e19ed04f43cb1cb3a4": {
     "model_module": "@jupyter-widgets/controls",
     "model_module_version": "1.5.0",
     "model_name": "ProgressStyleModel",
     "state": {
      "_model_module": "@jupyter-widgets/controls",
      "_model_module_version": "1.5.0",
      "_model_name": "ProgressStyleModel",
      "_view_count": null,
      "_view_module": "@jupyter-widgets/base",
      "_view_module_version": "1.2.0",
      "_view_name": "StyleView",
      "bar_color": null,
      "description_width": ""
     }
    },
    "df1604db477447598b8289e3caf93e6e": {
     "model_module": "@jupyter-widgets/controls",
     "model_module_version": "1.5.0",
     "model_name": "ProgressStyleModel",
     "state": {
      "_model_module": "@jupyter-widgets/controls",
      "_model_module_version": "1.5.0",
      "_model_name": "ProgressStyleModel",
      "_view_count": null,
      "_view_module": "@jupyter-widgets/base",
      "_view_module_version": "1.2.0",
      "_view_name": "StyleView",
      "bar_color": null,
      "description_width": ""
     }
    },
    "e1da49b729174408abcfc5515093fc4d": {
     "model_module": "@jupyter-widgets/controls",
     "model_module_version": "1.5.0",
     "model_name": "HTMLModel",
     "state": {
      "_dom_classes": [],
      "_model_module": "@jupyter-widgets/controls",
      "_model_module_version": "1.5.0",
      "_model_name": "HTMLModel",
      "_view_count": null,
      "_view_module": "@jupyter-widgets/controls",
      "_view_module_version": "1.5.0",
      "_view_name": "HTMLView",
      "description": "",
      "description_tooltip": null,
      "layout": "IPY_MODEL_e8fee5fef8d4418ead653900e3b7f272",
      "placeholder": "​",
      "style": "IPY_MODEL_10f586ea666a42e99398e16dcbbacaa5",
      "value": " 160/160 [00:00&lt;00:00, 5.02kB/s]"
     }
    },
    "e3db548ef79d404e80c55025b0e21f04": {
     "model_module": "@jupyter-widgets/controls",
     "model_module_version": "1.5.0",
     "model_name": "ProgressStyleModel",
     "state": {
      "_model_module": "@jupyter-widgets/controls",
      "_model_module_version": "1.5.0",
      "_model_name": "ProgressStyleModel",
      "_view_count": null,
      "_view_module": "@jupyter-widgets/base",
      "_view_module_version": "1.2.0",
      "_view_name": "StyleView",
      "bar_color": null,
      "description_width": ""
     }
    },
    "e8fee5fef8d4418ead653900e3b7f272": {
     "model_module": "@jupyter-widgets/base",
     "model_module_version": "1.2.0",
     "model_name": "LayoutModel",
     "state": {
      "_model_module": "@jupyter-widgets/base",
      "_model_module_version": "1.2.0",
      "_model_name": "LayoutModel",
      "_view_count": null,
      "_view_module": "@jupyter-widgets/base",
      "_view_module_version": "1.2.0",
      "_view_name": "LayoutView",
      "align_content": null,
      "align_items": null,
      "align_self": null,
      "border": null,
      "bottom": null,
      "display": null,
      "flex": null,
      "flex_flow": null,
      "grid_area": null,
      "grid_auto_columns": null,
      "grid_auto_flow": null,
      "grid_auto_rows": null,
      "grid_column": null,
      "grid_gap": null,
      "grid_row": null,
      "grid_template_areas": null,
      "grid_template_columns": null,
      "grid_template_rows": null,
      "height": null,
      "justify_content": null,
      "justify_items": null,
      "left": null,
      "margin": null,
      "max_height": null,
      "max_width": null,
      "min_height": null,
      "min_width": null,
      "object_fit": null,
      "object_position": null,
      "order": null,
      "overflow": null,
      "overflow_x": null,
      "overflow_y": null,
      "padding": null,
      "right": null,
      "top": null,
      "visibility": null,
      "width": null
     }
    },
    "f542601db95c41f8bab4493ed79f4f3f": {
     "model_module": "@jupyter-widgets/controls",
     "model_module_version": "1.5.0",
     "model_name": "DescriptionStyleModel",
     "state": {
      "_model_module": "@jupyter-widgets/controls",
      "_model_module_version": "1.5.0",
      "_model_name": "DescriptionStyleModel",
      "_view_count": null,
      "_view_module": "@jupyter-widgets/base",
      "_view_module_version": "1.2.0",
      "_view_name": "StyleView",
      "description_width": ""
     }
    },
    "fbb42046c3ae4da1b392b0beb0fb799e": {
     "model_module": "@jupyter-widgets/base",
     "model_module_version": "1.2.0",
     "model_name": "LayoutModel",
     "state": {
      "_model_module": "@jupyter-widgets/base",
      "_model_module_version": "1.2.0",
      "_model_name": "LayoutModel",
      "_view_count": null,
      "_view_module": "@jupyter-widgets/base",
      "_view_module_version": "1.2.0",
      "_view_name": "LayoutView",
      "align_content": null,
      "align_items": null,
      "align_self": null,
      "border": null,
      "bottom": null,
      "display": null,
      "flex": null,
      "flex_flow": null,
      "grid_area": null,
      "grid_auto_columns": null,
      "grid_auto_flow": null,
      "grid_auto_rows": null,
      "grid_column": null,
      "grid_gap": null,
      "grid_row": null,
      "grid_template_areas": null,
      "grid_template_columns": null,
      "grid_template_rows": null,
      "height": null,
      "justify_content": null,
      "justify_items": null,
      "left": null,
      "margin": null,
      "max_height": null,
      "max_width": null,
      "min_height": null,
      "min_width": null,
      "object_fit": null,
      "object_position": null,
      "order": null,
      "overflow": null,
      "overflow_x": null,
      "overflow_y": null,
      "padding": null,
      "right": null,
      "top": null,
      "visibility": null,
      "width": null
     }
    }
   }
  }
 },
 "nbformat": 4,
 "nbformat_minor": 4
}
